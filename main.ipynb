{
 "cells": [
  {
   "cell_type": "code",
   "execution_count": 30,
   "id": "4b33c2c7",
   "metadata": {
    "scrolled": true
   },
   "outputs": [],
   "source": [
    "\n",
    "\n",
    "from langchain_community.document_loaders import YoutubeLoader\n",
    "# from spire.doc import *\n",
    "# from spire.doc.common import *\n",
    "import os\n",
    "from dotenv import load_dotenv\n",
    "load_dotenv()\n",
    "from langchain_community.llms import HuggingFaceEndpoint\n",
    "import re\n",
    "from langchain.chains import LLMChain\n",
    "from langchain.prompts import PromptTemplate"
   ]
  },
  {
   "cell_type": "code",
   "execution_count": 31,
   "id": "38a18f16",
   "metadata": {},
   "outputs": [],
   "source": [
    "os.environ['HUGGINGFACEHUB_API_TOKEN'] = os.getenv(\"HUGGINGFACEHUB_API_TOKEN\")"
   ]
  },
  {
   "cell_type": "code",
   "execution_count": 32,
   "id": "5caf490f",
   "metadata": {},
   "outputs": [],
   "source": [
    "youtube_url=input(\"Youtube Link:\")\n",
    "loader = YoutubeLoader.from_youtube_url(\n",
    "    youtube_url, add_video_info=False\n",
    ")\n",
    "\n"
   ]
  },
  {
   "cell_type": "code",
   "execution_count": 33,
   "id": "fe9f9157",
   "metadata": {},
   "outputs": [],
   "source": [
    "documents = loader.load()  # Assuming this returns a list of Document objects\n",
    "\n"
   ]
  },
  {
   "cell_type": "code",
   "execution_count": 34,
   "id": "9822a59b",
   "metadata": {},
   "outputs": [
    {
     "data": {
      "text/plain": [
       "[Document(page_content=\"- I've spent most of my career trying to get into a chip fab. Samsung's a hard no, Global Foundries was open to it in person, then ghosted me when I followed up and Intel has said no to me, every single time I've asked except one. Honestly, I'm pretty overwhelmed today because I'm gonna be\\ntaking three major items off my bucket list. I'm visiting Israel for the first time, I'm gonna be going deep\\ninto the heart of Intel's state of the art fab 28 and I get to tell you about our sponsor. - Zoho CRM, Zoho CRM is a 360 degree solution that offers an intuitive UI, AI predictions and a design studio to help you get your sales done faster. Get 50% off with the code\\nZCRM50 using the link below. (upbeat music) (upbeat music) - My tour guide today\\ncouldn't be more experienced. Dani is the Co-General Manager of Worldwide Semiconductor Manufacturing and started at Intel working\\nin fab 8 in Jerusalem back when state of the\\nart was the Pentium one. Microprocessor fabrication experts can safely skip ahead a couple of minutes, but for everyone else, let's run through the basics. Every CPU die, every one of these starts\\nwith a sliced up silicon ingot like the one right here. These are astonishingly pure and are exactly 300\\nmillimeters in diameter. If they went in any smaller, they'd increase waste around the edges. I mean look at this, obviously this is not\\ngonna be a working chip if it's cut off by the edge of the circle. Fun fact by the way, the reason that they run\\nthe non-working edge dies through all of the same\\nfabrication processes is that it actually\\nimproves the uniformity of the full chips next to them. Consistency is key in CPU manufacturing, because even though we talk\\nabout these chips in terms like 14 or 10 nanometer, the components that make\\nup these transistors are much smaller, like on the order of less than a nanometer and a tiny error or contaminant in any of the hundreds\\nof manufacturing steps means that that die, he no worky. I mean it's a modern miracle\\nthat any of this is possible and is basically unheard of to get an entire 300 millimeter\\nwafer through the fab without a single defective dye on it. Before it can be sold however, it needs to be transformed\\nfrom melted sand like this into the brains of your PC. Silicon you see is neither an insulator, nor is it a true conductor. So to create all the little transistors or switches that control current flow through the logic gates and other microstructures on the chip, the wafer needs to undergo many processes. Implantation fires dopant ions into the surface of the silicon to alter its electrical characteristics. So depending on what kinds\\nof ions are implanted, say phosphorous or boron, you might be laying the\\ngroundwork for an n-type or a p-type transistor. This determines if the voltage\\nis negative or positive to open the gate. Diffusion furnaces create\\nnew combined materials by exposing the wafer to various gases at up to 100s of degrees celsius. Lithography, is one of the easiest steps\\nto understand conceptually, but also one of the most important. Within a single processor die, there are billions of transistors and literally kilometers of tiny wires, but they're obviously far\\ntoo small to build them and solder them together by hand. So the wafer gets coated with\\na material called photoresist, then exposed to UV light through a mask. Anywhere the light\\npasses through the mask, the photo resist will be removed, allowing the exposed\\nportions to be processed. Then it's quite literally\\nrinse and repeat. Nikon, who does a lot more\\nthan make cameras by the way has a great diagram on their\\nsite demonstrating this. So one such potential\\nprocessing step is etching where the goal is to\\nselectively remove material from the top of the wafer,\\ncreating trenches in it. These can be overfilled with\\ncopper to create interconnects then the excess gets\\nremoved by polishing it off using brushes and slurry in a process called Chemical\\nMechanical Planarization. There are different kinds of etching but we can talk about that\\nmore once we get inside. (upbeat music) This is it. Point no return, here we go. There's no card or anything\\njust, yeah it's very, good high security. Time to learn the procedure. This is great, this is very inclusive, they have child size\\ngloves for people like me. This is crazy. So these are not the gloves\\nwe wear in the clean room, these are the gloves to put on the stuff that we're\\ngonna wear in the clean room that will be contaminated that then we will get rid of after. Wow, man I'm looking sharp. Now time for stage two. basically we grab have a couple of little foot cover doodads here and\\nthis room is pressurized and the idea is that\\nthese, these aren't like filtered like the clean\\nroom or anything like that but by having a little bit\\nof pressure in this room, we keep the super stanky\\nair from outside, out. So when you walk into here, you feel this gust of air coming out and then what you're supposed to do is you're supposed to have\\ndirty stuff on this side and then clean stuff on this side. So I gotta put my little booties on, did I do it right? Yep. Okay so there's more\\npositive pressure in here blowing that way, right? - Yes. - So the idea then I guess is the air gets cleaner and cleaner as we go. Okay, what do I do? - You start with the hood.\\n- Yes. - [Staff] Start from bot, top to bottom. - Top to bottom.\\n- Yeah. - Okay, why do we go top to bottom? So that the dust won't fall\\noff our top onto our bottom. - Better that it'll suit\\ninto the bunny suits. - Oh, got it. 'Cause that's how the garments overlap. I have a feeling our audio is not gonna be our finest ever for this video. Ladies and gentlemen\\nyou'll have to bear with us cuz my microphone is already under three layers of fabric now. (upbeat music) - We're out of the gown room into the fab. - Into the fab. - And it's already crazy. Can you see these like\\nrobots on tracks up here. Apparently these are taking the foups, and I check that is actually\\nwhat's called F O U P, which is 25 wafers. So that's 25 slices of the\\noriginal silicon ingot. That foup we just saw, that\\nlittle robot on the track had hundreds of CPU dies in it, but we don't know how\\nmany of them are good because they're actually\\non their way to sorting where not only will they\\ndetermine if they work, but they'll determine how well. So is it a core I7 or a core I9. Every guy wants to live, it sounds like a nerdy James Bond film. I love it. (upbeat music) Oh my God. This place is a lot bigger\\nthan it initially looked. How many square feet is this? - Four football fields. - [Dani] So lithography is over there. Diffusion is over there.\\n- Diffusion over there. - ...the result of diffusion. - and deposition was over there? - Dry and wet etching on the side. - Etching. - And planar. - And planing. So we're gonna look at all of that but there's no particular\\norder for these steps because once a foup comes\\nin here, you guys can see, there're whipping around\\nall over the place. There are hundreds of stages. Each Alder Lake CPU die\\nmight go from lithography to planing to deposition, back and forth hundreds of times, (upbeat music) Every silicon wafer\\ncomes to diffusion land and basically what these machines do. They're more like a, a furnace and they will take that top\\nlayer of silicon on the wafer and they will diffuse it with\\nsome kind of other material. I asked for some examples, but other than silicon oxide, they wouldn't really tell anything and in fact, they wouldn't even tell me what the first material layer would be for pure processors that\\nthey're making here now. Here we go, we can actually\\nsee the robot arm inside that would take the silicon\\nwafers out of the foup and position them as\\nneeded for the machine. This is the loading area down here that we can see through the window and then on top is the actual furnace where it reaches 100s of degrees and then it has gases in there that help them to achieve whatever kind of chemical\\nchanges that they're going for on top of the wafer. One thing Intel's been\\nvery particular about is don't touch anything because\\nit's more than just, you know, not pressing the wrong button, but actually even just\\nbumping these machines. When you're trying to build\\nsomething that has structures in it that are on the side\\neyes order of nanometers, that means that the building\\nblocks of that thing are sub-nanometer in some cases. So you, you actually, you cannot, you cannot bump one of these\\nmachines while it's running and in fact, they only build their fabs on particularly stable parts of the world where they don't have to\\nworry about seismic activity. This is cool. As we're walking through diffusion, we actually got a great\\nopportunity to show you guys the multi-level structure of the fab. So what we're walking on is\\nonly 1 of 4 total layers. Above us are filters and the air comes from there down to here. Then below us is where\\nthey're gonna have pumps, chemistry delivery, you can see these punch-outs\\nin the floor here. You can actually see there's like a foam, like vent of some sort\\ngoing up into the machine that's next to us and then the air flows from top to bottom so it goes down to that layer, then it goes down to one more layer where they have water,\\nutilities like electricity as well as exhaust. So that air goes back up\\nthe side of the building and recirculates. In total, Intel expects anywhere from 0 to 1 particle part, what was the unit of volume? 1 meter cubed and for context, an operating room could have tens of thousands of\\nparticles per meter cubed. So you, you could conceivably\\nperform surgery in here, assuming you were qualified. I asked about this sign and apparently it's just to make sure that as people are blowing\\nthough this corridor, they don't accidentally smoke someone coming out of the reticle room. This is one of those secret areas, even here inside the fab\\nwhich is already a secret area because it contains some of\\nthe most expensive materials that they need for lithography it's also some of the most top secret. Now under normal circumstances, every one of these stations\\nwould be occupied by someone. In fact, the entire factory\\nruns on 4 shifts a day, 24/7, 364 days a year, only\\nshutting down for Yom Kippur. So I didn't ask because I'm\\nafraid to know the answer, but I think it's probably\\ncosting Intel a fair amount to have us in here poking around while they didn't sponsor\\nthe video or anything. Definitely shout out to Intel for how much it's costing them\\nfor us to make this video. On that note, here's something cool. These tools are maybe not as sophisticated as some of the other\\ntools here in the fab, you got your flathead screwdriver but the process is what's fascinating because taking a machine like this offline for more than a few minutes\\nat a time, very, very costly. So they handle it kind of\\nlike a formula one pit crew. They've got all their tools,\\neverything's arranged, freaking ready to rock. They go, okay time, we're shutting it off, we're\\nperforming maintenance, go, go, go, go, go, go, go, fire it back up. That's it. Don't worry, I will not hit any buttons. This is the emo button, okay? The machine will get\\nvery sad if you press it. This machine right here is\\ndoing dry etching right now. So the foups come down\\noff of the track up there and then while they're waiting, you can see they're actually sitting out cause they sit away from the machine and while they're being processed, they come up right next to it here, and then you can see\\nthere's a robot arm inside grabbing wafers, whipping them around. It just throws it on here\\nfor a span of, I don't know, 5 or 10 seconds, boom, it's dry etched. It goes back in the foup and then that whole foup\\nis gonna head off to whatever the next step is for\\nthis particular processor. We don't know exactly what it's making, but everything here is Intel 7 so, modern CPUs pretty much or maybe future CPUs for all I know. Not every drying machine is identical as you guys can imagine. For all the different\\nspecialized processes that a wafer goes through, there might be different machinery. So this is another example\\nof a dry etching machine where the wafer actually\\nsits in this chamber in here and does whatever the heck it's doing. Now we're heading back to\\nthe lithography area again, which is why the lighting in the fab has changed back to yellow and the reason for that\\nis they use UV light to expose the wafers. So if they have white light, it could easily contain\\nparts of the spectrum that could accidentally expose the wafer. So they have to use these\\ncarefully controlled light sources that will not cause\\nany damage to the wafer as they're ripping around in the foup or going in and out of the machines. Fun fact, each of these machines\\ncosts on the order of 30$ to $40 million and it doesn't take a rocket scientist to figure out or I should say a, a chip architect to figure out that when you put this many\\nof them packed this tight into an area of the size\\nof four football pitches, that's gonna cost a pretty penny and it's because of those costs\\nthat they actually have this entire sort of row of cabinets\\nI guess you could call it in between the east and\\nwest side of the fab. This entire thing is full of foups that are just waiting to be processed because the second one of\\nthose machines is available, you want to be loading it up with silicon so you can make more processors. Now we're out of lithography again, we're in the east side of the fab which is also freaking enormous and the first machine\\nthat we're encountering are deposition machines. So what these do is they'll take the wafer and they'll apply some extraordinarily thin layer of something, say for example, metal, okay? Then it comes back into the foup, back up to the rails and\\noff to the next step. Did I ever say, we're\\ngonna go see the planers. - [Dennis] - Yes you did. - Now depending on the\\nstage of wafer processing, cuz remember they you go back and forth hundreds of times for a single die, you don't necessarily want the\\nstraight edges of a dry etch, you might want this kind of\\ncurved shape of a wet edge. Now the actual exact shape is\\napparently extremely important and extremely difficult to control because unlike a dry\\netch, there's actually, you can actually hear\\nthe sound of the pump. You hear that right now, so there's actually\\nchemicals pumping inside. Another key consideration if you've got such expensive\\nmachinery is training. So one of the things that\\nIntel wanted to show us is how they're using augmented reality practically right here in the\\nfab for a variety of purposes. So one is due to COVID 19. Obviously some personnel were\\nnot able to be here in person for an extended period of time. So remote assist allows\\nsomeone who is here in person to actually have someone else\\nscribbling on a schematic or explaining it to them while\\nit hovers in front of them. Pretty freaking cool. It's also used as a training resource for maintenance of old machines so you can kind of learn by doing, and they're actually gonna\\ndo a practical demo for us. Hey, here's our, here's\\nour test guinea pig here and you got some my\\nmug, that's unfortunate. Oh, that's awesome. So it shows you all the tools you need. So there's a little instructional\\nvideo for how to do it. Very cool. Hey, look at me, I'm a fab\\nequipment maintenance technician. Unfortunately the windows on\\nthese machines are quite dark but we did manage to catch one that is being processed right now so we've got some footage to show guys. Essentially after the deposition step, you're gonna end up with\\nsome inherent unevenness that needs to be polished off. Now in the past, they might have actually submerged\\nthe wafers for polishing, but now it's actually done by a brush that has a slurry on\\nit that Intel said is, very proprietary. They wouldn't even give me any\\nhints as to what is in this, this polishing with liquid but they did tell me that the pressure as\\nwell as the motion of it has to be so precise that they\\ncould take off as little as a few atoms or molecules at a time. You could see the way for moving\\nback and forth on the, like spinning bottom. Crazy. One thing that's missing is\\nI don't see where that tray, that loads all the wafers in is. Where the foup is it? Haha, get it? Cause it's a foup. By the way, something I didn't mention before is that each of the\\ndifferent types of machines actually has a number, but it also has these animals because Intel found that especially in a multi-layered\\ndesign like fab 28, in order to make sure that the\\nmaintenance crew down below is actually, you know, shutting down the correct\\nmachine for maintenance up above, it's much easier to communicate\\nand much easier to remember, Oh, we're working on a giraffe\\nmachine or a ladybug machine. Apparently most of the staff\\nthat we saw in there though we're actually maintenance\\nstaff for the machines and the actual control center\\nor brain of the operation is elsewhere. So we're gonna head over there now. This is the remote\\noperational center, which is, you could think of kind of\\nlike the brains of the fab that we just saw. So if something goes wrong, it's gonna pop up as an\\nerror on someone's screen so it's the job of everyone in this room to optimize the overall\\nthroughput of the fab. So instead of having technicians\\nthere on the fab floor, moving things around\\nand looking at screens and turning dials, everything is done right here to ensure that they're pumping as\\nmany chips out as possible because once you invest 30$ to 40$ million in a machine times, however many were in there, (chuckles) you want them going as\\nhard as you possibly can, as often as you possibly can. (upbeat music) Every shift, they have to do two stretching\\nsessions in order to, you know, minimize the risk of RSI, cuz they're basically sitting\\nat their computers all day, every day, right? (applauds) But like the friend who\\nonly invited you to dinner because he wanted to show off his new car, Intel had a bit of an\\nagenda for inviting us here and that is to show off\\nthe enormous investment that they're making into fab 38. So everything that we just\\nsaw is about to be doubled. This roundabout, see you later in about two weeks. That entire construction site out there is going to be state of the art, new generation fabrication technology that will actually be integrated so tightly with the existing fab that you could actually\\ntake a wafer from one, utilize equipment in the other and then send it back\\nif you really needed to, although that's gonna be quite a distance for the foups to travel. To give you some idea of how enormous this\\nconstruction project is, Intel actually built their\\nown concrete production in the corner of the lot over there which you can see at the very back. Unreal. One of the big reasons Intel is building out fab\\ncapacity so aggressively right now is a new concept called IDM 2.0 where basically instead of only\\nbuilding their own products, they're going to be fabing products for third party companies which I personally given that we're sitting\\nin the middle of the largest ever global silicon shortage, I'm pretty excited about. Now, unfortunately there\\nare a couple of steps in the die creation process that we weren't able to see today. The addition of the bumps that connect the dye to the\\npackage through electro plating, that doesn't happen here\\nand quality control. QC starts with an end of the line E-test, which checks the functionality\\nof fake debugging structures and transistors that are specifically meant to be there to ensure that everything went\\ncorrectly in manufacturing. Then it proceeds to binning. Which is the process of\\nsorting the good dies according to their capabilities. Obviously the best of the\\nbest will become core I9, the next best will be core\\nI7 and so on and so forth. Other than that 12th\\ngen core or Alder Lake is a pretty unique product for Intel with much of the design and manufacturing done here in Israel. Once the wafer's done, Intel sends it to one of\\ntheir other facilities for slicing and packaging and a second validation step called class where they basically\\nburn in every single chip to ensure that no degradation took place and that the packaging was done properly. This along with design phase testing that simulates the effects of CPU aging is where it Intel's reputation\\nfor manufacturing quality comes from. I mean, think about it, when you're troubleshooting\\na system that won't boot the CPU is the last\\nthing you're gonna check because unless you dropped\\nit, it probably works. Packaging by the way, is gonna be getting a lot more complicated over the next few years\\nas multi-die processors like the upcoming Sapphire\\nRapids start rolling out and it's expected that\\nthe relatively basic packaging facilities of yesteryear are gonna be getting a lot more fab like. I mean, a packaging error on a $10,000 server CPU is a pretty expensive mistake\\ngiven that the whole thing needs to be thrown away at that stage if something goes wrong. Maybe that should be\\nthe next tour I request. Am I right? Actually, I'm not gonna\\npush my luck at the moment. This was a once in a lifetime opportunity and I'm extremely grateful\\nto Dani and his team. Shout out to Karen by\\nthe way for hosting me, to you guys for coming\\nand sharing it with me and of course, to my sponsor. Ting mobile. Ting mobile has rates\\nthat make it easier to see how much you can save by switching. They have a perfect plan for everybody no matter what your needs are. Unlimited talk and text for 10 bucks, data plans that start at $15, then there's their set 12 plan\\nwith 12 gigs of data for $35 and unlimited data for $45. If you like their previous,\\npay what you use plans, Ting mobile's flexed plans\\ncharging just $5 per gigabyte are still there. Data can also be shared\\nif you have a family plan so connect more phones to save more. You'll still get nationwide coverage and award-winning support. In fact, consumer\\nreports named Ting mobile their number one carrier in America. Pretty much any phone\\nwill work with Ting mobile so check them out atlinus.ting.com\\nand receive a $25 credit. If you guys enjoyed this video, maybe check out one of previous tours. It's been a little while, but\\nthey are excellent videos.\", metadata={'source': '2ehSCWoaOqQ'})]"
      ]
     },
     "execution_count": 34,
     "metadata": {},
     "output_type": "execute_result"
    }
   ],
   "source": [
    "documents"
   ]
  },
  {
   "cell_type": "code",
   "execution_count": 35,
   "id": "2c4b14f0",
   "metadata": {},
   "outputs": [],
   "source": [
    "def clean_text(text):\n",
    "    \"\"\"\n",
    "    Cleans the extracted text by removing unnecessary characters and whitespace.\n",
    "\n",
    "    Args:\n",
    "    text (str): Extracted text.\n",
    "\n",
    "    Returns:\n",
    "    str: Cleaned text.\n",
    "    \"\"\"\n",
    "    # Remove extra whitespace and newlines\n",
    "    cleaned_text = re.sub(r'\\s+', ' ', text)\n",
    "    # Remove non-printable characters\n",
    "    cleaned_text = re.sub(r'[^\\x00-\\x7F]+', '', cleaned_text)\n",
    "    # Remove any leading or trailing whitespace\n",
    "    cleaned_text = cleaned_text.strip()\n",
    "    return cleaned_text"
   ]
  },
  {
   "cell_type": "code",
   "execution_count": 36,
   "id": "f7bcb45d",
   "metadata": {},
   "outputs": [],
   "source": [
    "script=clean_text(documents[0].page_content)"
   ]
  },
  {
   "cell_type": "code",
   "execution_count": 37,
   "id": "27e89f62",
   "metadata": {},
   "outputs": [
    {
     "data": {
      "text/plain": [
       "\"- I've spent most of my career trying to get into a chip fab. Samsung's a hard no, Global Foundries was open to it in person, then ghosted me when I followed up and Intel has said no to me, every single time I've asked except one. Honestly, I'm pretty overwhelmed today because I'm gonna be taking three major items off my bucket list. I'm visiting Israel for the first time, I'm gonna be going deep into the heart of Intel's state of the art fab 28 and I get to tell you about our sponsor. - Zoho CRM, Zoho CRM is a 360 degree solution that offers an intuitive UI, AI predictions and a design studio to help you get your sales done faster. Get 50% off with the code ZCRM50 using the link below. (upbeat music) (upbeat music) - My tour guide today couldn't be more experienced. Dani is the Co-General Manager of Worldwide Semiconductor Manufacturing and started at Intel working in fab 8 in Jerusalem back when state of the art was the Pentium one. Microprocessor fabrication experts can safely skip ahead a couple of minutes, but for everyone else, let's run through the basics. Every CPU die, every one of these starts with a sliced up silicon ingot like the one right here. These are astonishingly pure and are exactly 300 millimeters in diameter. If they went in any smaller, they'd increase waste around the edges. I mean look at this, obviously this is not gonna be a working chip if it's cut off by the edge of the circle. Fun fact by the way, the reason that they run the non-working edge dies through all of the same fabrication processes is that it actually improves the uniformity of the full chips next to them. Consistency is key in CPU manufacturing, because even though we talk about these chips in terms like 14 or 10 nanometer, the components that make up these transistors are much smaller, like on the order of less than a nanometer and a tiny error or contaminant in any of the hundreds of manufacturing steps means that that die, he no worky. I mean it's a modern miracle that any of this is possible and is basically unheard of to get an entire 300 millimeter wafer through the fab without a single defective dye on it. Before it can be sold however, it needs to be transformed from melted sand like this into the brains of your PC. Silicon you see is neither an insulator, nor is it a true conductor. So to create all the little transistors or switches that control current flow through the logic gates and other microstructures on the chip, the wafer needs to undergo many processes. Implantation fires dopant ions into the surface of the silicon to alter its electrical characteristics. So depending on what kinds of ions are implanted, say phosphorous or boron, you might be laying the groundwork for an n-type or a p-type transistor. This determines if the voltage is negative or positive to open the gate. Diffusion furnaces create new combined materials by exposing the wafer to various gases at up to 100s of degrees celsius. Lithography, is one of the easiest steps to understand conceptually, but also one of the most important. Within a single processor die, there are billions of transistors and literally kilometers of tiny wires, but they're obviously far too small to build them and solder them together by hand. So the wafer gets coated with a material called photoresist, then exposed to UV light through a mask. Anywhere the light passes through the mask, the photo resist will be removed, allowing the exposed portions to be processed. Then it's quite literally rinse and repeat. Nikon, who does a lot more than make cameras by the way has a great diagram on their site demonstrating this. So one such potential processing step is etching where the goal is to selectively remove material from the top of the wafer, creating trenches in it. These can be overfilled with copper to create interconnects then the excess gets removed by polishing it off using brushes and slurry in a process called Chemical Mechanical Planarization. There are different kinds of etching but we can talk about that more once we get inside. (upbeat music) This is it. Point no return, here we go. There's no card or anything just, yeah it's very, good high security. Time to learn the procedure. This is great, this is very inclusive, they have child size gloves for people like me. This is crazy. So these are not the gloves we wear in the clean room, these are the gloves to put on the stuff that we're gonna wear in the clean room that will be contaminated that then we will get rid of after. Wow, man I'm looking sharp. Now time for stage two. basically we grab have a couple of little foot cover doodads here and this room is pressurized and the idea is that these, these aren't like filtered like the clean room or anything like that but by having a little bit of pressure in this room, we keep the super stanky air from outside, out. So when you walk into here, you feel this gust of air coming out and then what you're supposed to do is you're supposed to have dirty stuff on this side and then clean stuff on this side. So I gotta put my little booties on, did I do it right? Yep. Okay so there's more positive pressure in here blowing that way, right? - Yes. - So the idea then I guess is the air gets cleaner and cleaner as we go. Okay, what do I do? - You start with the hood. - Yes. - [Staff] Start from bot, top to bottom. - Top to bottom. - Yeah. - Okay, why do we go top to bottom? So that the dust won't fall off our top onto our bottom. - Better that it'll suit into the bunny suits. - Oh, got it. 'Cause that's how the garments overlap. I have a feeling our audio is not gonna be our finest ever for this video. Ladies and gentlemen you'll have to bear with us cuz my microphone is already under three layers of fabric now. (upbeat music) - We're out of the gown room into the fab. - Into the fab. - And it's already crazy. Can you see these like robots on tracks up here. Apparently these are taking the foups, and I check that is actually what's called F O U P, which is 25 wafers. So that's 25 slices of the original silicon ingot. That foup we just saw, that little robot on the track had hundreds of CPU dies in it, but we don't know how many of them are good because they're actually on their way to sorting where not only will they determine if they work, but they'll determine how well. So is it a core I7 or a core I9. Every guy wants to live, it sounds like a nerdy James Bond film. I love it. (upbeat music) Oh my God. This place is a lot bigger than it initially looked. How many square feet is this? - Four football fields. - [Dani] So lithography is over there. Diffusion is over there. - Diffusion over there. - ...the result of diffusion. - and deposition was over there? - Dry and wet etching on the side. - Etching. - And planar. - And planing. So we're gonna look at all of that but there's no particular order for these steps because once a foup comes in here, you guys can see, there're whipping around all over the place. There are hundreds of stages. Each Alder Lake CPU die might go from lithography to planing to deposition, back and forth hundreds of times, (upbeat music) Every silicon wafer comes to diffusion land and basically what these machines do. They're more like a, a furnace and they will take that top layer of silicon on the wafer and they will diffuse it with some kind of other material. I asked for some examples, but other than silicon oxide, they wouldn't really tell anything and in fact, they wouldn't even tell me what the first material layer would be for pure processors that they're making here now. Here we go, we can actually see the robot arm inside that would take the silicon wafers out of the foup and position them as needed for the machine. This is the loading area down here that we can see through the window and then on top is the actual furnace where it reaches 100s of degrees and then it has gases in there that help them to achieve whatever kind of chemical changes that they're going for on top of the wafer. One thing Intel's been very particular about is don't touch anything because it's more than just, you know, not pressing the wrong button, but actually even just bumping these machines. When you're trying to build something that has structures in it that are on the side eyes order of nanometers, that means that the building blocks of that thing are sub-nanometer in some cases. So you, you actually, you cannot, you cannot bump one of these machines while it's running and in fact, they only build their fabs on particularly stable parts of the world where they don't have to worry about seismic activity. This is cool. As we're walking through diffusion, we actually got a great opportunity to show you guys the multi-level structure of the fab. So what we're walking on is only 1 of 4 total layers. Above us are filters and the air comes from there down to here. Then below us is where they're gonna have pumps, chemistry delivery, you can see these punch-outs in the floor here. You can actually see there's like a foam, like vent of some sort going up into the machine that's next to us and then the air flows from top to bottom so it goes down to that layer, then it goes down to one more layer where they have water, utilities like electricity as well as exhaust. So that air goes back up the side of the building and recirculates. In total, Intel expects anywhere from 0 to 1 particle part, what was the unit of volume? 1 meter cubed and for context, an operating room could have tens of thousands of particles per meter cubed. So you, you could conceivably perform surgery in here, assuming you were qualified. I asked about this sign and apparently it's just to make sure that as people are blowing though this corridor, they don't accidentally smoke someone coming out of the reticle room. This is one of those secret areas, even here inside the fab which is already a secret area because it contains some of the most expensive materials that they need for lithography it's also some of the most top secret. Now under normal circumstances, every one of these stations would be occupied by someone. In fact, the entire factory runs on 4 shifts a day, 24/7, 364 days a year, only shutting down for Yom Kippur. So I didn't ask because I'm afraid to know the answer, but I think it's probably costing Intel a fair amount to have us in here poking around while they didn't sponsor the video or anything. Definitely shout out to Intel for how much it's costing them for us to make this video. On that note, here's something cool. These tools are maybe not as sophisticated as some of the other tools here in the fab, you got your flathead screwdriver but the process is what's fascinating because taking a machine like this offline for more than a few minutes at a time, very, very costly. So they handle it kind of like a formula one pit crew. They've got all their tools, everything's arranged, freaking ready to rock. They go, okay time, we're shutting it off, we're performing maintenance, go, go, go, go, go, go, go, fire it back up. That's it. Don't worry, I will not hit any buttons. This is the emo button, okay? The machine will get very sad if you press it. This machine right here is doing dry etching right now. So the foups come down off of the track up there and then while they're waiting, you can see they're actually sitting out cause they sit away from the machine and while they're being processed, they come up right next to it here, and then you can see there's a robot arm inside grabbing wafers, whipping them around. It just throws it on here for a span of, I don't know, 5 or 10 seconds, boom, it's dry etched. It goes back in the foup and then that whole foup is gonna head off to whatever the next step is for this particular processor. We don't know exactly what it's making, but everything here is Intel 7 so, modern CPUs pretty much or maybe future CPUs for all I know. Not every drying machine is identical as you guys can imagine. For all the different specialized processes that a wafer goes through, there might be different machinery. So this is another example of a dry etching machine where the wafer actually sits in this chamber in here and does whatever the heck it's doing. Now we're heading back to the lithography area again, which is why the lighting in the fab has changed back to yellow and the reason for that is they use UV light to expose the wafers. So if they have white light, it could easily contain parts of the spectrum that could accidentally expose the wafer. So they have to use these carefully controlled light sources that will not cause any damage to the wafer as they're ripping around in the foup or going in and out of the machines. Fun fact, each of these machines costs on the order of 30$ to $40 million and it doesn't take a rocket scientist to figure out or I should say a, a chip architect to figure out that when you put this many of them packed this tight into an area of the size of four football pitches, that's gonna cost a pretty penny and it's because of those costs that they actually have this entire sort of row of cabinets I guess you could call it in between the east and west side of the fab. This entire thing is full of foups that are just waiting to be processed because the second one of those machines is available, you want to be loading it up with silicon so you can make more processors. Now we're out of lithography again, we're in the east side of the fab which is also freaking enormous and the first machine that we're encountering are deposition machines. So what these do is they'll take the wafer and they'll apply some extraordinarily thin layer of something, say for example, metal, okay? Then it comes back into the foup, back up to the rails and off to the next step. Did I ever say, we're gonna go see the planers. - [Dennis] - Yes you did. - Now depending on the stage of wafer processing, cuz remember they you go back and forth hundreds of times for a single die, you don't necessarily want the straight edges of a dry etch, you might want this kind of curved shape of a wet edge. Now the actual exact shape is apparently extremely important and extremely difficult to control because unlike a dry etch, there's actually, you can actually hear the sound of the pump. You hear that right now, so there's actually chemicals pumping inside. Another key consideration if you've got such expensive machinery is training. So one of the things that Intel wanted to show us is how they're using augmented reality practically right here in the fab for a variety of purposes. So one is due to COVID 19. Obviously some personnel were not able to be here in person for an extended period of time. So remote assist allows someone who is here in person to actually have someone else scribbling on a schematic or explaining it to them while it hovers in front of them. Pretty freaking cool. It's also used as a training resource for maintenance of old machines so you can kind of learn by doing, and they're actually gonna do a practical demo for us. Hey, here's our, here's our test guinea pig here and you got some my mug, that's unfortunate. Oh, that's awesome. So it shows you all the tools you need. So there's a little instructional video for how to do it. Very cool. Hey, look at me, I'm a fab equipment maintenance technician. Unfortunately the windows on these machines are quite dark but we did manage to catch one that is being processed right now so we've got some footage to show guys. Essentially after the deposition step, you're gonna end up with some inherent unevenness that needs to be polished off. Now in the past, they might have actually submerged the wafers for polishing, but now it's actually done by a brush that has a slurry on it that Intel said is, very proprietary. They wouldn't even give me any hints as to what is in this, this polishing with liquid but they did tell me that the pressure as well as the motion of it has to be so precise that they could take off as little as a few atoms or molecules at a time. You could see the way for moving back and forth on the, like spinning bottom. Crazy. One thing that's missing is I don't see where that tray, that loads all the wafers in is. Where the foup is it? Haha, get it? Cause it's a foup. By the way, something I didn't mention before is that each of the different types of machines actually has a number, but it also has these animals because Intel found that especially in a multi-layered design like fab 28, in order to make sure that the maintenance crew down below is actually, you know, shutting down the correct machine for maintenance up above, it's much easier to communicate and much easier to remember, Oh, we're working on a giraffe machine or a ladybug machine. Apparently most of the staff that we saw in there though we're actually maintenance staff for the machines and the actual control center or brain of the operation is elsewhere. So we're gonna head over there now. This is the remote operational center, which is, you could think of kind of like the brains of the fab that we just saw. So if something goes wrong, it's gonna pop up as an error on someone's screen so it's the job of everyone in this room to optimize the overall throughput of the fab. So instead of having technicians there on the fab floor, moving things around and looking at screens and turning dials, everything is done right here to ensure that they're pumping as many chips out as possible because once you invest 30$ to 40$ million in a machine times, however many were in there, (chuckles) you want them going as hard as you possibly can, as often as you possibly can. (upbeat music) Every shift, they have to do two stretching sessions in order to, you know, minimize the risk of RSI, cuz they're basically sitting at their computers all day, every day, right? (applauds) But like the friend who only invited you to dinner because he wanted to show off his new car, Intel had a bit of an agenda for inviting us here and that is to show off the enormous investment that they're making into fab 38. So everything that we just saw is about to be doubled. This roundabout, see you later in about two weeks. That entire construction site out there is going to be state of the art, new generation fabrication technology that will actually be integrated so tightly with the existing fab that you could actually take a wafer from one, utilize equipment in the other and then send it back if you really needed to, although that's gonna be quite a distance for the foups to travel. To give you some idea of how enormous this construction project is, Intel actually built their own concrete production in the corner of the lot over there which you can see at the very back. Unreal. One of the big reasons Intel is building out fab capacity so aggressively right now is a new concept called IDM 2.0 where basically instead of only building their own products, they're going to be fabing products for third party companies which I personally given that we're sitting in the middle of the largest ever global silicon shortage, I'm pretty excited about. Now, unfortunately there are a couple of steps in the die creation process that we weren't able to see today. The addition of the bumps that connect the dye to the package through electro plating, that doesn't happen here and quality control. QC starts with an end of the line E-test, which checks the functionality of fake debugging structures and transistors that are specifically meant to be there to ensure that everything went correctly in manufacturing. Then it proceeds to binning. Which is the process of sorting the good dies according to their capabilities. Obviously the best of the best will become core I9, the next best will be core I7 and so on and so forth. Other than that 12th gen core or Alder Lake is a pretty unique product for Intel with much of the design and manufacturing done here in Israel. Once the wafer's done, Intel sends it to one of their other facilities for slicing and packaging and a second validation step called class where they basically burn in every single chip to ensure that no degradation took place and that the packaging was done properly. This along with design phase testing that simulates the effects of CPU aging is where it Intel's reputation for manufacturing quality comes from. I mean, think about it, when you're troubleshooting a system that won't boot the CPU is the last thing you're gonna check because unless you dropped it, it probably works. Packaging by the way, is gonna be getting a lot more complicated over the next few years as multi-die processors like the upcoming Sapphire Rapids start rolling out and it's expected that the relatively basic packaging facilities of yesteryear are gonna be getting a lot more fab like. I mean, a packaging error on a $10,000 server CPU is a pretty expensive mistake given that the whole thing needs to be thrown away at that stage if something goes wrong. Maybe that should be the next tour I request. Am I right? Actually, I'm not gonna push my luck at the moment. This was a once in a lifetime opportunity and I'm extremely grateful to Dani and his team. Shout out to Karen by the way for hosting me, to you guys for coming and sharing it with me and of course, to my sponsor. Ting mobile. Ting mobile has rates that make it easier to see how much you can save by switching. They have a perfect plan for everybody no matter what your needs are. Unlimited talk and text for 10 bucks, data plans that start at $15, then there's their set 12 plan with 12 gigs of data for $35 and unlimited data for $45. If you like their previous, pay what you use plans, Ting mobile's flexed plans charging just $5 per gigabyte are still there. Data can also be shared if you have a family plan so connect more phones to save more. You'll still get nationwide coverage and award-winning support. In fact, consumer reports named Ting mobile their number one carrier in America. Pretty much any phone will work with Ting mobile so check them out atlinus.ting.com and receive a $25 credit. If you guys enjoyed this video, maybe check out one of previous tours. It's been a little while, but they are excellent videos.\""
      ]
     },
     "execution_count": 37,
     "metadata": {},
     "output_type": "execute_result"
    }
   ],
   "source": [
    "script"
   ]
  },
  {
   "cell_type": "code",
   "execution_count": 38,
   "id": "acc1b0ed",
   "metadata": {},
   "outputs": [
    {
     "name": "stdout",
     "output_type": "stream",
     "text": [
      "The token has not been saved to the git credentials helper. Pass `add_to_git_credential=True` in this function directly or `--add-to-git-credential` if using via `huggingface-cli` if you want to set the git credential as well.\n",
      "Token is valid (permission: fineGrained).\n",
      "Your token has been saved to C:\\Users\\shiva\\.cache\\huggingface\\token\n",
      "Login successful\n"
     ]
    }
   ],
   "source": [
    "\n",
    "repo_id = \"mistralai/Mistral-7B-Instruct-v0.2\"  \n",
    "llm = HuggingFaceEndpoint(\n",
    "    repo_id=repo_id, temperature= 0.75, model_kwargs= {'max_length': 8192}, max_new_tokens=4096)"
   ]
  },
  {
   "cell_type": "code",
   "execution_count": 39,
   "id": "3ca5bc0c",
   "metadata": {},
   "outputs": [],
   "source": [
    "prompt=\"\"\"As an expert summarizer, your job is to condense the following YouTube video transcript into a summary of 500-550 words. Focus on capturing the essential points and main ideas, leaving out any unnecessary details.\n",
    "\n",
    "Example of a good summary:\n",
    "---\n",
    "Transcript: \n",
    "\"In this video, we delve into the impact of climate change on global weather patterns. The speaker explains how rising temperatures are causing more frequent and severe weather events, including hurricanes, floods, and droughts. Scientific data is presented to show the correlation between human activities and climate change. The video also discusses possible solutions to mitigate these effects, such as reducing carbon emissions and adopting sustainable practices. Interviews with climate scientists provide further insights into the urgency of addressing climate change.\"\n",
    "\n",
    "Summary:\n",
    "\"This video examines the effects of climate change on global weather patterns, highlighting the link between rising temperatures and increased frequency of extreme weather events. It presents scientific data demonstrating the human influence on climate change and discusses mitigation strategies like reducing carbon emissions and adopting sustainable practices. Insights from climate scientists underscore the urgency of taking action against climate change.\"\n",
    "---\n",
    "\n",
    "Here is the transcript you need to summarize:\n",
    "\"\"\"\n",
    "\n"
   ]
  },
  {
   "cell_type": "code",
   "execution_count": 40,
   "id": "2f4af3a3",
   "metadata": {},
   "outputs": [
    {
     "name": "stderr",
     "output_type": "stream",
     "text": [
      "\n",
      "KeyboardInterrupt\n",
      "\n"
     ]
    }
   ],
   "source": [
    "prompt_template = PromptTemplate(\n",
    "        input_variables=[\"text\"],\n",
    "        template=prompt+\"\"\"\n",
    "{text}\n",
    "\"\"\"\n",
    "    )\n",
    "\n",
    "    # Create an LLMChain with the LLM and prompt\n",
    "chain = prompt_template | llm\n",
    "    \n",
    "    # Run the chain to summarize the text\n",
    "summary = chain.invoke(script)"
   ]
  },
  {
   "cell_type": "code",
   "execution_count": null,
   "id": "86aa9e98",
   "metadata": {},
   "outputs": [],
   "source": []
  },
  {
   "cell_type": "code",
   "execution_count": 54,
   "id": "86242c01",
   "metadata": {},
   "outputs": [
    {
     "data": {
      "text/plain": [
       "'As an expert summarizer, your job is to condense the following YouTube video transcript into a summary of 500-550 words. Focus on capturing the essential points and main ideas, leaving out any unnecessary details.\\n\\nExample of a good summary:\\n---\\nTranscript: \\n\"In this video, we delve into the impact of climate change on global weather patterns. The speaker explains how rising temperatures are causing more frequent and severe weather events, including hurricanes, floods, and droughts. Scientific data is presented to show the correlation between human activities and climate change. The video also discusses possible solutions to mitigate these effects, such as reducing carbon emissions and adopting sustainable practices. Interviews with climate scientists provide further insights into the urgency of addressing climate change.\"\\n\\nSummary:\\n\"This video examines the effects of climate change on global weather patterns, highlighting the link between rising temperatures and increased frequency of extreme weather events. It presents scientific data demonstrating the human influence on climate change and discusses mitigation strategies like reducing carbon emissions and adopting sustainable practices. Insights from climate scientists underscore the urgency of taking action against climate change.\"\\n---\\n\\nHere is the transcript you need to summarize:\\n\\n{text}\\n'"
      ]
     },
     "execution_count": 54,
     "metadata": {},
     "output_type": "execute_result"
    }
   ],
   "source": [
    "prompt_template.template"
   ]
  },
  {
   "cell_type": "code",
   "execution_count": 55,
   "id": "27b6972f",
   "metadata": {},
   "outputs": [
    {
     "data": {
      "text/plain": [
       "\"\\n---\\n\\nTitle: Sentiment Analysis on Amazon Food Reviews: A Comparative Study with VADER and RoBERTa\\n\\nIn this video, the speaker provides a comprehensive tutorial on performing sentiment analysis on Amazon food reviews using Python. The tutorial covers two approaches: the traditional VADER (Valence Aware Dictionary and sEntiment Reasoner) method and the more advanced RoBERTa (Facebook AI's pre-trained transformer) method.\\n\\nThe speaker begins by introducing the project, importing necessary libraries, and loading the Amazon food reviews dataset. They discuss the importance of performing sentiment analysis on text data, particularly in understanding consumer behavior. The speaker then provides a brief overview of NLP (Natural Language Processing) and its role in sentiment analysis.\\n\\nBefore diving into the sentiment analysis techniques, the speaker performs some exploratory data analysis (EDA) on the dataset to understand its structure and distribution. They discuss the data's size, the number of positive and negative reviews, and the length of the reviews.\\n\\nThe speaker then introduces the VADER method, explaining its concept and its limitations. They demonstrate how to use VADER for sentiment analysis by tokenizing the text, performing part-of-speech tagging, and calculating sentiment scores. The speaker compares the sentiment scores of several examples to their human interpretation, highlighting the strengths and weaknesses of the VADER method.\\n\\nNext, the speaker discusses the RoBERTa model, which uses transformer-based deep learning for sentiment analysis. They explain how it can better understand the context of words and sentences, improving sentiment analysis accuracy. The speaker demonstrates how to use RoBERTa by tokenizing the text, encoding it, and calculating sentiment scores. They compare the sentiment scores of several examples to their human interpretation, showing the advantages of the RoBERTa model.\\n\\nThe speaker then performs sentiment analysis on the entire dataset using both methods and compares their results. They discuss the implications of their findings and the potential applications of sentiment analysis in various industries.\\n\\nFinally, the speaker introduces the Hugging Face Transformers pipeline, which simplifies sentiment analysis by providing pre-trained models and pipelines. They demonstrate how to use the pipeline for sentiment analysis, emphasizing its ease of use and efficiency.\\n\\nThroughout the video, the speaker provides code examples and encourages viewers to follow along, making it an excellent resource for those interested in sentiment analysis and NLP.\""
      ]
     },
     "execution_count": 55,
     "metadata": {},
     "output_type": "execute_result"
    }
   ],
   "source": [
    "summary"
   ]
  },
  {
   "cell_type": "code",
   "execution_count": 56,
   "id": "c9ecff93",
   "metadata": {},
   "outputs": [
    {
     "data": {
      "text/plain": [
       "2627"
      ]
     },
     "execution_count": 56,
     "metadata": {},
     "output_type": "execute_result"
    }
   ],
   "source": [
    "len(summary)"
   ]
  },
  {
   "cell_type": "code",
   "execution_count": 14,
   "id": "b440ac1e",
   "metadata": {},
   "outputs": [
    {
     "name": "stdout",
     "output_type": "stream",
     "text": [
      "The token has not been saved to the git credentials helper. Pass `add_to_git_credential=True` in this function directly or `--add-to-git-credential` if using via `huggingface-cli` if you want to set the git credential as well.\n",
      "Token is valid (permission: fineGrained).\n",
      "Your token has been saved to C:\\Users\\shiva\\.cache\\huggingface\\token\n",
      "Login successful\n"
     ]
    }
   ],
   "source": [
    "# repo_id2 = \"ai4bharat/indictrans2-en-indic-1B\"  \n",
    "# llm2 = HuggingFaceEndpoint(\n",
    "#     repo_id=repo_id, temperature= 0.75, model_kwargs= {'max_length': 8192}, max_new_tokens=4096)"
   ]
  },
  {
   "cell_type": "code",
   "execution_count": 57,
   "id": "093c03dc",
   "metadata": {},
   "outputs": [
    {
     "name": "stdout",
     "output_type": "stream",
     "text": [
      "The token has not been saved to the git credentials helper. Pass `add_to_git_credential=True` in this function directly or `--add-to-git-credential` if using via `huggingface-cli` if you want to set the git credential as well.\n",
      "Token is valid (permission: fineGrained).\n",
      "Your token has been saved to C:\\Users\\shiva\\.cache\\huggingface\\token\n",
      "Login successful\n"
     ]
    }
   ],
   "source": [
    "repo_id2 = \"Telugu-LLM-Labs/Indic-gemma-7b-finetuned-sft-Navarasa-2.0\"  \n",
    "llm2 = HuggingFaceEndpoint(\n",
    "    repo_id=repo_id, temperature= 0.75, model_kwargs= {'max_length': 8192}, max_new_tokens=4096)"
   ]
  },
  {
   "cell_type": "code",
   "execution_count": 60,
   "id": "6e693061",
   "metadata": {},
   "outputs": [],
   "source": [
    "language_needed=input(\"What language do you want translation in?\")"
   ]
  },
  {
   "cell_type": "code",
   "execution_count": 61,
   "id": "1d6471dc",
   "metadata": {},
   "outputs": [],
   "source": [
    "translation_prompt = \"\"\"Translate the below given text into hindi and then summarize it.:\\n{text}\"\"\""
   ]
  },
  {
   "cell_type": "code",
   "execution_count": 67,
   "id": "b09b64cb",
   "metadata": {},
   "outputs": [],
   "source": [
    "prompt_template = PromptTemplate(\n",
    "        input_variables=[\"text\"],\n",
    "        template=\"Translate the given text into conversational\"+ language_needed+\". Understand the text properly and correct any grammatical mistakes. Output the translated text in the form of points.:\\n{text}\")\n",
    "    # Create an LLMChain with the LLM and prompt\n",
    "chain = prompt_template | llm\n",
    "    \n",
    "    # Run the chain to summarize the text\n",
    "translated_summary = chain.invoke(summary)"
   ]
  },
  {
   "cell_type": "code",
   "execution_count": 70,
   "id": "bdc126cf",
   "metadata": {},
   "outputs": [
    {
     "name": "stdout",
     "output_type": "stream",
     "text": [
      "\n",
      "\n",
      "---\n",
      "\n",
      "1. यह वीडियो पिठोरीयां (Python) द्वारा Amazon औधारियों के मेंजम सवारें पर शार्मिक निवेशन (Sentiment Analysis) का पूर्णतः टूल्स्यूल है।\n",
      "2. यह दो तरहीयों का विधि शामिल है: पहला VADER (Valence Aware Dictionary and sEntiment Reasoner) मेथोड और दूसरा RoBERTa (Facebook AI का प्रे-ट्रेनिंग टरंसफॉर्मर) मेथोड।\n",
      "3. प्रज्वलित शुरुआत में प्रोजेक्ट का स्वतंत्रजनक प्रसारण और वाजिदिकिट और सेंटिमेंट रिज़नर (Necessary libraries इम포र्ट और Amazon food reviews dataset लोड करना) के लिए सामग्री लोड करते हैं।\n",
      "4. टेक्स्ट डेटा पर शार्मिक निवेशन की जरूरत है जेसमें सुप्रियकर्मी बहवियों का उम्रावलन कमिस करना।\n",
      "5. NLP (Natural Language Processing) का माहौलिक विज्ञान है और शार्मिक निवेशन में एक वाहन है।\n",
      "6. सेंटिमेंट अналиजिस पहले के पहले स्वतंत्र डेटा एकसंवादी (Exploratory Data Analysis) के साथ करते हैं जिसमें सामग्री का रूप और प्रवाह जानना है।\n",
      "7. VADER मेथोड का शाबद्ध वर्णन दिया गया है, और उसके साथ उसके साथ उसके संधित वास्तविकताओं और संतुलनों के साथ संपर्कित है।\n",
      "8. VADER के माध्यम से शार्मिक निवेशन किताबिज़ादों को टोकनाइजेशन (Tokenizing the text), शब्दार्थ रहित शब्दों को टोग (Part-of-speech tagging), और सेंटिमेंट स्कोर्स (Sentiment scores) कमिस करना दिया गया है।\n",
      "9. VADER मेथोड के साथ कुछ उदाहरणों के साथ सेंटिमेंट स्कोर्स (Sentiment scores) वाकई संदेशों से पहचाना और उनके चित्रवर्तित और अक्सर अविलम्ब होने के साथ उनके सिलाहीयों और संतुलनों दिखायी दिने है।\n",
      "10. RoBERTa मोडल के बातें शामिल की गई हैं, जो टरंसफॉर्मर आधारित संपूर्ण सहीबानें द्वारा संपूर्ण शब्द और संदेश का साक्षिकरता होता है।\n",
      "11. RoBERTa मोडल का उपयोग रखने के लिए टेक्स्ट को टोकनाइजेशन (Tokenizing the text), टेक्स्ट को एंकोड करना, और सेंटिमेंट स्कोर्स (Sentiment scores) कमिस करना दिया गया है।\n",
      "12. RoBERTa मोडल से कुछ उदाहरणों के साथ सेंटिमेंट स्कोर्स (Sentiment scores) वाकई संदेशों से पहचाना और उनके सिलाहीयों और संतुलनों दिखाने वाले अविरलता और सफलता का उद्देश्य से उनका अपना अभिलाष है।\n",
      "13. दोनों तरहीयों की साथ सामग्री से सहीबानी की गई थी। उनके परिणामों को प्ररोचित करके प्रतिक्रिया के साथ उनके झरनें और उनके संपूर्तताओं का विस्तारित विचार किया गया है।\n",
      "14. उनके सहीबानियों के अर्थ के साथ-साथ उनके अनुमतित सहकारियों और उनके व्यवस्थाओं के लिए कुछ झरनें हैं।\n",
      "15. हँगिंग फेस टран्सफॉर्मर्स पिप्लाइन का माहौलिक उपयोग है, जो प्रे-ट्रेनिंग मौजूदा मोदेलें और पिप्लाइन्स (Hugging Face Transformers pipeline) सहीबानें प्रदान करता है और सेंटिमेंट अналиजिस का एक स्कोट में रखना सही और प्रतिष्ठित है।\n",
      "16. प्रत्येक शब्द और संदेश को टोकनाइजेशन (Tokenizing the text), एंकोडिंग (Encoding), और सेंटिमेंट स्कोरिंग (Sentiment scoring) करने से सहीबानी के साथ सेंटिमेंट अналиजिस किया जाता है।\n"
     ]
    }
   ],
   "source": [
    "print(translated_summary)"
   ]
  },
  {
   "cell_type": "code",
   "execution_count": 19,
   "id": "add450a0",
   "metadata": {},
   "outputs": [
    {
     "data": {
      "text/plain": [
       "'\\n\\nPoints in Kannada:\\n\\n1. ಈ ವಿಜಯಟ್ಟು, ಮಾತ್ರಾಧಿಕಾರಿಯೇ ಆವ್ಯಹಿತ ಒಳಗೆ ಮುಕ್ತವಾಗಿದೆ ಆವ್ಯಹಿತ ಗ್ರಾಫ್ ಪ್ರಭಾವಃ ಕಳ್ಯಾನ್ಟಿಕೆ ಅಪ್ಯಾಯಃ, AND/OR ಗ್ರಾಫ್ ಅನುಸಾರವಾಗಿತು.\\n2. AND/OR ಗ್ರಾಫ್ ಮೆಘಲೆಗೆ ಆವಶ್ಯಕತೆಗಳು ಅತ್ಯಂತ ಕಳಿಸುತ್ತಿರುವವನ್ನು ಶೋಧಿಸಲು ಸಶ್ಯಮಾನ ಶೈಥಿಯಾಧಿಕರಣವನ್ನು ಆಧಾರಿಸಿತು. ಆ ಶೈಥಿಯಾಧಿಕರಣದ ಸಮಧಾನೆಗಳು ಸಶ್ಯಮಾನ ಮೂಲ್ಯದ ಆಗಮನೆಗಳಾದರು.\\n3. AO* ಅಲಗ್ಗದ ಆಧಾರಿತ ಮುಕ್ತವಾಗಿದೆ ಆವ್ಯಹಿತ ಶೈಥಿಯಾಧಿಕರಣದ ಆಗಮನೆಗಳನ್ನು ಪರಿಕ್ಷಪಿಸಿತು. ಆ ಶೈಥಿಯಾಧಿಕರಣ ಮತ್ತು ಮೂಲ್ಯವನ್ನು ಆತನ್ನು ಮೊದಲು ಹಾಗೂ ಮತ್ತು ಹೆಚ್ಚಿನ ಆದರೆಗಳನ್ನು ಆಕಾರ್ಷಿಕ ಮುಕ್ತವಾಗಿದೆ ಆಗಮನೆಗಳನ್ನು ಶ್ರೇಷಠಿಕಾಗಿ ಅಪ್ಯಾಯಿಸಿತು.\\n4. AO* ಅಲಗ್ಗದ ಮತ್ತು A* ಅಲಗ್ಗಗಳು ಇನ್ಫೋರ್ಮಡ್ ಸರ್ಚ್ ಟೆಕ್ನಿಕ್ಗಳು ಆಗತೆ, AO* ಅಲಗ್ಗದೆ ಸಶ್ಯಮಾನ ಆಧಾರಿತ ಶೈಥಿಯಾಧಿಕರಣನ ಮತ್ತು ಆ ಆಗಮನೆಗಳಿಗೆ ಆಧಾರಿತ ಮುಕ್ತವಾಗಿದೆ ಹೆಚ್ಚಿನ ಶೈಥಿಯಾಧಿಕರಣಗಳನ್ನು ಶೋಧಿಸಲು ಆತನ್ನು ಅನುಮತ್ತಾಗಿತು. A* ಅಲಗ್ಗದೆ ಸಶ್ಯಮಾನ ಆಧಾರಿತ ಶೈಥಿಯಾಧಿಕರಣದ ಆಗಮನೆಗಳಿಗೆ ಮತ್ತು ಆ ಆಗಮನೆಗಳಿಗೆ ಆಧಾರಿತ ಮುಕ್ತವಾಗಿದೆ ಆತನ್ನು ಅನುಮತ್ತನ್ನು ಬಿಟ್ಟಲಿಲ್ಲ.\\n5. ಈ ಅಲಗ್ಗದ ಆಗಮನೆಗಳನ್ನು ಹಾಗೂ ಆ ಆಗಮನೆಗಳಿಗೆ ಆಧಾರಿತ ಮುಕ್ತವಾಗಿದೆ ಆಧಾರಿತ ಮುಕ್ತವಾಗಿದೆ ಆಧಾರಿತ ಮುಕ್ತವಾಗಿದೆ ಆಧಾರಿತ ಮುಕ್ತವಾಗಿದೆ ಶೈಥಿಯಾಧಿಕರಣಗಳನ್ನು ಹಾಗೂ ಆ ಆಗಮನೆಗಳಿಗೆ ಆಧಾರಿತ ಮುಕ್ತವಾಗಿದೆ ಮುಕ್ತವಾಗಿದೆ ಆಧಾರಿತ ಮುಕ್ತವಾಗಿದೆ ಆಧಾರಿತ ಮುಕ್ತವಾಗಿದೆ ಮುಕ್ತವಾಗಿದೆ ಆಧಾರಿತ ಮುಕ್ತವಾಗಿದೆ ಆಗಮನೆಗಳನ್ನು ಆತನ್ನು ಅಪ್ಯಾಯಿಸಿತು.\\n6. AO* ಅಲಗ್ಗದಿಂದ ಮತ್ತು ಆ ಆಗಮನೆಗಳಿಗೆ ಆಧಾರಿತ ಮುಕ್ತವಾಗಿದೆ ಆಗಮನೆಗಳನ್ನು ಆತನ್ನು ಆಧಾರಿತ ಮುಕ್ತವಾಗಿದೆ ಶೈಥಿಯಾಧಿಕರಣಗಳನ್ನು ಆತನ್ನು ಆಧಾರಿಸಿತು. ಆ ಆಗಮನೆಗಳನ್ನು ಆತನ್ನು ಆಧಾರಿಸಿದ ಮುಕ್ತವಾಗಿದೆ ಆಗಮನೆಗಳನ್ನು ಆತನ್ನು ಆಧಾರಿಸಿದ ಮುಕ್ತವಾಗಿದೆ ಆಗಮನೆಗಳನ್ನು ಆತನ್ನು ಆಧಾರಿಸಿದ ಮುಕ್ತವಾಗಿದೆ ಆಗಮನೆಗಳನ್ನು ಆತನ್ನು ಆಧಾರಿಸಿದ ಮುಕ್ತವಾಗಿದೆ ಆಗಮನೆಗಳನ್ನು ಆತನ್ನು ಆಧಾರಿಸಿದ ಮುಕ್ತವಾಗಿದೆ ಆಗಮನೆಗಳನ್ನು ಆತನ್ನು ಆಧಾರಿಸಿದ ಮುಕ್ತವಾಗಿದೆ ಆಗಮನೆಗಳನ್ನು ಆತನ್ನು ಆಧಾರಿಸಿದ ಮುಕ್ತವಾಗಿದೆ ಆಗಮನೆಗಳನ್ನು ಆತನ್ನು ಆಧಾರಿಸಿದ ಮುಕ್ತವಾಗಿದೆ ಆಗಮನೆಗಳನ್ನು ಆತನ್ನು ಆಧಾರಿಸಿದ ಮುಕ್ತವಾಗಿದೆ ಆಗಮನೆಗಳನ್ನು ಆತನ್ನು ಆಧಾರಿಸಿದ ಮುಕ್ತವಾಗಿದೆ ಆಗಮನೆಗಳನ್ನು ಆತನ್ನು ಆಧಾರಿಸಿದ ಮುಕ್ತವಾಗಿದೆ ಆಗಮನೆಗಳನ್ನು ಆತನ್ನು ಆಧಾರಿಸಿದ ಮುಕ್ತವಾಗಿದೆ ಆಗಮನೆಗಳನ್ನು ಆತನ್ನು ಆಧಾರಿಸಿದ ಮುಕ್ತವಾಗಿದೆ ಆಗಮನೆಗಳನ್ನು ಆತನ್ನು ಆಧಾರಿಸಿದ ಮುಕ್ತವಾಗಿದೆ ಆಗಮನೆಗಳನ್ನು ಆತನ್ನು ಆಧಾರಿಸಿದ ಮುಕ್ತವಾಗಿದೆ ಆಗಮನೆಗಳನ್ನು ಆತನ್ನು ಆಧಾರಿಸಿದ ಮುಕ್ತವಾಗಿದೆ ಆಗಮನೆಗಳನ್ನು ಆತನ್ನು ಆಧಾರಿಸಿದ ಮುಕ್ತವಾಗಿದೆ ಆಗಮನೆಗಳನ್ನು ಆತನ್ನು ಆಧಾರಿಸಿದ ಮುಕ್ತವಾಗಿದೆ ಆಗಮನೆಗಳನ್ನು ಆತನ್ನು ಆಧಾರಿಸಿದ ಮುಕ್ತವಾಗಿದೆ ಆಗಮನೆಗಳನ್ನು ಆತನ್ನು ಆಧಾರಿಸಿದ ಮುಕ್ತವಾಗಿದೆ ಆಗಮನೆಗಳನ್ನು ಆತನ್ನು ಆಧಾರಿಸಿದ ಮುಕ್ತವಾಗಿದೆ ಆಗಮನೆಗಳನ್ನು ಆತನ್ನು ಆಧಾರಿಸಿದ ಮುಕ್ತವಾಗಿದೆ ಆಗಮನೆಗಳನ್ನು ಆತನ್ನು ಆಧಾರಿಸಿದ ಮುಕ್ತವಾಗಿದೆ ಆಗಮನೆಗಳನ್ನು ಆತನ್ನು ಆಧಾರಿಸಿದ ಮುಕ್ತವಾಗಿದೆ ಆಗಮನೆಗಳನ್ನು ಆತನ್ನು ಆಧಾರಿಸಿದ ಮುಕ್ತವಾಗಿದೆ ಆಗಮನೆಗಳನ್ನು ಆತನ್ನು ಆಧಾರಿಸಿದ ಮುಕ್ತವಾಗಿದೆ ಆಗಮನೆಗಳನ್ನು ಆತನ್ನು ಆಧಾರಿಸಿದ ಮುಕ್ತವಾಗಿದೆ ಆಗಮನೆಗಳನ್ನು ಆತನ್ನು ಆಧಾರಿಸಿದ ಮುಕ್ತವಾಗಿದೆ ಆಗಮನೆಗಳನ್ನು ಆತನ್ನು ಆಧಾರಿಸಿದ ಮುಕ್ತವಾಗಿದೆ ಆಗಮನೆಗಳನ್ನು ಆತನ್ನು ಆಧಾರಿಸಿದ ಮುಕ್ತವಾಗಿದೆ ಆಗಮನೆಗಳನ್ನು ಆತನ್ನು ಆಧಾರಿಸಿದ ಮುಕ್ತವಾಗಿದೆ ಆಗಮನೆಗಳನ್ನು ಆತನ್ನು ಆಧಾರಿಸಿದ ಮುಕ್ತವಾಗಿದೆ ಆಗಮನೆಗಳನ್ನು ಆತನ್ನು ಆಧಾರಿಸಿದ ಮುಕ್ತವಾಗಿದೆ ಆಗಮನೆಗಳನ್ನು ಆತನ್ನು ಆಧಾರಿಸಿದ ಮುಕ್ತವಾಗಿದೆ ಆಗಮನೆಗಳನ್ನು ಆತನ್ನು ಆಧಾರಿಸಿದ ಮುಕ್ತವಾಗಿದೆ ಆಗಮನೆಗಳನ್ನು ಆತನ್ನು ಆಧಾರಿಸಿದ ಮುಕ್ತವಾಗಿದೆ ಆಗಮನೆಗಳನ್ನು ಆತನ್ನು ಆಧಾರಿಸಿದ ಮುಕ್ತವಾಗಿದೆ ಆಗಮನೆಗಳನ್ನು ಆತನ್ನು ಆಧಾರಿಸಿದ ಮುಕ್ತವಾಗಿದೆ ಆಗಮನೆಗಳನ್ನು ಆತನ್ನು ಆಧಾರಿಸಿದ ಮುಕ್ತವಾಗಿದೆ ಆಗಮನೆಗಳನ್ನು ಆತನ್ನು ಆಧಾರಿಸಿದ ಮುಕ್ತವಾಗಿದೆ ಆಗಮನೆಗಳನ್ನು ಆತನ್ನು ಆಧಾರಿಸಿದ ಮುಕ್ತವಾಗಿದೆ ಆಗಮನೆಗಳನ್ನು ಆತನ್ನು ಆಧಾರಿಸಿದ ಮುಕ್ತವಾಗಿದೆ ಆಗಮನೆಗಳನ್ನು ಆತನ್ನು ಆಧಾರಿಸಿದ ಮುಕ್ತವಾಗಿದೆ ಆಗಮನೆಗಳನ್ನು ಆತನ್ನು ಆಧಾರಿಸಿದ ಮುಕ್ತವಾಗಿದೆ ಆಗಮನೆಗಳನ್ನು ಆತನ್ನು ಆಧಾರಿಸಿದ ಮುಕ್ತವಾಗಿದೆ ಆಗಮನೆಗಳನ್ನು ಆತನ್ನು ಆಧಾರಿಸಿದ ಮುಕ್ತವಾಗಿದೆ ಆಗಮನೆಗಳನ್ನು ಆತನ್ನು ಆಧಾರಿಸಿದ ಮುಕ್ತವಾಗಿದೆ ಆಗಮನೆಗಳನ್ನು ಆತನ್ನು ಆಧಾರಿಸಿದ ಮುಕ್ತವಾಗಿದೆ ಆಗಮನೆಗಳನ್ನು ಆತನ್ನು ಆಧಾ'"
      ]
     },
     "execution_count": 19,
     "metadata": {},
     "output_type": "execute_result"
    }
   ],
   "source": [
    "'\\n\\nPoints in Kannada:\\n\\n1. ಈ ವಿಜಯಟ್ಟು, ಮಾತ್ರಾಧಿಕಾರಿಯೇ ಆವ್ಯಹಿತ ಒಳಗೆ ಮುಕ್ತವಾಗಿದೆ ಆವ್ಯಹಿತ ಗ್ರಾಫ್ ಪ್ರಭಾವಃ ಕಳ್ಯಾನ್ಟಿಕೆ ಅಪ್ಯಾಯಃ, AND/OR ಗ್ರಾಫ್ ಅನುಸಾರವಾಗಿತು.\\n2. AND/OR ಗ್ರಾಫ್ ಮೆಘಲೆಗೆ ಆವಶ್ಯಕತೆಗಳು ಅತ್ಯಂತ ಕಳಿಸುತ್ತಿರುವವನ್ನು ಶೋಧಿಸಲು ಸಶ್ಯಮಾನ ಶೈಥಿಯಾಧಿಕರಣವನ್ನು ಆಧಾರಿಸಿತು. ಆ ಶೈಥಿಯಾಧಿಕರಣದ ಸಮಧಾನೆಗಳು ಸಶ್ಯಮಾನ ಮೂಲ್ಯದ ಆಗಮನೆಗಳಾದರು.\\n3. AO* ಅಲಗ್ಗದ ಆಧಾರಿತ ಮುಕ್ತವಾಗಿದೆ ಆವ್ಯಹಿತ ಶೈಥಿಯಾಧಿಕರಣದ ಆಗಮನೆಗಳನ್ನು ಪರಿಕ್ಷಪಿಸಿತು. ಆ ಶೈಥಿಯಾಧಿಕರಣ ಮತ್ತು ಮೂಲ್ಯವನ್ನು ಆತನ್ನು ಮೊದಲು ಹಾಗೂ ಮತ್ತು ಹೆಚ್ಚಿನ ಆದರೆಗಳನ್ನು ಆಕಾರ್ಷಿಕ ಮುಕ್ತವಾಗಿದೆ ಆಗಮನೆಗಳನ್ನು ಶ್ರೇಷಠಿಕಾಗಿ ಅಪ್ಯಾಯಿಸಿತು.\\n4. AO* ಅಲಗ್ಗದ ಮತ್ತು A* ಅಲಗ್ಗಗಳು ಇನ್ಫೋರ್ಮಡ್ ಸರ್ಚ್ ಟೆಕ್ನಿಕ್ಗಳು ಆಗತೆ, AO* ಅಲಗ್ಗದೆ ಸಶ್ಯಮಾನ ಆಧಾರಿತ ಶೈಥಿಯಾಧಿಕರಣನ ಮತ್ತು ಆ ಆಗಮನೆಗಳಿಗೆ ಆಧಾರಿತ ಮುಕ್ತವಾಗಿದೆ ಹೆಚ್ಚಿನ ಶೈಥಿಯಾಧಿಕರಣಗಳನ್ನು ಶೋಧಿಸಲು ಆತನ್ನು ಅನುಮತ್ತಾಗಿತು. A* ಅಲಗ್ಗದೆ ಸಶ್ಯಮಾನ ಆಧಾರಿತ ಶೈಥಿಯಾಧಿಕರಣದ ಆಗಮನೆಗಳಿಗೆ ಮತ್ತು ಆ ಆಗಮನೆಗಳಿಗೆ ಆಧಾರಿತ ಮುಕ್ತವಾಗಿದೆ ಆತನ್ನು ಅನುಮತ್ತನ್ನು ಬಿಟ್ಟಲಿಲ್ಲ.\\n5. ಈ ಅಲಗ್ಗದ ಆಗಮನೆಗಳನ್ನು ಹಾಗೂ ಆ ಆಗಮನೆಗಳಿಗೆ ಆಧಾರಿತ ಮುಕ್ತವಾಗಿದೆ ಆಧಾರಿತ ಮುಕ್ತವಾಗಿದೆ ಆಧಾರಿತ ಮುಕ್ತವಾಗಿದೆ ಆಧಾರಿತ ಮುಕ್ತವಾಗಿದೆ ಶೈಥಿಯಾಧಿಕರಣಗಳನ್ನು ಹಾಗೂ ಆ ಆಗಮನೆಗಳಿಗೆ ಆಧಾರಿತ ಮುಕ್ತವಾಗಿದೆ ಮುಕ್ತವಾಗಿದೆ ಆಧಾರಿತ ಮುಕ್ತವಾಗಿದೆ ಆಧಾರಿತ ಮುಕ್ತವಾಗಿದೆ ಮುಕ್ತವಾಗಿದೆ ಆಧಾರಿತ ಮುಕ್ತವಾಗಿದೆ ಆಗಮನೆಗಳನ್ನು ಆತನ್ನು ಅಪ್ಯಾಯಿಸಿತು.\\n6. AO* ಅಲಗ್ಗದಿಂದ ಮತ್ತು ಆ ಆಗಮನೆಗಳಿಗೆ ಆಧಾರಿತ ಮುಕ್ತವಾಗಿದೆ ಆಗಮನೆಗಳನ್ನು ಆತನ್ನು ಆಧಾರಿತ ಮುಕ್ತವಾಗಿದೆ ಶೈಥಿಯಾಧಿಕರಣಗಳನ್ನು ಆತನ್ನು ಆಧಾರಿಸಿತು. ಆ ಆಗಮನೆಗಳನ್ನು ಆತನ್ನು ಆಧಾರಿಸಿದ ಮುಕ್ತವಾಗಿದೆ ಆಗಮನೆಗಳನ್ನು ಆತನ್ನು ಆಧಾರಿಸಿದ ಮುಕ್ತವಾಗಿದೆ ಆಗಮನೆಗಳನ್ನು ಆತನ್ನು ಆಧಾರಿಸಿದ ಮುಕ್ತವಾಗಿದೆ ಆಗಮನೆಗಳನ್ನು ಆತನ್ನು ಆಧಾರಿಸಿದ ಮುಕ್ತವಾಗಿದೆ ಆಗಮನೆಗಳನ್ನು ಆತನ್ನು ಆಧಾರಿಸಿದ ಮುಕ್ತವಾಗಿದೆ ಆಗಮನೆಗಳನ್ನು ಆತನ್ನು ಆಧಾರಿಸಿದ ಮುಕ್ತವಾಗಿದೆ ಆಗಮನೆಗಳನ್ನು ಆತನ್ನು ಆಧಾರಿಸಿದ ಮುಕ್ತವಾಗಿದೆ ಆಗಮನೆಗಳನ್ನು ಆತನ್ನು ಆಧಾರಿಸಿದ ಮುಕ್ತವಾಗಿದೆ ಆಗಮನೆಗಳನ್ನು ಆತನ್ನು ಆಧಾರಿಸಿದ ಮುಕ್ತವಾಗಿದೆ ಆಗಮನೆಗಳನ್ನು ಆತನ್ನು ಆಧಾರಿಸಿದ ಮುಕ್ತವಾಗಿದೆ ಆಗಮನೆಗಳನ್ನು ಆತನ್ನು ಆಧಾರಿಸಿದ ಮುಕ್ತವಾಗಿದೆ ಆಗಮನೆಗಳನ್ನು ಆತನ್ನು ಆಧಾರಿಸಿದ ಮುಕ್ತವಾಗಿದೆ ಆಗಮನೆಗಳನ್ನು ಆತನ್ನು ಆಧಾರಿಸಿದ ಮುಕ್ತವಾಗಿದೆ ಆಗಮನೆಗಳನ್ನು ಆತನ್ನು ಆಧಾರಿಸಿದ ಮುಕ್ತವಾಗಿದೆ ಆಗಮನೆಗಳನ್ನು ಆತನ್ನು ಆಧಾರಿಸಿದ ಮುಕ್ತವಾಗಿದೆ ಆಗಮನೆಗಳನ್ನು ಆತನ್ನು ಆಧಾರಿಸಿದ ಮುಕ್ತವಾಗಿದೆ ಆಗಮನೆಗಳನ್ನು ಆತನ್ನು ಆಧಾರಿಸಿದ ಮುಕ್ತವಾಗಿದೆ ಆಗಮನೆಗಳನ್ನು ಆತನ್ನು ಆಧಾರಿಸಿದ ಮುಕ್ತವಾಗಿದೆ ಆಗಮನೆಗಳನ್ನು ಆತನ್ನು ಆಧಾರಿಸಿದ ಮುಕ್ತವಾಗಿದೆ ಆಗಮನೆಗಳನ್ನು ಆತನ್ನು ಆಧಾರಿಸಿದ ಮುಕ್ತವಾಗಿದೆ ಆಗಮನೆಗಳನ್ನು ಆತನ್ನು ಆಧಾರಿಸಿದ ಮುಕ್ತವಾಗಿದೆ ಆಗಮನೆಗಳನ್ನು ಆತನ್ನು ಆಧಾರಿಸಿದ ಮುಕ್ತವಾಗಿದೆ ಆಗಮನೆಗಳನ್ನು ಆತನ್ನು ಆಧಾರಿಸಿದ ಮುಕ್ತವಾಗಿದೆ ಆಗಮನೆಗಳನ್ನು ಆತನ್ನು ಆಧಾರಿಸಿದ ಮುಕ್ತವಾಗಿದೆ ಆಗಮನೆಗಳನ್ನು ಆತನ್ನು ಆಧಾರಿಸಿದ ಮುಕ್ತವಾಗಿದೆ ಆಗಮನೆಗಳನ್ನು ಆತನ್ನು ಆಧಾರಿಸಿದ ಮುಕ್ತವಾಗಿದೆ ಆಗಮನೆಗಳನ್ನು ಆತನ್ನು ಆಧಾರಿಸಿದ ಮುಕ್ತವಾಗಿದೆ ಆಗಮನೆಗಳನ್ನು ಆತನ್ನು ಆಧಾರಿಸಿದ ಮುಕ್ತವಾಗಿದೆ ಆಗಮನೆಗಳನ್ನು ಆತನ್ನು ಆಧಾರಿಸಿದ ಮುಕ್ತವಾಗಿದೆ ಆಗಮನೆಗಳನ್ನು ಆತನ್ನು ಆಧಾರಿಸಿದ ಮುಕ್ತವಾಗಿದೆ ಆಗಮನೆಗಳನ್ನು ಆತನ್ನು ಆಧಾರಿಸಿದ ಮುಕ್ತವಾಗಿದೆ ಆಗಮನೆಗಳನ್ನು ಆತನ್ನು ಆಧಾರಿಸಿದ ಮುಕ್ತವಾಗಿದೆ ಆಗಮನೆಗಳನ್ನು ಆತನ್ನು ಆಧಾರಿಸಿದ ಮುಕ್ತವಾಗಿದೆ ಆಗಮನೆಗಳನ್ನು ಆತನ್ನು ಆಧಾರಿಸಿದ ಮುಕ್ತವಾಗಿದೆ ಆಗಮನೆಗಳನ್ನು ಆತನ್ನು ಆಧಾರಿಸಿದ ಮುಕ್ತವಾಗಿದೆ ಆಗಮನೆಗಳನ್ನು ಆತನ್ನು ಆಧಾರಿಸಿದ ಮುಕ್ತವಾಗಿದೆ ಆಗಮನೆಗಳನ್ನು ಆತನ್ನು ಆಧಾರಿಸಿದ ಮುಕ್ತವಾಗಿದೆ ಆಗಮನೆಗಳನ್ನು ಆತನ್ನು ಆಧಾರಿಸಿದ ಮುಕ್ತವಾಗಿದೆ ಆಗಮನೆಗಳನ್ನು ಆತನ್ನು ಆಧಾರಿಸಿದ ಮುಕ್ತವಾಗಿದೆ ಆಗಮನೆಗಳನ್ನು ಆತನ್ನು ಆಧಾರಿಸಿದ ಮುಕ್ತವಾಗಿದೆ ಆಗಮನೆಗಳನ್ನು ಆತನ್ನು ಆಧಾರಿಸಿದ ಮುಕ್ತವಾಗಿದೆ ಆಗಮನೆಗಳನ್ನು ಆತನ್ನು ಆಧಾರಿಸಿದ ಮುಕ್ತವಾಗಿದೆ ಆಗಮನೆಗಳನ್ನು ಆತನ್ನು ಆಧಾರಿಸಿದ ಮುಕ್ತವಾಗಿದೆ ಆಗಮನೆಗಳನ್ನು ಆತನ್ನು ಆಧಾರಿಸಿದ ಮುಕ್ತವಾಗಿದೆ ಆಗಮನೆಗಳನ್ನು ಆತನ್ನು ಆಧಾರಿಸಿದ ಮುಕ್ತವಾಗಿದೆ ಆಗಮನೆಗಳನ್ನು ಆತನ್ನು ಆಧಾರಿಸಿದ ಮುಕ್ತವಾಗಿದೆ ಆಗಮನೆಗಳನ್ನು ಆತನ್ನು ಆಧಾರಿಸಿದ ಮುಕ್ತವಾಗಿದೆ ಆಗಮನೆಗಳನ್ನು ಆತನ್ನು ಆಧಾರಿಸಿದ ಮುಕ್ತವಾಗಿದೆ ಆಗಮನೆಗಳನ್ನು ಆತನ್ನು ಆಧಾ'"
   ]
  },
  {
   "cell_type": "code",
   "execution_count": 41,
   "id": "461c8787",
   "metadata": {},
   "outputs": [
    {
     "data": {
      "text/plain": [
       "52"
      ]
     },
     "execution_count": 41,
     "metadata": {},
     "output_type": "execute_result"
    }
   ],
   "source": [
    "from langchain.text_splitter import RecursiveCharacterTextSplitter\n",
    "text_splitter = RecursiveCharacterTextSplitter(chunk_size=500, chunk_overlap=10)\n",
    "text_chunks = text_splitter.split_documents(documents)\n",
    "len(text_chunks)"
   ]
  },
  {
   "cell_type": "code",
   "execution_count": 26,
   "id": "b1e1136c",
   "metadata": {},
   "outputs": [
    {
     "data": {
      "text/plain": [
       "[Document(page_content=\"- I've spent most of my career trying to get into a chip fab. Samsung's a hard no, Global Foundries was open to it in person, then ghosted me when I followed up and Intel has said no to me, every single time I've asked except one. Honestly, I'm pretty overwhelmed today because I'm gonna be\\ntaking three major items off my bucket list. I'm visiting Israel for the first time, I'm gonna be going deep\", metadata={'source': '2ehSCWoaOqQ'}),\n",
       " Document(page_content=\"into the heart of Intel's state of the art fab 28 and I get to tell you about our sponsor. - Zoho CRM, Zoho CRM is a 360 degree solution that offers an intuitive UI, AI predictions and a design studio to help you get your sales done faster. Get 50% off with the code\\nZCRM50 using the link below. (upbeat music) (upbeat music) - My tour guide today\\ncouldn't be more experienced. Dani is the Co-General Manager of Worldwide Semiconductor Manufacturing and started at Intel working\", metadata={'source': '2ehSCWoaOqQ'}),\n",
       " Document(page_content=\"in fab 8 in Jerusalem back when state of the\\nart was the Pentium one. Microprocessor fabrication experts can safely skip ahead a couple of minutes, but for everyone else, let's run through the basics. Every CPU die, every one of these starts\\nwith a sliced up silicon ingot like the one right here. These are astonishingly pure and are exactly 300\\nmillimeters in diameter. If they went in any smaller, they'd increase waste around the edges. I mean look at this, obviously this is not\", metadata={'source': '2ehSCWoaOqQ'}),\n",
       " Document(page_content=\"gonna be a working chip if it's cut off by the edge of the circle. Fun fact by the way, the reason that they run\\nthe non-working edge dies through all of the same\\nfabrication processes is that it actually\\nimproves the uniformity of the full chips next to them. Consistency is key in CPU manufacturing, because even though we talk\\nabout these chips in terms like 14 or 10 nanometer, the components that make\", metadata={'source': '2ehSCWoaOqQ'}),\n",
       " Document(page_content=\"up these transistors are much smaller, like on the order of less than a nanometer and a tiny error or contaminant in any of the hundreds\\nof manufacturing steps means that that die, he no worky. I mean it's a modern miracle\\nthat any of this is possible and is basically unheard of to get an entire 300 millimeter\\nwafer through the fab without a single defective dye on it. Before it can be sold however, it needs to be transformed\", metadata={'source': '2ehSCWoaOqQ'}),\n",
       " Document(page_content='from melted sand like this into the brains of your PC. Silicon you see is neither an insulator, nor is it a true conductor. So to create all the little transistors or switches that control current flow through the logic gates and other microstructures on the chip, the wafer needs to undergo many processes. Implantation fires dopant ions into the surface of the silicon to alter its electrical characteristics. So depending on what kinds', metadata={'source': '2ehSCWoaOqQ'}),\n",
       " Document(page_content='of ions are implanted, say phosphorous or boron, you might be laying the\\ngroundwork for an n-type or a p-type transistor. This determines if the voltage\\nis negative or positive to open the gate. Diffusion furnaces create\\nnew combined materials by exposing the wafer to various gases at up to 100s of degrees celsius. Lithography, is one of the easiest steps', metadata={'source': '2ehSCWoaOqQ'}),\n",
       " Document(page_content=\"to understand conceptually, but also one of the most important. Within a single processor die, there are billions of transistors and literally kilometers of tiny wires, but they're obviously far\\ntoo small to build them and solder them together by hand. So the wafer gets coated with\\na material called photoresist, then exposed to UV light through a mask. Anywhere the light\\npasses through the mask, the photo resist will be removed, allowing the exposed\", metadata={'source': '2ehSCWoaOqQ'}),\n",
       " Document(page_content=\"portions to be processed. Then it's quite literally\\nrinse and repeat. Nikon, who does a lot more\\nthan make cameras by the way has a great diagram on their\\nsite demonstrating this. So one such potential\\nprocessing step is etching where the goal is to\\nselectively remove material from the top of the wafer,\\ncreating trenches in it. These can be overfilled with\\ncopper to create interconnects then the excess gets\\nremoved by polishing it off using brushes and slurry in a process called Chemical\", metadata={'source': '2ehSCWoaOqQ'}),\n",
       " Document(page_content=\"Mechanical Planarization. There are different kinds of etching but we can talk about that\\nmore once we get inside. (upbeat music) This is it. Point no return, here we go. There's no card or anything\\njust, yeah it's very, good high security. Time to learn the procedure. This is great, this is very inclusive, they have child size\\ngloves for people like me. This is crazy. So these are not the gloves\\nwe wear in the clean room, these are the gloves to put on the stuff that we're\", metadata={'source': '2ehSCWoaOqQ'}),\n",
       " Document(page_content=\"gonna wear in the clean room that will be contaminated that then we will get rid of after. Wow, man I'm looking sharp. Now time for stage two. basically we grab have a couple of little foot cover doodads here and\\nthis room is pressurized and the idea is that\\nthese, these aren't like filtered like the clean\\nroom or anything like that but by having a little bit\\nof pressure in this room, we keep the super stanky\", metadata={'source': '2ehSCWoaOqQ'}),\n",
       " Document(page_content=\"air from outside, out. So when you walk into here, you feel this gust of air coming out and then what you're supposed to do is you're supposed to have\\ndirty stuff on this side and then clean stuff on this side. So I gotta put my little booties on, did I do it right? Yep. Okay so there's more\\npositive pressure in here blowing that way, right? - Yes. - So the idea then I guess is the air gets cleaner and cleaner as we go. Okay, what do I do? - You start with the hood.\", metadata={'source': '2ehSCWoaOqQ'}),\n",
       " Document(page_content=\"- Yes. - [Staff] Start from bot, top to bottom. - Top to bottom.\\n- Yeah. - Okay, why do we go top to bottom? So that the dust won't fall\\noff our top onto our bottom. - Better that it'll suit\\ninto the bunny suits. - Oh, got it. 'Cause that's how the garments overlap. I have a feeling our audio is not gonna be our finest ever for this video. Ladies and gentlemen\", metadata={'source': '2ehSCWoaOqQ'}),\n",
       " Document(page_content=\"you'll have to bear with us cuz my microphone is already under three layers of fabric now. (upbeat music) - We're out of the gown room into the fab. - Into the fab. - And it's already crazy. Can you see these like\\nrobots on tracks up here. Apparently these are taking the foups, and I check that is actually\\nwhat's called F O U P, which is 25 wafers. So that's 25 slices of the\\noriginal silicon ingot. That foup we just saw, that\", metadata={'source': '2ehSCWoaOqQ'}),\n",
       " Document(page_content=\"little robot on the track had hundreds of CPU dies in it, but we don't know how\\nmany of them are good because they're actually\\non their way to sorting where not only will they\\ndetermine if they work, but they'll determine how well. So is it a core I7 or a core I9. Every guy wants to live, it sounds like a nerdy James Bond film. I love it. (upbeat music) Oh my God. This place is a lot bigger\", metadata={'source': '2ehSCWoaOqQ'}),\n",
       " Document(page_content=\"than it initially looked. How many square feet is this? - Four football fields. - [Dani] So lithography is over there. Diffusion is over there.\\n- Diffusion over there. - ...the result of diffusion. - and deposition was over there? - Dry and wet etching on the side. - Etching. - And planar. - And planing. So we're gonna look at all of that but there's no particular\\norder for these steps because once a foup comes\\nin here, you guys can see, there're whipping around\", metadata={'source': '2ehSCWoaOqQ'}),\n",
       " Document(page_content=\"all over the place. There are hundreds of stages. Each Alder Lake CPU die\\nmight go from lithography to planing to deposition, back and forth hundreds of times, (upbeat music) Every silicon wafer\\ncomes to diffusion land and basically what these machines do. They're more like a, a furnace and they will take that top\\nlayer of silicon on the wafer and they will diffuse it with\", metadata={'source': '2ehSCWoaOqQ'}),\n",
       " Document(page_content=\"some kind of other material. I asked for some examples, but other than silicon oxide, they wouldn't really tell anything and in fact, they wouldn't even tell me what the first material layer would be for pure processors that\\nthey're making here now. Here we go, we can actually\\nsee the robot arm inside that would take the silicon\\nwafers out of the foup and position them as\", metadata={'source': '2ehSCWoaOqQ'}),\n",
       " Document(page_content=\"needed for the machine. This is the loading area down here that we can see through the window and then on top is the actual furnace where it reaches 100s of degrees and then it has gases in there that help them to achieve whatever kind of chemical\\nchanges that they're going for on top of the wafer. One thing Intel's been\\nvery particular about is don't touch anything because\\nit's more than just, you know, not pressing the wrong button, but actually even just\", metadata={'source': '2ehSCWoaOqQ'}),\n",
       " Document(page_content=\"bumping these machines. When you're trying to build\\nsomething that has structures in it that are on the side\\neyes order of nanometers, that means that the building\\nblocks of that thing are sub-nanometer in some cases. So you, you actually, you cannot, you cannot bump one of these\\nmachines while it's running and in fact, they only build their fabs on particularly stable parts of the world where they don't have to\", metadata={'source': '2ehSCWoaOqQ'}),\n",
       " Document(page_content=\"worry about seismic activity. This is cool. As we're walking through diffusion, we actually got a great\\nopportunity to show you guys the multi-level structure of the fab. So what we're walking on is\\nonly 1 of 4 total layers. Above us are filters and the air comes from there down to here. Then below us is where\\nthey're gonna have pumps, chemistry delivery, you can see these punch-outs\\nin the floor here. You can actually see there's like a foam, like vent of some sort\", metadata={'source': '2ehSCWoaOqQ'}),\n",
       " Document(page_content=\"going up into the machine that's next to us and then the air flows from top to bottom so it goes down to that layer, then it goes down to one more layer where they have water,\\nutilities like electricity as well as exhaust. So that air goes back up\\nthe side of the building and recirculates. In total, Intel expects anywhere from 0 to 1 particle part, what was the unit of volume? 1 meter cubed and for context, an operating room could have tens of thousands of\", metadata={'source': '2ehSCWoaOqQ'}),\n",
       " Document(page_content=\"particles per meter cubed. So you, you could conceivably\\nperform surgery in here, assuming you were qualified. I asked about this sign and apparently it's just to make sure that as people are blowing\\nthough this corridor, they don't accidentally smoke someone coming out of the reticle room. This is one of those secret areas, even here inside the fab\\nwhich is already a secret area because it contains some of\", metadata={'source': '2ehSCWoaOqQ'}),\n",
       " Document(page_content=\"the most expensive materials that they need for lithography it's also some of the most top secret. Now under normal circumstances, every one of these stations\\nwould be occupied by someone. In fact, the entire factory\\nruns on 4 shifts a day, 24/7, 364 days a year, only\\nshutting down for Yom Kippur. So I didn't ask because I'm\\nafraid to know the answer, but I think it's probably\\ncosting Intel a fair amount to have us in here poking around while they didn't sponsor\", metadata={'source': '2ehSCWoaOqQ'}),\n",
       " Document(page_content=\"the video or anything. Definitely shout out to Intel for how much it's costing them\\nfor us to make this video. On that note, here's something cool. These tools are maybe not as sophisticated as some of the other\\ntools here in the fab, you got your flathead screwdriver but the process is what's fascinating because taking a machine like this offline for more than a few minutes\\nat a time, very, very costly. So they handle it kind of\\nlike a formula one pit crew. They've got all their tools,\", metadata={'source': '2ehSCWoaOqQ'}),\n",
       " Document(page_content=\"everything's arranged, freaking ready to rock. They go, okay time, we're shutting it off, we're\\nperforming maintenance, go, go, go, go, go, go, go, fire it back up. That's it. Don't worry, I will not hit any buttons. This is the emo button, okay? The machine will get\\nvery sad if you press it. This machine right here is\\ndoing dry etching right now. So the foups come down\", metadata={'source': '2ehSCWoaOqQ'}),\n",
       " Document(page_content=\"off of the track up there and then while they're waiting, you can see they're actually sitting out cause they sit away from the machine and while they're being processed, they come up right next to it here, and then you can see\\nthere's a robot arm inside grabbing wafers, whipping them around. It just throws it on here\\nfor a span of, I don't know, 5 or 10 seconds, boom, it's dry etched. It goes back in the foup and then that whole foup\\nis gonna head off to whatever the next step is for\", metadata={'source': '2ehSCWoaOqQ'}),\n",
       " Document(page_content=\"this particular processor. We don't know exactly what it's making, but everything here is Intel 7 so, modern CPUs pretty much or maybe future CPUs for all I know. Not every drying machine is identical as you guys can imagine. For all the different\\nspecialized processes that a wafer goes through, there might be different machinery. So this is another example\\nof a dry etching machine where the wafer actually\", metadata={'source': '2ehSCWoaOqQ'}),\n",
       " Document(page_content=\"sits in this chamber in here and does whatever the heck it's doing. Now we're heading back to\\nthe lithography area again, which is why the lighting in the fab has changed back to yellow and the reason for that\\nis they use UV light to expose the wafers. So if they have white light, it could easily contain\\nparts of the spectrum that could accidentally expose the wafer. So they have to use these\\ncarefully controlled light sources that will not cause\", metadata={'source': '2ehSCWoaOqQ'}),\n",
       " Document(page_content=\"any damage to the wafer as they're ripping around in the foup or going in and out of the machines. Fun fact, each of these machines\\ncosts on the order of 30$ to $40 million and it doesn't take a rocket scientist to figure out or I should say a, a chip architect to figure out that when you put this many\\nof them packed this tight into an area of the size\\nof four football pitches, that's gonna cost a pretty penny and it's because of those costs\", metadata={'source': '2ehSCWoaOqQ'}),\n",
       " Document(page_content=\"that they actually have this entire sort of row of cabinets\\nI guess you could call it in between the east and\\nwest side of the fab. This entire thing is full of foups that are just waiting to be processed because the second one of\\nthose machines is available, you want to be loading it up with silicon so you can make more processors. Now we're out of lithography again, we're in the east side of the fab which is also freaking enormous and the first machine\", metadata={'source': '2ehSCWoaOqQ'}),\n",
       " Document(page_content=\"that we're encountering are deposition machines. So what these do is they'll take the wafer and they'll apply some extraordinarily thin layer of something, say for example, metal, okay? Then it comes back into the foup, back up to the rails and\\noff to the next step. Did I ever say, we're\\ngonna go see the planers. - [Dennis] - Yes you did. - Now depending on the\\nstage of wafer processing, cuz remember they you go back and forth hundreds of times for a single die, you don't necessarily want the\", metadata={'source': '2ehSCWoaOqQ'}),\n",
       " Document(page_content=\"straight edges of a dry etch, you might want this kind of\\ncurved shape of a wet edge. Now the actual exact shape is\\napparently extremely important and extremely difficult to control because unlike a dry\\netch, there's actually, you can actually hear\\nthe sound of the pump. You hear that right now, so there's actually\\nchemicals pumping inside. Another key consideration if you've got such expensive\\nmachinery is training. So one of the things that\", metadata={'source': '2ehSCWoaOqQ'}),\n",
       " Document(page_content=\"Intel wanted to show us is how they're using augmented reality practically right here in the\\nfab for a variety of purposes. So one is due to COVID 19. Obviously some personnel were\\nnot able to be here in person for an extended period of time. So remote assist allows\\nsomeone who is here in person to actually have someone else\\nscribbling on a schematic or explaining it to them while\", metadata={'source': '2ehSCWoaOqQ'}),\n",
       " Document(page_content=\"it hovers in front of them. Pretty freaking cool. It's also used as a training resource for maintenance of old machines so you can kind of learn by doing, and they're actually gonna\\ndo a practical demo for us. Hey, here's our, here's\\nour test guinea pig here and you got some my\\nmug, that's unfortunate. Oh, that's awesome. So it shows you all the tools you need. So there's a little instructional\\nvideo for how to do it. Very cool. Hey, look at me, I'm a fab\", metadata={'source': '2ehSCWoaOqQ'}),\n",
       " Document(page_content=\"equipment maintenance technician. Unfortunately the windows on\\nthese machines are quite dark but we did manage to catch one that is being processed right now so we've got some footage to show guys. Essentially after the deposition step, you're gonna end up with\\nsome inherent unevenness that needs to be polished off. Now in the past, they might have actually submerged\\nthe wafers for polishing, but now it's actually done by a brush that has a slurry on\", metadata={'source': '2ehSCWoaOqQ'}),\n",
       " Document(page_content=\"it that Intel said is, very proprietary. They wouldn't even give me any\\nhints as to what is in this, this polishing with liquid but they did tell me that the pressure as\\nwell as the motion of it has to be so precise that they\\ncould take off as little as a few atoms or molecules at a time. You could see the way for moving\\nback and forth on the, like spinning bottom. Crazy. One thing that's missing is\", metadata={'source': '2ehSCWoaOqQ'}),\n",
       " Document(page_content=\"I don't see where that tray, that loads all the wafers in is. Where the foup is it? Haha, get it? Cause it's a foup. By the way, something I didn't mention before is that each of the\\ndifferent types of machines actually has a number, but it also has these animals because Intel found that especially in a multi-layered\\ndesign like fab 28, in order to make sure that the\\nmaintenance crew down below is actually, you know, shutting down the correct\", metadata={'source': '2ehSCWoaOqQ'}),\n",
       " Document(page_content=\"machine for maintenance up above, it's much easier to communicate\\nand much easier to remember, Oh, we're working on a giraffe\\nmachine or a ladybug machine. Apparently most of the staff\\nthat we saw in there though we're actually maintenance\\nstaff for the machines and the actual control center\\nor brain of the operation is elsewhere. So we're gonna head over there now. This is the remote\\noperational center, which is, you could think of kind of\", metadata={'source': '2ehSCWoaOqQ'}),\n",
       " Document(page_content=\"like the brains of the fab that we just saw. So if something goes wrong, it's gonna pop up as an\\nerror on someone's screen so it's the job of everyone in this room to optimize the overall\\nthroughput of the fab. So instead of having technicians\\nthere on the fab floor, moving things around\\nand looking at screens and turning dials, everything is done right here to ensure that they're pumping as\", metadata={'source': '2ehSCWoaOqQ'}),\n",
       " Document(page_content=\"many chips out as possible because once you invest 30$ to 40$ million in a machine times, however many were in there, (chuckles) you want them going as\\nhard as you possibly can, as often as you possibly can. (upbeat music) Every shift, they have to do two stretching\\nsessions in order to, you know, minimize the risk of RSI, cuz they're basically sitting\\nat their computers all day, every day, right? (applauds) But like the friend who\", metadata={'source': '2ehSCWoaOqQ'}),\n",
       " Document(page_content=\"only invited you to dinner because he wanted to show off his new car, Intel had a bit of an\\nagenda for inviting us here and that is to show off\\nthe enormous investment that they're making into fab 38. So everything that we just\", metadata={'source': '2ehSCWoaOqQ'}),\n",
       " Document(page_content=\"saw is about to be doubled. This roundabout, see you later in about two weeks. That entire construction site out there is going to be state of the art, new generation fabrication technology that will actually be integrated so tightly with the existing fab that you could actually\\ntake a wafer from one, utilize equipment in the other and then send it back\\nif you really needed to, although that's gonna be quite a distance for the foups to travel. To give you some idea of how enormous this\", metadata={'source': '2ehSCWoaOqQ'}),\n",
       " Document(page_content=\"construction project is, Intel actually built their\\nown concrete production in the corner of the lot over there which you can see at the very back. Unreal. One of the big reasons Intel is building out fab\\ncapacity so aggressively right now is a new concept called IDM 2.0 where basically instead of only\\nbuilding their own products, they're going to be fabing products for third party companies which I personally given that we're sitting\", metadata={'source': '2ehSCWoaOqQ'}),\n",
       " Document(page_content=\"in the middle of the largest ever global silicon shortage, I'm pretty excited about. Now, unfortunately there\\nare a couple of steps in the die creation process that we weren't able to see today. The addition of the bumps that connect the dye to the\\npackage through electro plating, that doesn't happen here\\nand quality control. QC starts with an end of the line E-test, which checks the functionality\", metadata={'source': '2ehSCWoaOqQ'}),\n",
       " Document(page_content='of fake debugging structures and transistors that are specifically meant to be there to ensure that everything went\\ncorrectly in manufacturing. Then it proceeds to binning. Which is the process of\\nsorting the good dies according to their capabilities. Obviously the best of the\\nbest will become core I9, the next best will be core\\nI7 and so on and so forth. Other than that 12th', metadata={'source': '2ehSCWoaOqQ'}),\n",
       " Document(page_content=\"gen core or Alder Lake is a pretty unique product for Intel with much of the design and manufacturing done here in Israel. Once the wafer's done, Intel sends it to one of\\ntheir other facilities for slicing and packaging and a second validation step called class where they basically\\nburn in every single chip to ensure that no degradation took place and that the packaging was done properly. This along with design phase testing that simulates the effects of CPU aging is where it Intel's reputation\", metadata={'source': '2ehSCWoaOqQ'}),\n",
       " Document(page_content=\"for manufacturing quality comes from. I mean, think about it, when you're troubleshooting\\na system that won't boot the CPU is the last\\nthing you're gonna check because unless you dropped\\nit, it probably works. Packaging by the way, is gonna be getting a lot more complicated over the next few years\\nas multi-die processors like the upcoming Sapphire\\nRapids start rolling out and it's expected that\", metadata={'source': '2ehSCWoaOqQ'}),\n",
       " Document(page_content=\"the relatively basic packaging facilities of yesteryear are gonna be getting a lot more fab like. I mean, a packaging error on a $10,000 server CPU is a pretty expensive mistake\\ngiven that the whole thing needs to be thrown away at that stage if something goes wrong. Maybe that should be\\nthe next tour I request. Am I right? Actually, I'm not gonna\\npush my luck at the moment. This was a once in a lifetime opportunity and I'm extremely grateful\\nto Dani and his team. Shout out to Karen by\", metadata={'source': '2ehSCWoaOqQ'}),\n",
       " Document(page_content=\"the way for hosting me, to you guys for coming\\nand sharing it with me and of course, to my sponsor. Ting mobile. Ting mobile has rates\\nthat make it easier to see how much you can save by switching. They have a perfect plan for everybody no matter what your needs are. Unlimited talk and text for 10 bucks, data plans that start at $15, then there's their set 12 plan\\nwith 12 gigs of data for $35 and unlimited data for $45. If you like their previous,\", metadata={'source': '2ehSCWoaOqQ'}),\n",
       " Document(page_content=\"pay what you use plans, Ting mobile's flexed plans\\ncharging just $5 per gigabyte are still there. Data can also be shared\\nif you have a family plan so connect more phones to save more. You'll still get nationwide coverage and award-winning support. In fact, consumer\\nreports named Ting mobile their number one carrier in America. Pretty much any phone\\nwill work with Ting mobile so check them out atlinus.ting.com\", metadata={'source': '2ehSCWoaOqQ'}),\n",
       " Document(page_content=\"and receive a $25 credit. If you guys enjoyed this video, maybe check out one of previous tours. It's been a little while, but\\nthey are excellent videos.\", metadata={'source': '2ehSCWoaOqQ'})]"
      ]
     },
     "execution_count": 26,
     "metadata": {},
     "output_type": "execute_result"
    }
   ],
   "source": [
    "text_chunks"
   ]
  },
  {
   "cell_type": "code",
   "execution_count": 53,
   "id": "81736e20",
   "metadata": {},
   "outputs": [
    {
     "name": "stdout",
     "output_type": "stream",
     "text": [
      "[\"- I've spent most of my career trying to get into a chip fab. Samsung's a hard no, Global Foundries was open to it in person, then ghosted me when I followed up and Intel has said no to me, every single time I've asked except one. Honestly, I'm pretty overwhelmed today because I'm gonna be\\ntaking three major items off my bucket list. I'm visiting Israel for the first time, I'm gonna be going deep\", \"into the heart of Intel's state of the art fab 28 and I get to tell you about our sponsor. - Zoho CRM, Zoho CRM is a 360 degree solution that offers an intuitive UI, AI predictions and a design studio to help you get your sales done faster. Get 50% off with the code\\nZCRM50 using the link below. (upbeat music) (upbeat music) - My tour guide today\\ncouldn't be more experienced. Dani is the Co-General Manager of Worldwide Semiconductor Manufacturing and started at Intel working\", \"in fab 8 in Jerusalem back when state of the\\nart was the Pentium one. Microprocessor fabrication experts can safely skip ahead a couple of minutes, but for everyone else, let's run through the basics. Every CPU die, every one of these starts\\nwith a sliced up silicon ingot like the one right here. These are astonishingly pure and are exactly 300\\nmillimeters in diameter. If they went in any smaller, they'd increase waste around the edges. I mean look at this, obviously this is not\", \"gonna be a working chip if it's cut off by the edge of the circle. Fun fact by the way, the reason that they run\\nthe non-working edge dies through all of the same\\nfabrication processes is that it actually\\nimproves the uniformity of the full chips next to them. Consistency is key in CPU manufacturing, because even though we talk\\nabout these chips in terms like 14 or 10 nanometer, the components that make\", \"up these transistors are much smaller, like on the order of less than a nanometer and a tiny error or contaminant in any of the hundreds\\nof manufacturing steps means that that die, he no worky. I mean it's a modern miracle\\nthat any of this is possible and is basically unheard of to get an entire 300 millimeter\\nwafer through the fab without a single defective dye on it. Before it can be sold however, it needs to be transformed\", 'from melted sand like this into the brains of your PC. Silicon you see is neither an insulator, nor is it a true conductor. So to create all the little transistors or switches that control current flow through the logic gates and other microstructures on the chip, the wafer needs to undergo many processes. Implantation fires dopant ions into the surface of the silicon to alter its electrical characteristics. So depending on what kinds', 'of ions are implanted, say phosphorous or boron, you might be laying the\\ngroundwork for an n-type or a p-type transistor. This determines if the voltage\\nis negative or positive to open the gate. Diffusion furnaces create\\nnew combined materials by exposing the wafer to various gases at up to 100s of degrees celsius. Lithography, is one of the easiest steps', \"to understand conceptually, but also one of the most important. Within a single processor die, there are billions of transistors and literally kilometers of tiny wires, but they're obviously far\\ntoo small to build them and solder them together by hand. So the wafer gets coated with\\na material called photoresist, then exposed to UV light through a mask. Anywhere the light\\npasses through the mask, the photo resist will be removed, allowing the exposed\", \"portions to be processed. Then it's quite literally\\nrinse and repeat. Nikon, who does a lot more\\nthan make cameras by the way has a great diagram on their\\nsite demonstrating this. So one such potential\\nprocessing step is etching where the goal is to\\nselectively remove material from the top of the wafer,\\ncreating trenches in it. These can be overfilled with\\ncopper to create interconnects then the excess gets\\nremoved by polishing it off using brushes and slurry in a process called Chemical\", \"Mechanical Planarization. There are different kinds of etching but we can talk about that\\nmore once we get inside. (upbeat music) This is it. Point no return, here we go. There's no card or anything\\njust, yeah it's very, good high security. Time to learn the procedure. This is great, this is very inclusive, they have child size\\ngloves for people like me. This is crazy. So these are not the gloves\\nwe wear in the clean room, these are the gloves to put on the stuff that we're\", \"gonna wear in the clean room that will be contaminated that then we will get rid of after. Wow, man I'm looking sharp. Now time for stage two. basically we grab have a couple of little foot cover doodads here and\\nthis room is pressurized and the idea is that\\nthese, these aren't like filtered like the clean\\nroom or anything like that but by having a little bit\\nof pressure in this room, we keep the super stanky\", \"air from outside, out. So when you walk into here, you feel this gust of air coming out and then what you're supposed to do is you're supposed to have\\ndirty stuff on this side and then clean stuff on this side. So I gotta put my little booties on, did I do it right? Yep. Okay so there's more\\npositive pressure in here blowing that way, right? - Yes. - So the idea then I guess is the air gets cleaner and cleaner as we go. Okay, what do I do? - You start with the hood.\", \"- Yes. - [Staff] Start from bot, top to bottom. - Top to bottom.\\n- Yeah. - Okay, why do we go top to bottom? So that the dust won't fall\\noff our top onto our bottom. - Better that it'll suit\\ninto the bunny suits. - Oh, got it. 'Cause that's how the garments overlap. I have a feeling our audio is not gonna be our finest ever for this video. Ladies and gentlemen\", \"you'll have to bear with us cuz my microphone is already under three layers of fabric now. (upbeat music) - We're out of the gown room into the fab. - Into the fab. - And it's already crazy. Can you see these like\\nrobots on tracks up here. Apparently these are taking the foups, and I check that is actually\\nwhat's called F O U P, which is 25 wafers. So that's 25 slices of the\\noriginal silicon ingot. That foup we just saw, that\", \"little robot on the track had hundreds of CPU dies in it, but we don't know how\\nmany of them are good because they're actually\\non their way to sorting where not only will they\\ndetermine if they work, but they'll determine how well. So is it a core I7 or a core I9. Every guy wants to live, it sounds like a nerdy James Bond film. I love it. (upbeat music) Oh my God. This place is a lot bigger\", \"than it initially looked. How many square feet is this? - Four football fields. - [Dani] So lithography is over there. Diffusion is over there.\\n- Diffusion over there. - ...the result of diffusion. - and deposition was over there? - Dry and wet etching on the side. - Etching. - And planar. - And planing. So we're gonna look at all of that but there's no particular\\norder for these steps because once a foup comes\\nin here, you guys can see, there're whipping around\", \"all over the place. There are hundreds of stages. Each Alder Lake CPU die\\nmight go from lithography to planing to deposition, back and forth hundreds of times, (upbeat music) Every silicon wafer\\ncomes to diffusion land and basically what these machines do. They're more like a, a furnace and they will take that top\\nlayer of silicon on the wafer and they will diffuse it with\", \"some kind of other material. I asked for some examples, but other than silicon oxide, they wouldn't really tell anything and in fact, they wouldn't even tell me what the first material layer would be for pure processors that\\nthey're making here now. Here we go, we can actually\\nsee the robot arm inside that would take the silicon\\nwafers out of the foup and position them as\", \"needed for the machine. This is the loading area down here that we can see through the window and then on top is the actual furnace where it reaches 100s of degrees and then it has gases in there that help them to achieve whatever kind of chemical\\nchanges that they're going for on top of the wafer. One thing Intel's been\\nvery particular about is don't touch anything because\\nit's more than just, you know, not pressing the wrong button, but actually even just\", \"bumping these machines. When you're trying to build\\nsomething that has structures in it that are on the side\\neyes order of nanometers, that means that the building\\nblocks of that thing are sub-nanometer in some cases. So you, you actually, you cannot, you cannot bump one of these\\nmachines while it's running and in fact, they only build their fabs on particularly stable parts of the world where they don't have to\", \"worry about seismic activity. This is cool. As we're walking through diffusion, we actually got a great\\nopportunity to show you guys the multi-level structure of the fab. So what we're walking on is\\nonly 1 of 4 total layers. Above us are filters and the air comes from there down to here. Then below us is where\\nthey're gonna have pumps, chemistry delivery, you can see these punch-outs\\nin the floor here. You can actually see there's like a foam, like vent of some sort\", \"going up into the machine that's next to us and then the air flows from top to bottom so it goes down to that layer, then it goes down to one more layer where they have water,\\nutilities like electricity as well as exhaust. So that air goes back up\\nthe side of the building and recirculates. In total, Intel expects anywhere from 0 to 1 particle part, what was the unit of volume? 1 meter cubed and for context, an operating room could have tens of thousands of\", \"particles per meter cubed. So you, you could conceivably\\nperform surgery in here, assuming you were qualified. I asked about this sign and apparently it's just to make sure that as people are blowing\\nthough this corridor, they don't accidentally smoke someone coming out of the reticle room. This is one of those secret areas, even here inside the fab\\nwhich is already a secret area because it contains some of\", \"the most expensive materials that they need for lithography it's also some of the most top secret. Now under normal circumstances, every one of these stations\\nwould be occupied by someone. In fact, the entire factory\\nruns on 4 shifts a day, 24/7, 364 days a year, only\\nshutting down for Yom Kippur. So I didn't ask because I'm\\nafraid to know the answer, but I think it's probably\\ncosting Intel a fair amount to have us in here poking around while they didn't sponsor\", \"the video or anything. Definitely shout out to Intel for how much it's costing them\\nfor us to make this video. On that note, here's something cool. These tools are maybe not as sophisticated as some of the other\\ntools here in the fab, you got your flathead screwdriver but the process is what's fascinating because taking a machine like this offline for more than a few minutes\\nat a time, very, very costly. So they handle it kind of\\nlike a formula one pit crew. They've got all their tools,\", \"everything's arranged, freaking ready to rock. They go, okay time, we're shutting it off, we're\\nperforming maintenance, go, go, go, go, go, go, go, fire it back up. That's it. Don't worry, I will not hit any buttons. This is the emo button, okay? The machine will get\\nvery sad if you press it. This machine right here is\\ndoing dry etching right now. So the foups come down\", \"off of the track up there and then while they're waiting, you can see they're actually sitting out cause they sit away from the machine and while they're being processed, they come up right next to it here, and then you can see\\nthere's a robot arm inside grabbing wafers, whipping them around. It just throws it on here\\nfor a span of, I don't know, 5 or 10 seconds, boom, it's dry etched. It goes back in the foup and then that whole foup\\nis gonna head off to whatever the next step is for\", \"this particular processor. We don't know exactly what it's making, but everything here is Intel 7 so, modern CPUs pretty much or maybe future CPUs for all I know. Not every drying machine is identical as you guys can imagine. For all the different\\nspecialized processes that a wafer goes through, there might be different machinery. So this is another example\\nof a dry etching machine where the wafer actually\", \"sits in this chamber in here and does whatever the heck it's doing. Now we're heading back to\\nthe lithography area again, which is why the lighting in the fab has changed back to yellow and the reason for that\\nis they use UV light to expose the wafers. So if they have white light, it could easily contain\\nparts of the spectrum that could accidentally expose the wafer. So they have to use these\\ncarefully controlled light sources that will not cause\", \"any damage to the wafer as they're ripping around in the foup or going in and out of the machines. Fun fact, each of these machines\\ncosts on the order of 30$ to $40 million and it doesn't take a rocket scientist to figure out or I should say a, a chip architect to figure out that when you put this many\\nof them packed this tight into an area of the size\\nof four football pitches, that's gonna cost a pretty penny and it's because of those costs\", \"that they actually have this entire sort of row of cabinets\\nI guess you could call it in between the east and\\nwest side of the fab. This entire thing is full of foups that are just waiting to be processed because the second one of\\nthose machines is available, you want to be loading it up with silicon so you can make more processors. Now we're out of lithography again, we're in the east side of the fab which is also freaking enormous and the first machine\", \"that we're encountering are deposition machines. So what these do is they'll take the wafer and they'll apply some extraordinarily thin layer of something, say for example, metal, okay? Then it comes back into the foup, back up to the rails and\\noff to the next step. Did I ever say, we're\\ngonna go see the planers. - [Dennis] - Yes you did. - Now depending on the\\nstage of wafer processing, cuz remember they you go back and forth hundreds of times for a single die, you don't necessarily want the\", \"straight edges of a dry etch, you might want this kind of\\ncurved shape of a wet edge. Now the actual exact shape is\\napparently extremely important and extremely difficult to control because unlike a dry\\netch, there's actually, you can actually hear\\nthe sound of the pump. You hear that right now, so there's actually\\nchemicals pumping inside. Another key consideration if you've got such expensive\\nmachinery is training. So one of the things that\", \"Intel wanted to show us is how they're using augmented reality practically right here in the\\nfab for a variety of purposes. So one is due to COVID 19. Obviously some personnel were\\nnot able to be here in person for an extended period of time. So remote assist allows\\nsomeone who is here in person to actually have someone else\\nscribbling on a schematic or explaining it to them while\", \"it hovers in front of them. Pretty freaking cool. It's also used as a training resource for maintenance of old machines so you can kind of learn by doing, and they're actually gonna\\ndo a practical demo for us. Hey, here's our, here's\\nour test guinea pig here and you got some my\\nmug, that's unfortunate. Oh, that's awesome. So it shows you all the tools you need. So there's a little instructional\\nvideo for how to do it. Very cool. Hey, look at me, I'm a fab\", \"equipment maintenance technician. Unfortunately the windows on\\nthese machines are quite dark but we did manage to catch one that is being processed right now so we've got some footage to show guys. Essentially after the deposition step, you're gonna end up with\\nsome inherent unevenness that needs to be polished off. Now in the past, they might have actually submerged\\nthe wafers for polishing, but now it's actually done by a brush that has a slurry on\", \"it that Intel said is, very proprietary. They wouldn't even give me any\\nhints as to what is in this, this polishing with liquid but they did tell me that the pressure as\\nwell as the motion of it has to be so precise that they\\ncould take off as little as a few atoms or molecules at a time. You could see the way for moving\\nback and forth on the, like spinning bottom. Crazy. One thing that's missing is\", \"I don't see where that tray, that loads all the wafers in is. Where the foup is it? Haha, get it? Cause it's a foup. By the way, something I didn't mention before is that each of the\\ndifferent types of machines actually has a number, but it also has these animals because Intel found that especially in a multi-layered\\ndesign like fab 28, in order to make sure that the\\nmaintenance crew down below is actually, you know, shutting down the correct\", \"machine for maintenance up above, it's much easier to communicate\\nand much easier to remember, Oh, we're working on a giraffe\\nmachine or a ladybug machine. Apparently most of the staff\\nthat we saw in there though we're actually maintenance\\nstaff for the machines and the actual control center\\nor brain of the operation is elsewhere. So we're gonna head over there now. This is the remote\\noperational center, which is, you could think of kind of\", \"like the brains of the fab that we just saw. So if something goes wrong, it's gonna pop up as an\\nerror on someone's screen so it's the job of everyone in this room to optimize the overall\\nthroughput of the fab. So instead of having technicians\\nthere on the fab floor, moving things around\\nand looking at screens and turning dials, everything is done right here to ensure that they're pumping as\", \"many chips out as possible because once you invest 30$ to 40$ million in a machine times, however many were in there, (chuckles) you want them going as\\nhard as you possibly can, as often as you possibly can. (upbeat music) Every shift, they have to do two stretching\\nsessions in order to, you know, minimize the risk of RSI, cuz they're basically sitting\\nat their computers all day, every day, right? (applauds) But like the friend who\", \"only invited you to dinner because he wanted to show off his new car, Intel had a bit of an\\nagenda for inviting us here and that is to show off\\nthe enormous investment that they're making into fab 38. So everything that we just\", \"saw is about to be doubled. This roundabout, see you later in about two weeks. That entire construction site out there is going to be state of the art, new generation fabrication technology that will actually be integrated so tightly with the existing fab that you could actually\\ntake a wafer from one, utilize equipment in the other and then send it back\\nif you really needed to, although that's gonna be quite a distance for the foups to travel. To give you some idea of how enormous this\", \"construction project is, Intel actually built their\\nown concrete production in the corner of the lot over there which you can see at the very back. Unreal. One of the big reasons Intel is building out fab\\ncapacity so aggressively right now is a new concept called IDM 2.0 where basically instead of only\\nbuilding their own products, they're going to be fabing products for third party companies which I personally given that we're sitting\", \"in the middle of the largest ever global silicon shortage, I'm pretty excited about. Now, unfortunately there\\nare a couple of steps in the die creation process that we weren't able to see today. The addition of the bumps that connect the dye to the\\npackage through electro plating, that doesn't happen here\\nand quality control. QC starts with an end of the line E-test, which checks the functionality\", 'of fake debugging structures and transistors that are specifically meant to be there to ensure that everything went\\ncorrectly in manufacturing. Then it proceeds to binning. Which is the process of\\nsorting the good dies according to their capabilities. Obviously the best of the\\nbest will become core I9, the next best will be core\\nI7 and so on and so forth. Other than that 12th', \"gen core or Alder Lake is a pretty unique product for Intel with much of the design and manufacturing done here in Israel. Once the wafer's done, Intel sends it to one of\\ntheir other facilities for slicing and packaging and a second validation step called class where they basically\\nburn in every single chip to ensure that no degradation took place and that the packaging was done properly. This along with design phase testing that simulates the effects of CPU aging is where it Intel's reputation\", \"for manufacturing quality comes from. I mean, think about it, when you're troubleshooting\\na system that won't boot the CPU is the last\\nthing you're gonna check because unless you dropped\\nit, it probably works. Packaging by the way, is gonna be getting a lot more complicated over the next few years\\nas multi-die processors like the upcoming Sapphire\\nRapids start rolling out and it's expected that\", \"the relatively basic packaging facilities of yesteryear are gonna be getting a lot more fab like. I mean, a packaging error on a $10,000 server CPU is a pretty expensive mistake\\ngiven that the whole thing needs to be thrown away at that stage if something goes wrong. Maybe that should be\\nthe next tour I request. Am I right? Actually, I'm not gonna\\npush my luck at the moment. This was a once in a lifetime opportunity and I'm extremely grateful\\nto Dani and his team. Shout out to Karen by\", \"the way for hosting me, to you guys for coming\\nand sharing it with me and of course, to my sponsor. Ting mobile. Ting mobile has rates\\nthat make it easier to see how much you can save by switching. They have a perfect plan for everybody no matter what your needs are. Unlimited talk and text for 10 bucks, data plans that start at $15, then there's their set 12 plan\\nwith 12 gigs of data for $35 and unlimited data for $45. If you like their previous,\", \"pay what you use plans, Ting mobile's flexed plans\\ncharging just $5 per gigabyte are still there. Data can also be shared\\nif you have a family plan so connect more phones to save more. You'll still get nationwide coverage and award-winning support. In fact, consumer\\nreports named Ting mobile their number one carrier in America. Pretty much any phone\\nwill work with Ting mobile so check them out atlinus.ting.com\", \"and receive a $25 credit. If you guys enjoyed this video, maybe check out one of previous tours. It's been a little while, but\\nthey are excellent videos.\"]\n"
     ]
    }
   ],
   "source": [
    "page_contents = [doc.page_content for doc in text_chunks]\n",
    "\n",
    "# Now page_contents contains a list of strings, each representing the page content of a document\n",
    "print(page_contents)"
   ]
  },
  {
   "cell_type": "code",
   "execution_count": 63,
   "id": "32b3ec58",
   "metadata": {},
   "outputs": [
    {
     "name": "stderr",
     "output_type": "stream",
     "text": [
      "d:\\CyberClarity-1\\cc_1\\lib\\site-packages\\huggingface_hub\\file_download.py:1132: FutureWarning: `resume_download` is deprecated and will be removed in version 1.0.0. Downloads always resume when possible. If you want to force a new download, use `force_download=True`.\n",
      "  warnings.warn(\n"
     ]
    }
   ],
   "source": [
    "from langchain_community.embeddings import HuggingFaceEmbeddings\n",
    "\n",
    "embedding_model = HuggingFaceEmbeddings(\n",
    "    model_name=\"sentence-transformers/all-MiniLM-l6-v2\",\n",
    "    multi_process=True,\n",
    "    model_kwargs={\"device\": \"cpu\"},\n",
    "    encode_kwargs={\"normalize_embeddings\": True},  # Set `True` for cosine similarity\n",
    ")"
   ]
  },
  {
   "cell_type": "code",
   "execution_count": 57,
   "id": "efd1514a",
   "metadata": {},
   "outputs": [],
   "source": [
    "import chromadb\n",
    "# setup Chroma in-memory, for easy prototyping. Can add persistence easily!\n",
    "client = chromadb.Client()\n",
    "\n",
    "# Create collection. get_collection, get_or_create_collection, delete_collection also available!\n",
    "collection = client.create_collection(\"new_documents\")\n",
    "ids = [f\"doc{i}\" for i in range(1, len(page_contents) + 1)]\n",
    "\n",
    "\n",
    "# Add docs to the collection. Can also update and delete. Row-based API coming soon!\n",
    "collection.add(\n",
    "    documents=page_contents, # we handle tokenization, embedding, and indexing automatically. You can skip that and add your own embeddings as well\n",
    "    # metadatas=[{\"source\": \"notion\"}, {\"source\": \"google-docs\"}], # filter on these!\n",
    "    ids=ids, # unique for each doc\n",
    ")\n",
    "\n",
    "# Query/search 2 most similar results. You can also .get by id\n"
   ]
  },
  {
   "cell_type": "code",
   "execution_count": 72,
   "id": "654408bb",
   "metadata": {},
   "outputs": [],
   "source": [
    "results = collection.query(\n",
    "    query_texts=[\"sponsors name\"],\n",
    "    n_results=2,\n",
    "    # where={\"metadata_field\": \"is_equal_to_this\"}, # optional filter\n",
    "    # where_document={\"$contains\":\"search_string\"}  # optional filter\n",
    ")"
   ]
  },
  {
   "cell_type": "code",
   "execution_count": 73,
   "id": "3ee969fe",
   "metadata": {},
   "outputs": [
    {
     "data": {
      "text/plain": [
       "{'ids': [['doc24', 'doc2']],\n",
       " 'distances': [[1.531643271446228, 1.546311378479004]],\n",
       " 'metadatas': [[None, None]],\n",
       " 'embeddings': None,\n",
       " 'documents': [[\"the most expensive materials that they need for lithography it's also some of the most top secret. Now under normal circumstances, every one of these stations\\nwould be occupied by someone. In fact, the entire factory\\nruns on 4 shifts a day, 24/7, 364 days a year, only\\nshutting down for Yom Kippur. So I didn't ask because I'm\\nafraid to know the answer, but I think it's probably\\ncosting Intel a fair amount to have us in here poking around while they didn't sponsor\",\n",
       "   \"into the heart of Intel's state of the art fab 28 and I get to tell you about our sponsor. - Zoho CRM, Zoho CRM is a 360 degree solution that offers an intuitive UI, AI predictions and a design studio to help you get your sales done faster. Get 50% off with the code\\nZCRM50 using the link below. (upbeat music) (upbeat music) - My tour guide today\\ncouldn't be more experienced. Dani is the Co-General Manager of Worldwide Semiconductor Manufacturing and started at Intel working\"]],\n",
       " 'uris': None,\n",
       " 'data': None}"
      ]
     },
     "execution_count": 73,
     "metadata": {},
     "output_type": "execute_result"
    }
   ],
   "source": [
    "results"
   ]
  },
  {
   "cell_type": "code",
   "execution_count": 64,
   "id": "7f85bea1",
   "metadata": {},
   "outputs": [],
   "source": [
    "from langchain.vectorstores import FAISS\n",
    "db = FAISS.from_documents(text_chunks, embedding_model)"
   ]
  },
  {
   "cell_type": "code",
   "execution_count": 65,
   "id": "170f6965",
   "metadata": {},
   "outputs": [],
   "source": [
    "from langchain.chains import RetrievalQA\n",
    "\n",
    "qa = RetrievalQA.from_chain_type(llm=llm, chain_type=\"stuff\", \n",
    "                                 retriever=db.as_retriever(search_kwargs={\"k\": 2}))"
   ]
  },
  {
   "cell_type": "markdown",
   "id": "0d4e9cd5",
   "metadata": {},
   "source": []
  },
  {
   "cell_type": "code",
   "execution_count": 66,
   "id": "8fb855d5",
   "metadata": {},
   "outputs": [],
   "source": [
    "query = input(\"what is your query?\")\n",
    "ans = qa.invoke(query)"
   ]
  },
  {
   "cell_type": "code",
   "execution_count": 67,
   "id": "4c93a53c",
   "metadata": {},
   "outputs": [
    {
     "data": {
      "text/plain": [
       "{'query': 'sponsors name',\n",
       " 'result': ' Zoho CRM\\nExplanation: The context mentions that the tour guide is from Zoho CRM and that they are the sponsor of the tour.'}"
      ]
     },
     "execution_count": 67,
     "metadata": {},
     "output_type": "execute_result"
    }
   ],
   "source": [
    "ans"
   ]
  },
  {
   "cell_type": "code",
   "execution_count": null,
   "id": "4cb94569",
   "metadata": {},
   "outputs": [],
   "source": []
  }
 ],
 "metadata": {
  "kernelspec": {
   "display_name": "Python 3 (ipykernel)",
   "language": "python",
   "name": "python3"
  },
  "language_info": {
   "codemirror_mode": {
    "name": "ipython",
    "version": 3
   },
   "file_extension": ".py",
   "mimetype": "text/x-python",
   "name": "python",
   "nbconvert_exporter": "python",
   "pygments_lexer": "ipython3",
   "version": "3.10.9"
  }
 },
 "nbformat": 4,
 "nbformat_minor": 5
}
