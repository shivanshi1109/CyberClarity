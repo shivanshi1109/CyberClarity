{
 "cells": [
  {
   "cell_type": "code",
   "execution_count": 1,
   "id": "4b33c2c7",
   "metadata": {
    "scrolled": true
   },
   "outputs": [],
   "source": [
    "from langchain_community.document_loaders import YoutubeLoader\n",
    "# from spire.doc import *\n",
    "# from spire.doc.common import *\n",
    "import os\n",
    "from dotenv import load_dotenv\n",
    "load_dotenv()\n",
    "from langchain_community.llms import HuggingFaceEndpoint\n",
    "import re\n",
    "from langchain.chains import LLMChain\n",
    "from langchain.prompts import PromptTemplate"
   ]
  },
  {
   "cell_type": "code",
   "execution_count": 2,
   "id": "38a18f16",
   "metadata": {},
   "outputs": [],
   "source": [
    "os.environ['HUGGINGFACEHUB_API_TOKEN'] = os.getenv(\"HUGGINGFACEHUB_API_TOKEN\")"
   ]
  },
  {
   "cell_type": "code",
   "execution_count": 5,
   "id": "5caf490f",
   "metadata": {},
   "outputs": [],
   "source": [
    "youtube_url=input(\"Youtube Link:\")\n",
    "loader = YoutubeLoader.from_youtube_url(\n",
    "    youtube_url, add_video_info=False\n",
    ")\n"
   ]
  },
  {
   "cell_type": "code",
   "execution_count": 6,
   "id": "fe9f9157",
   "metadata": {},
   "outputs": [],
   "source": [
    "documents = loader.load()  # Assuming this returns a list of Document objects\n"
   ]
  },
  {
   "cell_type": "code",
   "execution_count": 7,
   "id": "2c4b14f0",
   "metadata": {},
   "outputs": [],
   "source": [
    "def clean_text(text):\n",
    "    \"\"\"\n",
    "    Cleans the extracted text by removing unnecessary characters and whitespace.\n",
    "\n",
    "    Args:\n",
    "    text (str): Extracted text.\n",
    "\n",
    "    Returns:\n",
    "    str: Cleaned text.\n",
    "    \"\"\"\n",
    "    # Remove extra whitespace and newlines\n",
    "    cleaned_text = re.sub(r'\\s+', ' ', text)\n",
    "    # Remove non-printable characters\n",
    "    cleaned_text = re.sub(r'[^\\x00-\\x7F]+', '', cleaned_text)\n",
    "    # Remove any leading or trailing whitespace\n",
    "    cleaned_text = cleaned_text.strip()\n",
    "    return cleaned_text"
   ]
  },
  {
   "cell_type": "code",
   "execution_count": 8,
   "id": "f7bcb45d",
   "metadata": {},
   "outputs": [],
   "source": [
    "script=clean_text(documents[0].page_content)"
   ]
  },
  {
   "cell_type": "code",
   "execution_count": 9,
   "id": "acc1b0ed",
   "metadata": {},
   "outputs": [
    {
     "name": "stderr",
     "output_type": "stream",
     "text": [
      "c:\\Users\\shiva\\OneDrive\\Desktop\\CyberClarity-1\\cc_1\\lib\\site-packages\\langchain_core\\_api\\deprecation.py:119: LangChainDeprecationWarning: The class `HuggingFaceEndpoint` was deprecated in LangChain 0.0.37 and will be removed in 0.3. An updated version of the class exists in the from langchain-huggingface package and should be used instead. To use it run `pip install -U from langchain-huggingface` and import as `from from langchain_huggingface import llms import HuggingFaceEndpoint`.\n",
      "  warn_deprecated(\n"
     ]
    },
    {
     "name": "stdout",
     "output_type": "stream",
     "text": [
      "The token has not been saved to the git credentials helper. Pass `add_to_git_credential=True` in this function directly or `--add-to-git-credential` if using via `huggingface-cli` if you want to set the git credential as well.\n",
      "Token is valid (permission: write).\n",
      "Your token has been saved to C:\\Users\\shiva\\.cache\\huggingface\\token\n",
      "Login successful\n"
     ]
    }
   ],
   "source": [
    "\n",
    "repo_id = \"mistralai/Mistral-7B-Instruct-v0.2\"  \n",
    "llm = HuggingFaceEndpoint(\n",
    "    repo_id=repo_id, temperature= 0.75, model_kwargs= {'max_length': 8192}, max_new_tokens=4096)"
   ]
  },
  {
   "cell_type": "code",
   "execution_count": 10,
   "id": "2f4af3a3",
   "metadata": {},
   "outputs": [],
   "source": [
    "prompt_template = PromptTemplate(\n",
    "        input_variables=[\"text\"],\n",
    "        template=\"Summarize the following text in 550 words:\\n\\n {text} \\n\\nSummary:\"\n",
    "    )\n",
    "\n",
    "    # Create an LLMChain with the LLM and prompt\n",
    "chain = prompt_template | llm\n",
    "    \n",
    "    # Run the chain to summarize the text\n",
    "summary = chain.invoke(script)"
   ]
  },
  {
   "cell_type": "code",
   "execution_count": 11,
   "id": "27b6972f",
   "metadata": {},
   "outputs": [
    {
     "data": {
      "text/plain": [
       "\"\\n\\nThe text consists of various conversations between individuals in different settings, discussing various topics such as a group project, a meal, the weather, plans, a job, and personal matters.\\n\\nThe group is discussing their project topic for their class, which is analyzing the marketing strategy of the British Museum. They plan to go to the museum to conduct research and have a meeting beforehand to discuss their findings. One member expresses excitement about the project, while others seem unsure.\\n\\nAt a restaurant, a customer is paying for a meal and has a conversation with the server about the tornadoes in Kentucky and global climate change. They express sympathy for those affected and discuss how the weather has become more unpredictable.\\n\\nAnna and Layla have a reunion and make plans to grab coffee together. They ask about each other's lives and make arrangements to meet up.\\n\\nAt a store, a customer is buying items and has a conversation with the salesperson about finding the right size for a dress. They make arrangements to try it on and discuss other items they might be interested in.\\n\\nA customer is ordering food at a restaurant and discussing options with the server. They decide to try something new and discuss the quality of the beef steak.\\n\\nA girl is asking to stay overnight at a friend's house and they make arrangements to do so.\\n\\nAt the post office, a customer picks up a package and has a brief conversation with the clerk.\\n\\nAt a hotel, a customer checks in and has a conversation with the front desk agent about their reservation. They receive assistance with their luggage and are shown to their room.\\n\\nA person is asking for directions to the Museum of Fine Arts and receives assistance from a stranger.\\n\\nA man is introducing himself to his cousin, who is staying with him for a few days.\\n\\nA married couple is discussing plans for celebrating their anniversary.\\n\\nA person is being interviewed for a marketing job and discusses their previous experience and is given a test.\\n\\nA person is chatting online with a new friend and discussing their plans to meet in person.\\n\\nA person is talking about a friend they met at a game and expressing their admiration for them.\\n\\nA person is discussing their old friend from University and reminiscing about their time together.\\n\\nA YouTuber is asking viewers to like, share, comment, and subscribe to their channel.\""
      ]
     },
     "execution_count": 11,
     "metadata": {},
     "output_type": "execute_result"
    }
   ],
   "source": [
    "summary"
   ]
  },
  {
   "cell_type": "code",
   "execution_count": null,
   "id": "db437d55",
   "metadata": {},
   "outputs": [],
   "source": [
    "\"\\nThe text is a transcript of a video showing two friends, Luke and Ashley, attempting to survive for 24 hours in the snow. They arrive at their destination and realize they have left their car keys behind, but decide to proceed without them. They begin building a shelter, but struggle with the process due to the difficulty of the terrain and Luke's lack of motivation. They also encounter challenges in finding firewood and water. Throughout the process, they assess their primitive survival ratings (PSRs) and make jokes about each other's weaknesses. Eventually, they finish building their shelter and manage to make a fire, but are interrupted by the arrival of the police, who tell them they are trespassing on private property. They quickly pack up and leave, feeling relieved that they had only intended to stay for a short time. Overall, the text depicts the friends' struggles and camaraderie as they attempt to survive in the wilderness.\""
   ]
  }
 ],
 "metadata": {
  "kernelspec": {
   "display_name": "Python 3 (ipykernel)",
   "language": "python",
   "name": "python3"
  },
  "language_info": {
   "codemirror_mode": {
    "name": "ipython",
    "version": 3
   },
   "file_extension": ".py",
   "mimetype": "text/x-python",
   "name": "python",
   "nbconvert_exporter": "python",
   "pygments_lexer": "ipython3",
   "version": "3.10.9"
  }
 },
 "nbformat": 4,
 "nbformat_minor": 5
}
