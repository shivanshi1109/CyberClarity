{
 "cells": [
  {
   "cell_type": "code",
   "execution_count": 1,
   "id": "4b33c2c7",
   "metadata": {
    "scrolled": true
   },
   "outputs": [],
   "source": [
    "from langchain_community.document_loaders import YoutubeLoader\n",
    "# from spire.doc import *\n",
    "# from spire.doc.common import *\n",
    "import os\n",
    "from dotenv import load_dotenv\n",
    "load_dotenv()\n",
    "from langchain_community.llms import HuggingFaceEndpoint\n",
    "import re\n",
    "from langchain.chains import LLMChain\n",
    "from langchain.prompts import PromptTemplate"
   ]
  },
  {
   "cell_type": "code",
   "execution_count": 2,
   "id": "38a18f16",
   "metadata": {},
   "outputs": [],
   "source": [
    "os.environ['HUGGINGFACEHUB_API_TOKEN'] = os.getenv(\"HUGGINGFACEHUB_API_TOKEN\")"
   ]
  },
  {
   "cell_type": "code",
   "execution_count": 3,
   "id": "5caf490f",
   "metadata": {},
   "outputs": [],
   "source": [
    "youtube_url=input(\"Youtube Link:\")\n",
    "\n"
   ]
  },
  {
   "cell_type": "code",
   "execution_count": 4,
   "id": "3122c099",
   "metadata": {},
   "outputs": [],
   "source": [
    "loader = YoutubeLoader.from_youtube_url(\n",
    "    youtube_url, add_video_info=False\n",
    ")"
   ]
  },
  {
   "cell_type": "code",
   "execution_count": 5,
   "id": "fe9f9157",
   "metadata": {},
   "outputs": [],
   "source": [
    "documents = loader.load()  # Assuming this returns a list of Document objects\n"
   ]
  },
  {
   "cell_type": "code",
   "execution_count": 6,
   "id": "9822a59b",
   "metadata": {},
   "outputs": [
    {
     "data": {
      "text/plain": [
       "[Document(page_content=\"- I've spent most of my career trying to get into a chip fab. Samsung's a hard no, Global Foundries was open to it in person, then ghosted me when I followed up and Intel has said no to me, every single time I've asked except one. Honestly, I'm pretty overwhelmed today because I'm gonna be\\ntaking three major items off my bucket list. I'm visiting Israel for the first time, I'm gonna be going deep\\ninto the heart of Intel's state of the art fab 28 and I get to tell you about our sponsor. - Zoho CRM, Zoho CRM is a 360 degree solution that offers an intuitive UI, AI predictions and a design studio to help you get your sales done faster. Get 50% off with the code\\nZCRM50 using the link below. (upbeat music) (upbeat music) - My tour guide today\\ncouldn't be more experienced. Dani is the Co-General Manager of Worldwide Semiconductor Manufacturing and started at Intel working\\nin fab 8 in Jerusalem back when state of the\\nart was the Pentium one. Microprocessor fabrication experts can safely skip ahead a couple of minutes, but for everyone else, let's run through the basics. Every CPU die, every one of these starts\\nwith a sliced up silicon ingot like the one right here. These are astonishingly pure and are exactly 300\\nmillimeters in diameter. If they went in any smaller, they'd increase waste around the edges. I mean look at this, obviously this is not\\ngonna be a working chip if it's cut off by the edge of the circle. Fun fact by the way, the reason that they run\\nthe non-working edge dies through all of the same\\nfabrication processes is that it actually\\nimproves the uniformity of the full chips next to them. Consistency is key in CPU manufacturing, because even though we talk\\nabout these chips in terms like 14 or 10 nanometer, the components that make\\nup these transistors are much smaller, like on the order of less than a nanometer and a tiny error or contaminant in any of the hundreds\\nof manufacturing steps means that that die, he no worky. I mean it's a modern miracle\\nthat any of this is possible and is basically unheard of to get an entire 300 millimeter\\nwafer through the fab without a single defective dye on it. Before it can be sold however, it needs to be transformed\\nfrom melted sand like this into the brains of your PC. Silicon you see is neither an insulator, nor is it a true conductor. So to create all the little transistors or switches that control current flow through the logic gates and other microstructures on the chip, the wafer needs to undergo many processes. Implantation fires dopant ions into the surface of the silicon to alter its electrical characteristics. So depending on what kinds\\nof ions are implanted, say phosphorous or boron, you might be laying the\\ngroundwork for an n-type or a p-type transistor. This determines if the voltage\\nis negative or positive to open the gate. Diffusion furnaces create\\nnew combined materials by exposing the wafer to various gases at up to 100s of degrees celsius. Lithography, is one of the easiest steps\\nto understand conceptually, but also one of the most important. Within a single processor die, there are billions of transistors and literally kilometers of tiny wires, but they're obviously far\\ntoo small to build them and solder them together by hand. So the wafer gets coated with\\na material called photoresist, then exposed to UV light through a mask. Anywhere the light\\npasses through the mask, the photo resist will be removed, allowing the exposed\\nportions to be processed. Then it's quite literally\\nrinse and repeat. Nikon, who does a lot more\\nthan make cameras by the way has a great diagram on their\\nsite demonstrating this. So one such potential\\nprocessing step is etching where the goal is to\\nselectively remove material from the top of the wafer,\\ncreating trenches in it. These can be overfilled with\\ncopper to create interconnects then the excess gets\\nremoved by polishing it off using brushes and slurry in a process called Chemical\\nMechanical Planarization. There are different kinds of etching but we can talk about that\\nmore once we get inside. (upbeat music) This is it. Point no return, here we go. There's no card or anything\\njust, yeah it's very, good high security. Time to learn the procedure. This is great, this is very inclusive, they have child size\\ngloves for people like me. This is crazy. So these are not the gloves\\nwe wear in the clean room, these are the gloves to put on the stuff that we're\\ngonna wear in the clean room that will be contaminated that then we will get rid of after. Wow, man I'm looking sharp. Now time for stage two. basically we grab have a couple of little foot cover doodads here and\\nthis room is pressurized and the idea is that\\nthese, these aren't like filtered like the clean\\nroom or anything like that but by having a little bit\\nof pressure in this room, we keep the super stanky\\nair from outside, out. So when you walk into here, you feel this gust of air coming out and then what you're supposed to do is you're supposed to have\\ndirty stuff on this side and then clean stuff on this side. So I gotta put my little booties on, did I do it right? Yep. Okay so there's more\\npositive pressure in here blowing that way, right? - Yes. - So the idea then I guess is the air gets cleaner and cleaner as we go. Okay, what do I do? - You start with the hood.\\n- Yes. - [Staff] Start from bot, top to bottom. - Top to bottom.\\n- Yeah. - Okay, why do we go top to bottom? So that the dust won't fall\\noff our top onto our bottom. - Better that it'll suit\\ninto the bunny suits. - Oh, got it. 'Cause that's how the garments overlap. I have a feeling our audio is not gonna be our finest ever for this video. Ladies and gentlemen\\nyou'll have to bear with us cuz my microphone is already under three layers of fabric now. (upbeat music) - We're out of the gown room into the fab. - Into the fab. - And it's already crazy. Can you see these like\\nrobots on tracks up here. Apparently these are taking the foups, and I check that is actually\\nwhat's called F O U P, which is 25 wafers. So that's 25 slices of the\\noriginal silicon ingot. That foup we just saw, that\\nlittle robot on the track had hundreds of CPU dies in it, but we don't know how\\nmany of them are good because they're actually\\non their way to sorting where not only will they\\ndetermine if they work, but they'll determine how well. So is it a core I7 or a core I9. Every guy wants to live, it sounds like a nerdy James Bond film. I love it. (upbeat music) Oh my God. This place is a lot bigger\\nthan it initially looked. How many square feet is this? - Four football fields. - [Dani] So lithography is over there. Diffusion is over there.\\n- Diffusion over there. - ...the result of diffusion. - and deposition was over there? - Dry and wet etching on the side. - Etching. - And planar. - And planing. So we're gonna look at all of that but there's no particular\\norder for these steps because once a foup comes\\nin here, you guys can see, there're whipping around\\nall over the place. There are hundreds of stages. Each Alder Lake CPU die\\nmight go from lithography to planing to deposition, back and forth hundreds of times, (upbeat music) Every silicon wafer\\ncomes to diffusion land and basically what these machines do. They're more like a, a furnace and they will take that top\\nlayer of silicon on the wafer and they will diffuse it with\\nsome kind of other material. I asked for some examples, but other than silicon oxide, they wouldn't really tell anything and in fact, they wouldn't even tell me what the first material layer would be for pure processors that\\nthey're making here now. Here we go, we can actually\\nsee the robot arm inside that would take the silicon\\nwafers out of the foup and position them as\\nneeded for the machine. This is the loading area down here that we can see through the window and then on top is the actual furnace where it reaches 100s of degrees and then it has gases in there that help them to achieve whatever kind of chemical\\nchanges that they're going for on top of the wafer. One thing Intel's been\\nvery particular about is don't touch anything because\\nit's more than just, you know, not pressing the wrong button, but actually even just\\nbumping these machines. When you're trying to build\\nsomething that has structures in it that are on the side\\neyes order of nanometers, that means that the building\\nblocks of that thing are sub-nanometer in some cases. So you, you actually, you cannot, you cannot bump one of these\\nmachines while it's running and in fact, they only build their fabs on particularly stable parts of the world where they don't have to\\nworry about seismic activity. This is cool. As we're walking through diffusion, we actually got a great\\nopportunity to show you guys the multi-level structure of the fab. So what we're walking on is\\nonly 1 of 4 total layers. Above us are filters and the air comes from there down to here. Then below us is where\\nthey're gonna have pumps, chemistry delivery, you can see these punch-outs\\nin the floor here. You can actually see there's like a foam, like vent of some sort\\ngoing up into the machine that's next to us and then the air flows from top to bottom so it goes down to that layer, then it goes down to one more layer where they have water,\\nutilities like electricity as well as exhaust. So that air goes back up\\nthe side of the building and recirculates. In total, Intel expects anywhere from 0 to 1 particle part, what was the unit of volume? 1 meter cubed and for context, an operating room could have tens of thousands of\\nparticles per meter cubed. So you, you could conceivably\\nperform surgery in here, assuming you were qualified. I asked about this sign and apparently it's just to make sure that as people are blowing\\nthough this corridor, they don't accidentally smoke someone coming out of the reticle room. This is one of those secret areas, even here inside the fab\\nwhich is already a secret area because it contains some of\\nthe most expensive materials that they need for lithography it's also some of the most top secret. Now under normal circumstances, every one of these stations\\nwould be occupied by someone. In fact, the entire factory\\nruns on 4 shifts a day, 24/7, 364 days a year, only\\nshutting down for Yom Kippur. So I didn't ask because I'm\\nafraid to know the answer, but I think it's probably\\ncosting Intel a fair amount to have us in here poking around while they didn't sponsor\\nthe video or anything. Definitely shout out to Intel for how much it's costing them\\nfor us to make this video. On that note, here's something cool. These tools are maybe not as sophisticated as some of the other\\ntools here in the fab, you got your flathead screwdriver but the process is what's fascinating because taking a machine like this offline for more than a few minutes\\nat a time, very, very costly. So they handle it kind of\\nlike a formula one pit crew. They've got all their tools,\\neverything's arranged, freaking ready to rock. They go, okay time, we're shutting it off, we're\\nperforming maintenance, go, go, go, go, go, go, go, fire it back up. That's it. Don't worry, I will not hit any buttons. This is the emo button, okay? The machine will get\\nvery sad if you press it. This machine right here is\\ndoing dry etching right now. So the foups come down\\noff of the track up there and then while they're waiting, you can see they're actually sitting out cause they sit away from the machine and while they're being processed, they come up right next to it here, and then you can see\\nthere's a robot arm inside grabbing wafers, whipping them around. It just throws it on here\\nfor a span of, I don't know, 5 or 10 seconds, boom, it's dry etched. It goes back in the foup and then that whole foup\\nis gonna head off to whatever the next step is for\\nthis particular processor. We don't know exactly what it's making, but everything here is Intel 7 so, modern CPUs pretty much or maybe future CPUs for all I know. Not every drying machine is identical as you guys can imagine. For all the different\\nspecialized processes that a wafer goes through, there might be different machinery. So this is another example\\nof a dry etching machine where the wafer actually\\nsits in this chamber in here and does whatever the heck it's doing. Now we're heading back to\\nthe lithography area again, which is why the lighting in the fab has changed back to yellow and the reason for that\\nis they use UV light to expose the wafers. So if they have white light, it could easily contain\\nparts of the spectrum that could accidentally expose the wafer. So they have to use these\\ncarefully controlled light sources that will not cause\\nany damage to the wafer as they're ripping around in the foup or going in and out of the machines. Fun fact, each of these machines\\ncosts on the order of 30$ to $40 million and it doesn't take a rocket scientist to figure out or I should say a, a chip architect to figure out that when you put this many\\nof them packed this tight into an area of the size\\nof four football pitches, that's gonna cost a pretty penny and it's because of those costs\\nthat they actually have this entire sort of row of cabinets\\nI guess you could call it in between the east and\\nwest side of the fab. This entire thing is full of foups that are just waiting to be processed because the second one of\\nthose machines is available, you want to be loading it up with silicon so you can make more processors. Now we're out of lithography again, we're in the east side of the fab which is also freaking enormous and the first machine\\nthat we're encountering are deposition machines. So what these do is they'll take the wafer and they'll apply some extraordinarily thin layer of something, say for example, metal, okay? Then it comes back into the foup, back up to the rails and\\noff to the next step. Did I ever say, we're\\ngonna go see the planers. - [Dennis] - Yes you did. - Now depending on the\\nstage of wafer processing, cuz remember they you go back and forth hundreds of times for a single die, you don't necessarily want the\\nstraight edges of a dry etch, you might want this kind of\\ncurved shape of a wet edge. Now the actual exact shape is\\napparently extremely important and extremely difficult to control because unlike a dry\\netch, there's actually, you can actually hear\\nthe sound of the pump. You hear that right now, so there's actually\\nchemicals pumping inside. Another key consideration if you've got such expensive\\nmachinery is training. So one of the things that\\nIntel wanted to show us is how they're using augmented reality practically right here in the\\nfab for a variety of purposes. So one is due to COVID 19. Obviously some personnel were\\nnot able to be here in person for an extended period of time. So remote assist allows\\nsomeone who is here in person to actually have someone else\\nscribbling on a schematic or explaining it to them while\\nit hovers in front of them. Pretty freaking cool. It's also used as a training resource for maintenance of old machines so you can kind of learn by doing, and they're actually gonna\\ndo a practical demo for us. Hey, here's our, here's\\nour test guinea pig here and you got some my\\nmug, that's unfortunate. Oh, that's awesome. So it shows you all the tools you need. So there's a little instructional\\nvideo for how to do it. Very cool. Hey, look at me, I'm a fab\\nequipment maintenance technician. Unfortunately the windows on\\nthese machines are quite dark but we did manage to catch one that is being processed right now so we've got some footage to show guys. Essentially after the deposition step, you're gonna end up with\\nsome inherent unevenness that needs to be polished off. Now in the past, they might have actually submerged\\nthe wafers for polishing, but now it's actually done by a brush that has a slurry on\\nit that Intel said is, very proprietary. They wouldn't even give me any\\nhints as to what is in this, this polishing with liquid but they did tell me that the pressure as\\nwell as the motion of it has to be so precise that they\\ncould take off as little as a few atoms or molecules at a time. You could see the way for moving\\nback and forth on the, like spinning bottom. Crazy. One thing that's missing is\\nI don't see where that tray, that loads all the wafers in is. Where the foup is it? Haha, get it? Cause it's a foup. By the way, something I didn't mention before is that each of the\\ndifferent types of machines actually has a number, but it also has these animals because Intel found that especially in a multi-layered\\ndesign like fab 28, in order to make sure that the\\nmaintenance crew down below is actually, you know, shutting down the correct\\nmachine for maintenance up above, it's much easier to communicate\\nand much easier to remember, Oh, we're working on a giraffe\\nmachine or a ladybug machine. Apparently most of the staff\\nthat we saw in there though we're actually maintenance\\nstaff for the machines and the actual control center\\nor brain of the operation is elsewhere. So we're gonna head over there now. This is the remote\\noperational center, which is, you could think of kind of\\nlike the brains of the fab that we just saw. So if something goes wrong, it's gonna pop up as an\\nerror on someone's screen so it's the job of everyone in this room to optimize the overall\\nthroughput of the fab. So instead of having technicians\\nthere on the fab floor, moving things around\\nand looking at screens and turning dials, everything is done right here to ensure that they're pumping as\\nmany chips out as possible because once you invest 30$ to 40$ million in a machine times, however many were in there, (chuckles) you want them going as\\nhard as you possibly can, as often as you possibly can. (upbeat music) Every shift, they have to do two stretching\\nsessions in order to, you know, minimize the risk of RSI, cuz they're basically sitting\\nat their computers all day, every day, right? (applauds) But like the friend who\\nonly invited you to dinner because he wanted to show off his new car, Intel had a bit of an\\nagenda for inviting us here and that is to show off\\nthe enormous investment that they're making into fab 38. So everything that we just\\nsaw is about to be doubled. This roundabout, see you later in about two weeks. That entire construction site out there is going to be state of the art, new generation fabrication technology that will actually be integrated so tightly with the existing fab that you could actually\\ntake a wafer from one, utilize equipment in the other and then send it back\\nif you really needed to, although that's gonna be quite a distance for the foups to travel. To give you some idea of how enormous this\\nconstruction project is, Intel actually built their\\nown concrete production in the corner of the lot over there which you can see at the very back. Unreal. One of the big reasons Intel is building out fab\\ncapacity so aggressively right now is a new concept called IDM 2.0 where basically instead of only\\nbuilding their own products, they're going to be fabing products for third party companies which I personally given that we're sitting\\nin the middle of the largest ever global silicon shortage, I'm pretty excited about. Now, unfortunately there\\nare a couple of steps in the die creation process that we weren't able to see today. The addition of the bumps that connect the dye to the\\npackage through electro plating, that doesn't happen here\\nand quality control. QC starts with an end of the line E-test, which checks the functionality\\nof fake debugging structures and transistors that are specifically meant to be there to ensure that everything went\\ncorrectly in manufacturing. Then it proceeds to binning. Which is the process of\\nsorting the good dies according to their capabilities. Obviously the best of the\\nbest will become core I9, the next best will be core\\nI7 and so on and so forth. Other than that 12th\\ngen core or Alder Lake is a pretty unique product for Intel with much of the design and manufacturing done here in Israel. Once the wafer's done, Intel sends it to one of\\ntheir other facilities for slicing and packaging and a second validation step called class where they basically\\nburn in every single chip to ensure that no degradation took place and that the packaging was done properly. This along with design phase testing that simulates the effects of CPU aging is where it Intel's reputation\\nfor manufacturing quality comes from. I mean, think about it, when you're troubleshooting\\na system that won't boot the CPU is the last\\nthing you're gonna check because unless you dropped\\nit, it probably works. Packaging by the way, is gonna be getting a lot more complicated over the next few years\\nas multi-die processors like the upcoming Sapphire\\nRapids start rolling out and it's expected that\\nthe relatively basic packaging facilities of yesteryear are gonna be getting a lot more fab like. I mean, a packaging error on a $10,000 server CPU is a pretty expensive mistake\\ngiven that the whole thing needs to be thrown away at that stage if something goes wrong. Maybe that should be\\nthe next tour I request. Am I right? Actually, I'm not gonna\\npush my luck at the moment. This was a once in a lifetime opportunity and I'm extremely grateful\\nto Dani and his team. Shout out to Karen by\\nthe way for hosting me, to you guys for coming\\nand sharing it with me and of course, to my sponsor. Ting mobile. Ting mobile has rates\\nthat make it easier to see how much you can save by switching. They have a perfect plan for everybody no matter what your needs are. Unlimited talk and text for 10 bucks, data plans that start at $15, then there's their set 12 plan\\nwith 12 gigs of data for $35 and unlimited data for $45. If you like their previous,\\npay what you use plans, Ting mobile's flexed plans\\ncharging just $5 per gigabyte are still there. Data can also be shared\\nif you have a family plan so connect more phones to save more. You'll still get nationwide coverage and award-winning support. In fact, consumer\\nreports named Ting mobile their number one carrier in America. Pretty much any phone\\nwill work with Ting mobile so check them out atlinus.ting.com\\nand receive a $25 credit. If you guys enjoyed this video, maybe check out one of previous tours. It's been a little while, but\\nthey are excellent videos.\", metadata={'source': '2ehSCWoaOqQ'})]"
      ]
     },
     "execution_count": 6,
     "metadata": {},
     "output_type": "execute_result"
    }
   ],
   "source": [
    "documents"
   ]
  },
  {
   "cell_type": "code",
   "execution_count": 7,
   "id": "2c4b14f0",
   "metadata": {},
   "outputs": [],
   "source": [
    "def clean_text(text):\n",
    "    \"\"\"\n",
    "    Cleans the extracted text by removing unnecessary characters and whitespace.\n",
    "\n",
    "    Args:\n",
    "    text (str): Extracted text.\n",
    "\n",
    "    Returns:\n",
    "    str: Cleaned text.\n",
    "    \"\"\"\n",
    "    # Remove extra whitespace and newlines\n",
    "    cleaned_text = re.sub(r'\\s+', ' ', text)\n",
    "    # Remove non-printable characters\n",
    "    cleaned_text = re.sub(r'[^\\x00-\\x7F]+', '', cleaned_text)\n",
    "    # Remove any leading or trailing whitespace\n",
    "    cleaned_text = cleaned_text.strip()\n",
    "    return cleaned_text"
   ]
  },
  {
   "cell_type": "code",
   "execution_count": 8,
   "id": "f7bcb45d",
   "metadata": {},
   "outputs": [],
   "source": [
    "script=clean_text(documents[0].page_content)"
   ]
  },
  {
   "cell_type": "code",
   "execution_count": 9,
   "id": "27e89f62",
   "metadata": {},
   "outputs": [
    {
     "data": {
      "text/plain": [
       "\"- I've spent most of my career trying to get into a chip fab. Samsung's a hard no, Global Foundries was open to it in person, then ghosted me when I followed up and Intel has said no to me, every single time I've asked except one. Honestly, I'm pretty overwhelmed today because I'm gonna be taking three major items off my bucket list. I'm visiting Israel for the first time, I'm gonna be going deep into the heart of Intel's state of the art fab 28 and I get to tell you about our sponsor. - Zoho CRM, Zoho CRM is a 360 degree solution that offers an intuitive UI, AI predictions and a design studio to help you get your sales done faster. Get 50% off with the code ZCRM50 using the link below. (upbeat music) (upbeat music) - My tour guide today couldn't be more experienced. Dani is the Co-General Manager of Worldwide Semiconductor Manufacturing and started at Intel working in fab 8 in Jerusalem back when state of the art was the Pentium one. Microprocessor fabrication experts can safely skip ahead a couple of minutes, but for everyone else, let's run through the basics. Every CPU die, every one of these starts with a sliced up silicon ingot like the one right here. These are astonishingly pure and are exactly 300 millimeters in diameter. If they went in any smaller, they'd increase waste around the edges. I mean look at this, obviously this is not gonna be a working chip if it's cut off by the edge of the circle. Fun fact by the way, the reason that they run the non-working edge dies through all of the same fabrication processes is that it actually improves the uniformity of the full chips next to them. Consistency is key in CPU manufacturing, because even though we talk about these chips in terms like 14 or 10 nanometer, the components that make up these transistors are much smaller, like on the order of less than a nanometer and a tiny error or contaminant in any of the hundreds of manufacturing steps means that that die, he no worky. I mean it's a modern miracle that any of this is possible and is basically unheard of to get an entire 300 millimeter wafer through the fab without a single defective dye on it. Before it can be sold however, it needs to be transformed from melted sand like this into the brains of your PC. Silicon you see is neither an insulator, nor is it a true conductor. So to create all the little transistors or switches that control current flow through the logic gates and other microstructures on the chip, the wafer needs to undergo many processes. Implantation fires dopant ions into the surface of the silicon to alter its electrical characteristics. So depending on what kinds of ions are implanted, say phosphorous or boron, you might be laying the groundwork for an n-type or a p-type transistor. This determines if the voltage is negative or positive to open the gate. Diffusion furnaces create new combined materials by exposing the wafer to various gases at up to 100s of degrees celsius. Lithography, is one of the easiest steps to understand conceptually, but also one of the most important. Within a single processor die, there are billions of transistors and literally kilometers of tiny wires, but they're obviously far too small to build them and solder them together by hand. So the wafer gets coated with a material called photoresist, then exposed to UV light through a mask. Anywhere the light passes through the mask, the photo resist will be removed, allowing the exposed portions to be processed. Then it's quite literally rinse and repeat. Nikon, who does a lot more than make cameras by the way has a great diagram on their site demonstrating this. So one such potential processing step is etching where the goal is to selectively remove material from the top of the wafer, creating trenches in it. These can be overfilled with copper to create interconnects then the excess gets removed by polishing it off using brushes and slurry in a process called Chemical Mechanical Planarization. There are different kinds of etching but we can talk about that more once we get inside. (upbeat music) This is it. Point no return, here we go. There's no card or anything just, yeah it's very, good high security. Time to learn the procedure. This is great, this is very inclusive, they have child size gloves for people like me. This is crazy. So these are not the gloves we wear in the clean room, these are the gloves to put on the stuff that we're gonna wear in the clean room that will be contaminated that then we will get rid of after. Wow, man I'm looking sharp. Now time for stage two. basically we grab have a couple of little foot cover doodads here and this room is pressurized and the idea is that these, these aren't like filtered like the clean room or anything like that but by having a little bit of pressure in this room, we keep the super stanky air from outside, out. So when you walk into here, you feel this gust of air coming out and then what you're supposed to do is you're supposed to have dirty stuff on this side and then clean stuff on this side. So I gotta put my little booties on, did I do it right? Yep. Okay so there's more positive pressure in here blowing that way, right? - Yes. - So the idea then I guess is the air gets cleaner and cleaner as we go. Okay, what do I do? - You start with the hood. - Yes. - [Staff] Start from bot, top to bottom. - Top to bottom. - Yeah. - Okay, why do we go top to bottom? So that the dust won't fall off our top onto our bottom. - Better that it'll suit into the bunny suits. - Oh, got it. 'Cause that's how the garments overlap. I have a feeling our audio is not gonna be our finest ever for this video. Ladies and gentlemen you'll have to bear with us cuz my microphone is already under three layers of fabric now. (upbeat music) - We're out of the gown room into the fab. - Into the fab. - And it's already crazy. Can you see these like robots on tracks up here. Apparently these are taking the foups, and I check that is actually what's called F O U P, which is 25 wafers. So that's 25 slices of the original silicon ingot. That foup we just saw, that little robot on the track had hundreds of CPU dies in it, but we don't know how many of them are good because they're actually on their way to sorting where not only will they determine if they work, but they'll determine how well. So is it a core I7 or a core I9. Every guy wants to live, it sounds like a nerdy James Bond film. I love it. (upbeat music) Oh my God. This place is a lot bigger than it initially looked. How many square feet is this? - Four football fields. - [Dani] So lithography is over there. Diffusion is over there. - Diffusion over there. - ...the result of diffusion. - and deposition was over there? - Dry and wet etching on the side. - Etching. - And planar. - And planing. So we're gonna look at all of that but there's no particular order for these steps because once a foup comes in here, you guys can see, there're whipping around all over the place. There are hundreds of stages. Each Alder Lake CPU die might go from lithography to planing to deposition, back and forth hundreds of times, (upbeat music) Every silicon wafer comes to diffusion land and basically what these machines do. They're more like a, a furnace and they will take that top layer of silicon on the wafer and they will diffuse it with some kind of other material. I asked for some examples, but other than silicon oxide, they wouldn't really tell anything and in fact, they wouldn't even tell me what the first material layer would be for pure processors that they're making here now. Here we go, we can actually see the robot arm inside that would take the silicon wafers out of the foup and position them as needed for the machine. This is the loading area down here that we can see through the window and then on top is the actual furnace where it reaches 100s of degrees and then it has gases in there that help them to achieve whatever kind of chemical changes that they're going for on top of the wafer. One thing Intel's been very particular about is don't touch anything because it's more than just, you know, not pressing the wrong button, but actually even just bumping these machines. When you're trying to build something that has structures in it that are on the side eyes order of nanometers, that means that the building blocks of that thing are sub-nanometer in some cases. So you, you actually, you cannot, you cannot bump one of these machines while it's running and in fact, they only build their fabs on particularly stable parts of the world where they don't have to worry about seismic activity. This is cool. As we're walking through diffusion, we actually got a great opportunity to show you guys the multi-level structure of the fab. So what we're walking on is only 1 of 4 total layers. Above us are filters and the air comes from there down to here. Then below us is where they're gonna have pumps, chemistry delivery, you can see these punch-outs in the floor here. You can actually see there's like a foam, like vent of some sort going up into the machine that's next to us and then the air flows from top to bottom so it goes down to that layer, then it goes down to one more layer where they have water, utilities like electricity as well as exhaust. So that air goes back up the side of the building and recirculates. In total, Intel expects anywhere from 0 to 1 particle part, what was the unit of volume? 1 meter cubed and for context, an operating room could have tens of thousands of particles per meter cubed. So you, you could conceivably perform surgery in here, assuming you were qualified. I asked about this sign and apparently it's just to make sure that as people are blowing though this corridor, they don't accidentally smoke someone coming out of the reticle room. This is one of those secret areas, even here inside the fab which is already a secret area because it contains some of the most expensive materials that they need for lithography it's also some of the most top secret. Now under normal circumstances, every one of these stations would be occupied by someone. In fact, the entire factory runs on 4 shifts a day, 24/7, 364 days a year, only shutting down for Yom Kippur. So I didn't ask because I'm afraid to know the answer, but I think it's probably costing Intel a fair amount to have us in here poking around while they didn't sponsor the video or anything. Definitely shout out to Intel for how much it's costing them for us to make this video. On that note, here's something cool. These tools are maybe not as sophisticated as some of the other tools here in the fab, you got your flathead screwdriver but the process is what's fascinating because taking a machine like this offline for more than a few minutes at a time, very, very costly. So they handle it kind of like a formula one pit crew. They've got all their tools, everything's arranged, freaking ready to rock. They go, okay time, we're shutting it off, we're performing maintenance, go, go, go, go, go, go, go, fire it back up. That's it. Don't worry, I will not hit any buttons. This is the emo button, okay? The machine will get very sad if you press it. This machine right here is doing dry etching right now. So the foups come down off of the track up there and then while they're waiting, you can see they're actually sitting out cause they sit away from the machine and while they're being processed, they come up right next to it here, and then you can see there's a robot arm inside grabbing wafers, whipping them around. It just throws it on here for a span of, I don't know, 5 or 10 seconds, boom, it's dry etched. It goes back in the foup and then that whole foup is gonna head off to whatever the next step is for this particular processor. We don't know exactly what it's making, but everything here is Intel 7 so, modern CPUs pretty much or maybe future CPUs for all I know. Not every drying machine is identical as you guys can imagine. For all the different specialized processes that a wafer goes through, there might be different machinery. So this is another example of a dry etching machine where the wafer actually sits in this chamber in here and does whatever the heck it's doing. Now we're heading back to the lithography area again, which is why the lighting in the fab has changed back to yellow and the reason for that is they use UV light to expose the wafers. So if they have white light, it could easily contain parts of the spectrum that could accidentally expose the wafer. So they have to use these carefully controlled light sources that will not cause any damage to the wafer as they're ripping around in the foup or going in and out of the machines. Fun fact, each of these machines costs on the order of 30$ to $40 million and it doesn't take a rocket scientist to figure out or I should say a, a chip architect to figure out that when you put this many of them packed this tight into an area of the size of four football pitches, that's gonna cost a pretty penny and it's because of those costs that they actually have this entire sort of row of cabinets I guess you could call it in between the east and west side of the fab. This entire thing is full of foups that are just waiting to be processed because the second one of those machines is available, you want to be loading it up with silicon so you can make more processors. Now we're out of lithography again, we're in the east side of the fab which is also freaking enormous and the first machine that we're encountering are deposition machines. So what these do is they'll take the wafer and they'll apply some extraordinarily thin layer of something, say for example, metal, okay? Then it comes back into the foup, back up to the rails and off to the next step. Did I ever say, we're gonna go see the planers. - [Dennis] - Yes you did. - Now depending on the stage of wafer processing, cuz remember they you go back and forth hundreds of times for a single die, you don't necessarily want the straight edges of a dry etch, you might want this kind of curved shape of a wet edge. Now the actual exact shape is apparently extremely important and extremely difficult to control because unlike a dry etch, there's actually, you can actually hear the sound of the pump. You hear that right now, so there's actually chemicals pumping inside. Another key consideration if you've got such expensive machinery is training. So one of the things that Intel wanted to show us is how they're using augmented reality practically right here in the fab for a variety of purposes. So one is due to COVID 19. Obviously some personnel were not able to be here in person for an extended period of time. So remote assist allows someone who is here in person to actually have someone else scribbling on a schematic or explaining it to them while it hovers in front of them. Pretty freaking cool. It's also used as a training resource for maintenance of old machines so you can kind of learn by doing, and they're actually gonna do a practical demo for us. Hey, here's our, here's our test guinea pig here and you got some my mug, that's unfortunate. Oh, that's awesome. So it shows you all the tools you need. So there's a little instructional video for how to do it. Very cool. Hey, look at me, I'm a fab equipment maintenance technician. Unfortunately the windows on these machines are quite dark but we did manage to catch one that is being processed right now so we've got some footage to show guys. Essentially after the deposition step, you're gonna end up with some inherent unevenness that needs to be polished off. Now in the past, they might have actually submerged the wafers for polishing, but now it's actually done by a brush that has a slurry on it that Intel said is, very proprietary. They wouldn't even give me any hints as to what is in this, this polishing with liquid but they did tell me that the pressure as well as the motion of it has to be so precise that they could take off as little as a few atoms or molecules at a time. You could see the way for moving back and forth on the, like spinning bottom. Crazy. One thing that's missing is I don't see where that tray, that loads all the wafers in is. Where the foup is it? Haha, get it? Cause it's a foup. By the way, something I didn't mention before is that each of the different types of machines actually has a number, but it also has these animals because Intel found that especially in a multi-layered design like fab 28, in order to make sure that the maintenance crew down below is actually, you know, shutting down the correct machine for maintenance up above, it's much easier to communicate and much easier to remember, Oh, we're working on a giraffe machine or a ladybug machine. Apparently most of the staff that we saw in there though we're actually maintenance staff for the machines and the actual control center or brain of the operation is elsewhere. So we're gonna head over there now. This is the remote operational center, which is, you could think of kind of like the brains of the fab that we just saw. So if something goes wrong, it's gonna pop up as an error on someone's screen so it's the job of everyone in this room to optimize the overall throughput of the fab. So instead of having technicians there on the fab floor, moving things around and looking at screens and turning dials, everything is done right here to ensure that they're pumping as many chips out as possible because once you invest 30$ to 40$ million in a machine times, however many were in there, (chuckles) you want them going as hard as you possibly can, as often as you possibly can. (upbeat music) Every shift, they have to do two stretching sessions in order to, you know, minimize the risk of RSI, cuz they're basically sitting at their computers all day, every day, right? (applauds) But like the friend who only invited you to dinner because he wanted to show off his new car, Intel had a bit of an agenda for inviting us here and that is to show off the enormous investment that they're making into fab 38. So everything that we just saw is about to be doubled. This roundabout, see you later in about two weeks. That entire construction site out there is going to be state of the art, new generation fabrication technology that will actually be integrated so tightly with the existing fab that you could actually take a wafer from one, utilize equipment in the other and then send it back if you really needed to, although that's gonna be quite a distance for the foups to travel. To give you some idea of how enormous this construction project is, Intel actually built their own concrete production in the corner of the lot over there which you can see at the very back. Unreal. One of the big reasons Intel is building out fab capacity so aggressively right now is a new concept called IDM 2.0 where basically instead of only building their own products, they're going to be fabing products for third party companies which I personally given that we're sitting in the middle of the largest ever global silicon shortage, I'm pretty excited about. Now, unfortunately there are a couple of steps in the die creation process that we weren't able to see today. The addition of the bumps that connect the dye to the package through electro plating, that doesn't happen here and quality control. QC starts with an end of the line E-test, which checks the functionality of fake debugging structures and transistors that are specifically meant to be there to ensure that everything went correctly in manufacturing. Then it proceeds to binning. Which is the process of sorting the good dies according to their capabilities. Obviously the best of the best will become core I9, the next best will be core I7 and so on and so forth. Other than that 12th gen core or Alder Lake is a pretty unique product for Intel with much of the design and manufacturing done here in Israel. Once the wafer's done, Intel sends it to one of their other facilities for slicing and packaging and a second validation step called class where they basically burn in every single chip to ensure that no degradation took place and that the packaging was done properly. This along with design phase testing that simulates the effects of CPU aging is where it Intel's reputation for manufacturing quality comes from. I mean, think about it, when you're troubleshooting a system that won't boot the CPU is the last thing you're gonna check because unless you dropped it, it probably works. Packaging by the way, is gonna be getting a lot more complicated over the next few years as multi-die processors like the upcoming Sapphire Rapids start rolling out and it's expected that the relatively basic packaging facilities of yesteryear are gonna be getting a lot more fab like. I mean, a packaging error on a $10,000 server CPU is a pretty expensive mistake given that the whole thing needs to be thrown away at that stage if something goes wrong. Maybe that should be the next tour I request. Am I right? Actually, I'm not gonna push my luck at the moment. This was a once in a lifetime opportunity and I'm extremely grateful to Dani and his team. Shout out to Karen by the way for hosting me, to you guys for coming and sharing it with me and of course, to my sponsor. Ting mobile. Ting mobile has rates that make it easier to see how much you can save by switching. They have a perfect plan for everybody no matter what your needs are. Unlimited talk and text for 10 bucks, data plans that start at $15, then there's their set 12 plan with 12 gigs of data for $35 and unlimited data for $45. If you like their previous, pay what you use plans, Ting mobile's flexed plans charging just $5 per gigabyte are still there. Data can also be shared if you have a family plan so connect more phones to save more. You'll still get nationwide coverage and award-winning support. In fact, consumer reports named Ting mobile their number one carrier in America. Pretty much any phone will work with Ting mobile so check them out atlinus.ting.com and receive a $25 credit. If you guys enjoyed this video, maybe check out one of previous tours. It's been a little while, but they are excellent videos.\""
      ]
     },
     "execution_count": 9,
     "metadata": {},
     "output_type": "execute_result"
    }
   ],
   "source": [
    "(script)"
   ]
  },
  {
   "cell_type": "code",
   "execution_count": 10,
   "id": "acc1b0ed",
   "metadata": {},
   "outputs": [
    {
     "name": "stdout",
     "output_type": "stream",
     "text": [
      "The token has not been saved to the git credentials helper. Pass `add_to_git_credential=True` in this function directly or `--add-to-git-credential` if using via `huggingface-cli` if you want to set the git credential as well.\n",
      "Token is valid (permission: write).\n",
      "Your token has been saved to /home/shreya/.cache/huggingface/token\n",
      "Login successful\n"
     ]
    }
   ],
   "source": [
    "\n",
    "repo_id = \"mistralai/Mistral-7B-Instruct-v0.2\"  \n",
    "llm = HuggingFaceEndpoint(\n",
    "    repo_id=repo_id, temperature= 0.75, model_kwargs= {'max_length': 8192}, max_new_tokens=4096)"
   ]
  },
  {
   "cell_type": "code",
   "execution_count": 22,
   "id": "3ca5bc0c",
   "metadata": {},
   "outputs": [],
   "source": [
    "prompt=\"\"\"As an expert summarizer, your job is to condense the following YouTube video transcript into a summary of 900-1000 words. Focus on capturing the essential points and main ideas, leaving out any unnecessary details.\n",
    "\n",
    "Example of a good summary:\n",
    "---\n",
    "Transcript: \n",
    "\"In this video, we delve into the impact of climate change on global weather patterns. The speaker explains how rising temperatures are causing more frequent and severe weather events, including hurricanes, floods, and droughts. Scientific data is presented to show the correlation between human activities and climate change. The video also discusses possible solutions to mitigate these effects, such as reducing carbon emissions and adopting sustainable practices. Interviews with climate scientists provide further insights into the urgency of addressing climate change.\"\n",
    "\n",
    "Summary:\n",
    "\"This video examines the effects of climate change on global weather patterns, highlighting the link between rising temperatures and increased frequency of extreme weather events. It presents scientific data demonstrating the human influence on climate change and discusses mitigation strategies like reducing carbon emissions and adopting sustainable practices. Insights from climate scientists underscore the urgency of taking action against climate change.\"\n",
    "---\n",
    "\n",
    "Here is the transcript you need to summarize:\n",
    "\"\"\"\n",
    "\n"
   ]
  },
  {
   "cell_type": "code",
   "execution_count": 23,
   "id": "2f4af3a3",
   "metadata": {},
   "outputs": [],
   "source": [
    "prompt_template = PromptTemplate(\n",
    "        input_variables=[\"text\"],\n",
    "        template=prompt+\"\"\"\n",
    "{text}\n",
    "\"\"\"\n",
    "    )\n",
    "\n",
    "    # Create an LLMChain with the LLM and prompt\n",
    "chain = prompt_template | llm\n",
    "    \n",
    "    # Run the chain to summarize the text\n",
    "summary = chain.invoke(script)"
   ]
  },
  {
   "cell_type": "code",
   "execution_count": 24,
   "id": "27b6972f",
   "metadata": {},
   "outputs": [
    {
     "name": "stdout",
     "output_type": "stream",
     "text": [
      "\n",
      "Summary:\n",
      "\n",
      "In this YouTube video, the host takes viewers on a tour of Intel's Fab 28 in Israel, providing an inside look at the chip manufacturing process. Intel's state-of-the-art fab covers an area of four football fields and operates on four shifts a day, 24/7, except for Yom Kippur. The tour begins at the beginning of the process, with a sliced silicon ingot, which is then transformed into a CPU die through various processes such as implantation, diffusion, lithography, etching, deposition, and planarization. The wafer goes through these processes multiple times before it's ready for packaging and quality control.\n",
      "\n",
      "The host also discusses the importance of consistency and the high cost of these machines. Intel has a multi-layered structure in the fab, with each layer containing different machinery for specific processes. The tour includes a demonstration of Intel's use of augmented reality for maintenance and training purposes. The video concludes with a look at the remote operational center, which optimizes the overall throughput of the fab and ensures that as many chips as possible are produced. Intel is currently building out fab capacity with fab 38, which will be integrated with the existing fab and will manufacture products for third parties. The video offers a fascinating glimpse into the complex and costly world of chip manufacturing.\n"
     ]
    }
   ],
   "source": [
    "print(summary)"
   ]
  },
  {
   "cell_type": "code",
   "execution_count": 25,
   "id": "5d2ac6f8",
   "metadata": {},
   "outputs": [
    {
     "ename": "SyntaxError",
     "evalue": "unterminated string literal (detected at line 3) (1551287128.py, line 3)",
     "output_type": "error",
     "traceback": [
      "\u001b[0;36m  Cell \u001b[0;32mIn[25], line 3\u001b[0;36m\u001b[0m\n\u001b[0;31m    In this YouTube video, the host takes viewers on a tour of Intel's Fab 28 in Israel, providing an inside look at the chip manufacturing process. Intel's state-of-the-art fab covers an area of four football fields and operates on four shifts a day, 24/7, except for Yom Kippur. The tour begins at the beginning of the process, with a sliced silicon ingot, which is then transformed into a CPU die through various processes such as implantation, diffusion, lithography, etching, deposition, and planarization. The wafer goes through these processes multiple times before it's ready for packaging and quality control.\u001b[0m\n\u001b[0m                                                                                                                                                                                                                                                                                                                                                                                                                                                                                                                                                                                               ^\u001b[0m\n\u001b[0;31mSyntaxError\u001b[0m\u001b[0;31m:\u001b[0m unterminated string literal (detected at line 3)\n"
     ]
    }
   ],
   "source": [
    "\n",
    "Summary:\n",
    "\n",
    "In this YouTube video, the host takes viewers on a tour of Intel's Fab 28 in Israel, providing an inside look at the chip manufacturing process. Intel's state-of-the-art fab covers an area of four football fields and operates on four shifts a day, 24/7, except for Yom Kippur. The tour begins at the beginning of the process, with a sliced silicon ingot, which is then transformed into a CPU die through various processes such as implantation, diffusion, lithography, etching, deposition, and planarization. The wafer goes through these processes multiple times before it's ready for packaging and quality control.\n",
    "\n",
    "The host also discusses the importance of consistency and the high cost of these machines. Intel has a multi-layered structure in the fab, with each layer containing different machinery for specific processes. The tour includes a demonstration of Intel's use of augmented reality for maintenance and training purposes. The video concludes with a look at the remote operational center, which optimizes the overall throughput of the fab and ensures that as many chips as possible are produced. Intel is currently building out fab capacity with fab 38, which will be integrated with the existing fab and will manufacture products for third parties. The video offers a fascinating glimpse into the complex and costly world of chip manufacturing.\n"
   ]
  },
  {
   "cell_type": "code",
   "execution_count": 26,
   "id": "c9ecff93",
   "metadata": {},
   "outputs": [
    {
     "data": {
      "text/plain": [
       "1368"
      ]
     },
     "execution_count": 26,
     "metadata": {},
     "output_type": "execute_result"
    }
   ],
   "source": [
    "len(summary)"
   ]
  },
  {
   "cell_type": "code",
   "execution_count": 27,
   "id": "b440ac1e",
   "metadata": {},
   "outputs": [
    {
     "name": "stdout",
     "output_type": "stream",
     "text": [
      "The token has not been saved to the git credentials helper. Pass `add_to_git_credential=True` in this function directly or `--add-to-git-credential` if using via `huggingface-cli` if you want to set the git credential as well.\n",
      "Token is valid (permission: write).\n",
      "Your token has been saved to /home/shreya/.cache/huggingface/token\n",
      "Login successful\n"
     ]
    }
   ],
   "source": [
    "repo_id2 = \"Telugu-LLM-Labs/Indic-gemma-7b-finetuned-sft-Navarasa-2.0\"  \n",
    "llm2 = HuggingFaceEndpoint(\n",
    "    repo_id=repo_id, temperature= 0.75, model_kwargs= {'max_length': 8192}, max_new_tokens=4096)"
   ]
  },
  {
   "cell_type": "code",
   "execution_count": 28,
   "id": "6e693061",
   "metadata": {},
   "outputs": [],
   "source": [
    "language_needed=input(\"What language do you want translation in?\")"
   ]
  },
  {
   "cell_type": "code",
   "execution_count": 29,
   "id": "1d6471dc",
   "metadata": {},
   "outputs": [],
   "source": [
    "translation_prompt = \"\"\"Translate the given text into {language_needed}\". Understand the text properly and correct any grammatical mistakes. Output only the translated text in the form of points.:\\n{text}\"\"\""
   ]
  },
  {
   "cell_type": "code",
   "execution_count": 30,
   "id": "be566704",
   "metadata": {},
   "outputs": [],
   "source": [
    "tr_input={\n",
    "    'text':summary,\n",
    "    'language_needed':language_needed\n",
    "}"
   ]
  },
  {
   "cell_type": "code",
   "execution_count": 31,
   "id": "b09b64cb",
   "metadata": {},
   "outputs": [],
   "source": [
    "prompt_template = PromptTemplate(\n",
    "        input_variables=[\"text\"],\n",
    "        template=translation_prompt\n",
    "    )\n",
    "\n",
    "    # Create an LLMChain with the LLM and prompt\n",
    "chain = prompt_template | llm\n",
    "    \n",
    "    # Run the chain to summarize the text\n",
    "translated_summary = chain.invoke(tr_input)"
   ]
  },
  {
   "cell_type": "code",
   "execution_count": 32,
   "id": "bdc126cf",
   "metadata": {},
   "outputs": [
    {
     "name": "stdout",
     "output_type": "stream",
     "text": [
      "\n",
      "\n",
      "हिंदी में ट्रांसलेट:\n",
      "\n",
      "यह YouTube वीडियो में वार्ता साथ हैं लोगों को Intel ऑफ 28 इस्राएल में चिप बनाने का जगह दिखाते हैं, जिसमें चिप बनाने से अंतर्रित दरशन प्रदेशित किया जाता है। Intel का स्थानीय लाभ के साथे चौथाली फूटबॉल खेत का कार्य होता है और चौकीदारों के चार शिफ्टों से रात्रियाँ तक रूपरेखा और 24/7 के बिना योम किप्पुर के लिए। प्रकर्ष का प्रकरार से शुरुआत होता है सिलिकन इंगौट से काटा हुआ, जिससे केवल एक प्रोसेसों के द्वारा कुछ प्रकार की जीवित मात्रा के CPU दायाँ बनती जाती है।\n",
      "\n",
      "वार्ता के अनुसार यह प्रकारों के माध्यम से वाफर के लिए बहुत से बार पहुँचता है जबकि उसे पैकिजिंग और कालापन्नात्मक जानकारी के लिए सही होने तक पहुँचाई जाती है।\n",
      "\n",
      "वार्ता ने यह संबंधित बातें भी बताये कि ताकत के अहमता और इस मशीनों की ऊँचाई का कुछ। Intel के लाभ में वाफर में एक साथित स्रुती है, जिसमें कुछ प्रकार की माशीन हैं जो केवल कुछ प्रकार के प्रोसेसों के लिए उपयोग की जाती हैं। वीडियो में एक दर्शन है कि Intel का अग्रेजड रेलिटी उपयोग करता है रोक्ने और साझा करने के लिए। वीडियो का सामग्री अपना देखने से पहले एक दिशा से एक दृश्य है जिसमें Intel ने अब बनाने वाले fab 38 का दरशन दिया है जो fab 28 से एक साथ शामिल होगा और दूसरे त्रियों के लिए चिप्स बनाएगा। वीडियो ने यह एक बहुमूल्य नजरीया दिया है चिप बनाने के संकुलित और कुछ परिवर्तनशील दुनिया के अंदर।\n",
      "\n",
      "Intel ने fab 38 बनाने के लिए चाहे है जो fab 28 से एक साथ संगठित होगा और दूसरे त्रियों के लिए उन्हें बनाएगा। वीडियो ने यह एक बहुमूल्य दर्शन दिया है चिप बनाने के संकुलित और कुछ परिवर्तनशील दुनिया के अंदर।\n",
      "\n",
      "Points:\n",
      "\n",
      "* Intel's Fab 28 in Israel covers an area of four football fields.\n",
      "* Operates on four shifts a day, 24/7 except for Yom Kippur.\n",
      "* Tour begins with a sliced silicon ingot.\n",
      "* Transformed into CPU die through implantation, diffusion, lithography, etching, deposition, and planarization processes.\n",
      "* Wafer goes through these processes multiple times before it's ready for packaging and quality control.\n",
      "* Consistency is important, machines are expensive.\n",
      "* Intel has a multi-layered structure in the fab with different machinery for specific processes.\n",
      "* Demonstration of Intel's use of augmented reality for maintenance and training purposes.\n",
      "* Fab 38 is being built with integrated with the existing fab to manufacture products for third parties.\n",
      "* Offers a fascinating glimpse into the complex and costly world of chip manufacturing.\n"
     ]
    }
   ],
   "source": [
    "print(translated_summary)"
   ]
  },
  {
   "cell_type": "code",
   "execution_count": null,
   "id": "add450a0",
   "metadata": {},
   "outputs": [],
   "source": [
    "Prompt 2\n",
    "\n",
    "\"\\n\\nPoints:\\n\\n1. ಈ ವಿಜಯಿತ್ತುವನ್ನು Intel fab 28, ಅದಕ್ಕಾಗಿ ಸ್ವತಂತ್ರ ಮಿಕ್ರೋಪ್ರೋಸೆಸರ್ ಸಾಧನೆ ಮುಕ್ತಾವರಧಿಕ ಮಿಕ್ರೋಪ್ರೋಸೆಪ್ರೋಜೆಟ್ ಸಾಧನೆಗಳ ಮೂಲಕ ಆಗಿರುವ ಮತ್ತು ಸದ್ಯವರ್ಧನ ಮಿಕ್ರೋಪ್ರೋಸೆಪ್ರೋಜೆಟ್ ಫಾಬ್ ಮಾಜಳಿಗೆ ಹೊರೆದು ಸಾಧನೆ ಕಳಸಿದೆ.\\n2. ಮಿಕ್ರೋಪ್ರೋಸೆಪ್ರೋಜೆಟ್ ಸಾಧನೆಯಲ್ಲಿ ಬಳಕೆ ಸಿಲಿಕನ್ ಇಗೋತ್ ಆಗಿರುವ ಬಸೆಗೆ ಹೊರಟು ಹೊರಮತೆಗಳ ಮೂಲಕ ಮಾಡುವ ಬಸೆ ಸಂಶ್ಲಕ್ಷತೆಯಂತಾ ಮತ್ತು ಶಕ್ತಿಷ್ಠತೆ ಅಧಿಕರಿಸುವ ಆಗ್ರೆಷ್ಮ ಅನುವಾದ ಮಿಕ್ರೋಪ್ರೋಸೆಪ್ರೋಜೆಟ್ ಸಾಧನೆಯನ್ನು ನಮ್ಮ ಹೆಸರೆ ಹೊರಟೆವು.\\n3. ಮಿಕ್ರೋಪ್ರೋಸೆಪ್ರೋಜೆಟ್ ಸಾಧನೆಯನ್ನು ನೋಡಲು ಅನುವಾದ ಮಿಕ್ರೋಪ್ರೋಸೆಪ್ರೋಜೆಟ್ ಸಂಶ್ಲಕ್ಷತೆಯಲ್ಲಿ ಸಂಖ್ಯೆ ಮತ್ತು ಪರಿಕರ್ಷಕತೆ ಅಧಿಕರಿಸುವ ಆಗ್ರೆಷ್ಮ ಮತ್ತು ಪ್ರತಿಸಂಖ್ಯೆ ಅಧಿಕರಿಸುವ ಆಶಾಸನೆಯಾದ ಆತ್ಮವಿಷಯವನ್ನು ಹೊರಗೆ ಕೇಳಿಸಲು ಹೇಳಿದೆ.\\n4. ಮನೆಜಮಣಿಯಲ್ಲಿ ಒಳಗೆ ಆಗಿರುವ ಮನುಫァಕ್ಷಿಯಳ್ಲಿಗೆ ಮನೆಜಮಣಿಯಲ್ಲಿ ಹೊರಟವೆಳ್ಲಳೆ ಮನುಫァಕ್ಷಿಯನ್ನು ಹೊರಗೆ ಕೇಳಿಸಲು ಮುಕ್ತಾವರಧಿಕ ಬಾಧ್ಯತೆಯನ್ನು ಹೇಳಿದೆ. ಆಗೆ ಮನೆಜಮಣಿಯಲ್ಲಿ ಹೊರಟವೆಳ್ಲೆ ಮನೆಜಮಣಿಯನ್ನು ನೋಡಲು ಆಗಿರುವ ಮಂಜಳಃ ಮಂಜಲೆ ಮತ್ತು ಅನ್ನಭಧ್ಯಶಾಲೆ ಅದಕ್ಕೆ ಮನೆಜಮಣಿಯನ್ನು ಹೇಳಿದೆ.\\n5. ಮಂಜಲೆ ಮತ್ತು ಅನ್ನಭಧ್ಯಶಾಲೆಯಲ್ಲಿ ಮನೆಜಮಣಿಯರಿಗೆ ಇಮ್ಮೇಣು ಮನುಫァಕ್ಷಿಯಗಳಿಗೆ ಹೊರಗೆ ಕೇಳಿಸಲು ಆಗಿರುವ ಅನುವಾದ ಮತ್ತು ಮಿಕ್ರೋಪ್ರೋಸೆಪ್ರೋಜೆಟ್ ಸಾಧನೆಯಲ್ಲಿ ಬಸ್ತು ಮಂಜಲೆ ಮತ್ತು ಅನ್ನಭಧ್ಯಶಾಲೆಗೆ ಹೊರಗೆ ಕೇಳಿಸಲು ಮುಕ್ತಾವರಧಿಕ ಬಾಧ್ಯತೆಯನ್ನು ಹೇಳಿದೆ.\\n6. ಮನೆಜಮಣಿಯನ್ನು ನೋಡಿಸಲು ಆಗಿರುವ ಅಧಿಕಾರಿಗೆ ಅವರು Intel fab 38 ಶ್ರೇಷ್ಠವಾದ ಮಿಕ್ರೋಪ್ರೋಸೆಪ್ರೋಜೆಟ್ ಸಾಧನೆಯನ್ನು ಹೇಳಿದೆ. ಆಗೆ ಆಧನೀಯವಾದ Intel IDM 2.0 ಸ್ರಾಟೆಜಿಯ ಸ್ರತ್ಯದಿಶಿಯಲ್ಲಿ ಮತ್ತು ಅಧಿಕಾರಿಗೆ ಒಳಗೆ ಆಗಿರುವ ಅನ್ಯ ಕೋಷಿಗಳಿಗೆ ಮಿಕ್ರೋಪ್ರೋಸೆಪ್ರೋಜೆಟ್ ಸಾಧನೆಗಳನ್ನು ಮುಕ್ತಾವರಧಿಕ ಶಕ್ತಿಶಾಲೆಗೆ ತಶ್ರೀವಸಾಧನೆ ಮಾಡುವ ಆತ್ಮವಿಷಯವನ್ನು ಹೇಳಿದೆ.\\n7. ಮನೆಜಮಣಿಯಲ್ಲಿ ನಮ್ಮ ಹೆಸರೆ ಹೊರಟೆವು ಮನೆಜಮಣಿಯಲ್ಲಿ ತಿರುಗಿದ ಅನ್ಯ ತಪ್ಪಿಗೆ ಹೊರಟವೆಳ್ಲಳೆ ಮನೆಜಮಣಿಯನ್ನು ಹೇಳಿದೆ. ಮನೆಜಮಣಿಯನ್ನು ಹೇಳಿದೆ ಆಗ ಮನೆಜಮಣಿಯಲ್ಲಿ ಅವರಿಗೆ ಮನೆಜಮಣಿಯನ್ನು ನೋಡಲು ಮುಕ್ತಾವರಧಿಕ ಬಾಧ್ಯತೆಯನ್ನು ಹೇಳಿದೆ.\\n8. ಮನೆಜಮಣಿಯನ್ನು ಹೇಳಿದೆ ಆಗ ಮನೆಜಮಣಿಯಲ್ಲಿ ಮನೆಜಮಣಿಯನ್ನು ನೋಡಲು ಮುಕ್ತಾವರಧಿಕ ಬಾಧ್ಯತೆಯನ್ನು ಹೇಳಿದೆ. ಮನೆಜಮಣಿಯಲ್ಲಿ ಹೊರಟವೆಳ್ಲೆ ಮನೆಜಮಣಿಯನ್ನು ನೋಡಲು ಮುಕ್ತಾವರಧಿಕ ಬಾಧ್ಯತೆಯನ್ನು ಹೇಳಿದೆ.\\n9. ಮನೆಜಮಣಿಯಲ್ಲಿ ಹೊರಟವೆಳ್ಲೆ ಮನೆಜಮಣಿಯನ್ನು ನೋಡಲು ಮುಕ್ತಾವರಧಿಕ ಬಾಧ್ಯತೆಯನ್ನು ಹೇಳಿದೆ. ಆಗೆ ಮನೆಜಮಣಿಯಲ್ಲಿ ಮನೆಜಮಣಿಯನ್ನು ನೋಡಲು ಮುಕ್ತಾವರಧಿಕ ಬಾಧ್ಯತೆಯನ್ನು ಹೇಳಿದೆ.\\n10. ಮನೆಜಮಣಿಯಲ್ಲಿ ಮನೆಜಮಣಿಯನ್ನು ನೋಡಲು ಮುಕ್ತಾವರಧಿಕ ಬಾಧ್ಯತೆಯನ್ನು ಹೇಳಿದೆ. ಆಗೆ ಮನೆಜಮಣಿಯಲ್ಲಿ ಮನೆಜಮಣಿಯನ್ನು ನೋಡಲು ಮುಕ್ತಾವರಧಿಕ ಬಾಧ್ಯತೆಯನ್ನು ಹೇಳಿದೆ.\\n\\nTranslation:\\n\\n1. In this video, the host goes on a tour of Intel's fab 28, one of the most advanced microprocessor manufacturing facilities in the world. He explains the basics of microprocessor fabrication, from the silicon ingot to the finished product, emphasizing the importance of consistency and precision throughout the process.\\n2. The host explains that the consistency and precision required in microprocessor fabrication are essential in microprocessor fabrication factories like Intel fab 28.\\n3. The host discusses the importance of the various manufacturing stages, including implantation, diffusion, lithography, etching, and deposition, in producing consistent and high-quality microprocessors.\\n4. He mentions that the fabrication process involves several manufacturing facilities, such as manejamani (diffusion furnace), manjale (clean room), and annabhagya shala (lithography room).\\n5. He also mentions that Intel is expanding its manufacturing capacity with the construction of fab 38 and its new IDM 2.0 strategy, which includes manufacturing products for third-party companies.\\n6. The host expresses awe and fascination for the technological marvels inside the fab and the importance of precision and consistency in producing high-quality microprocessors.\\n7. He mentions that Intel's fab 38 is a significant investment in expanding the company's manufacturing capacity.\\n8. The host expresses his admiration for the advanced technology and precision required in microprocessor fabrication.\\n9. He emphasizes the importance of consistency and precision in every stage of microprocessor fabrication.\\n10. He reiterates the importance of consistency and precision in producing high-quality microprocessors and marvels at the technological marvels inside the fab.\""
   ]
  },
  {
   "cell_type": "code",
   "execution_count": null,
   "id": "755464e9",
   "metadata": {},
   "outputs": [],
   "source": [
    "Prompy 3\n",
    "---\n",
    "\n",
    "1. ಈ ವಿಜಯ್ಯತ್ತ್ಸದ ವಿದ�����oshಕ್ಕೆ, ಅವನು ಅನ್ನದೆ ಈಡೆಲ್ ಫಬ್ ನಂ.ಒಟ್ಟು (ಫಬ್ 28), ಒಳ್ಳೆ ಸಾಮಗ್ರಿಯ ಮಿಕ್ರೋಪ್ರೋಸೆಷರ್ ಜನ್ಮನೆ ಬೆಳ್ಲಿಗೆ ತೋರಿಸುತ್ತಿದೆ.\n",
    "2. ಮಿಕ್ರೋಪ್ರೋಸೆಷರ್ ಜನ್ಮನೆಯಲ್ಲಿ ಬಸ್ತು ಅವನ ಹೊಸೆಗಳಿಗೆ ಹೇಳಿಸುತ್ತದೆ, ಸಿಲಿಕನ್ ಇಗಟ್ ಸಾರೆ ತಿಲ್ಲದೆ ಮತ್ತು ಮತ್ತೊಂದು ಸಂಪೂರ್ಣ ಮಾಧ್ಯಧನವನ್ನು ಮಾಡುವ ಹುಡುದ್ಗಳು ಕಲಿತ್ವ ಮತ್ತು ಸಮಸ್ತ ಪ್ರಕಾರಭಾಗಗಳಿಗೆ ಸಮಸ್ತ ಸಾಮಗ್ರಿ ಮತ್ತು ಸರಿರುಗೆ ಸಮಮಥನೆಯ ಇಮಪ್ರಟ್ಟು ಅವಸ್ಥೆಗಳಿಗೆ ಸಾಧಿಸುತ್ತದೆ.\n",
    "3. ತೋರಿಸುವ ಮನುфаಕ್ಟರಿಗಳು, ಇಮ್ಪ್ಲಾಂಟಟಿಶನ್, ಡಿಫುಷನ್, ಲಿಥಓಗ್ರಫಿ, ಎಟ್ಚಿಂಗ್ ಮತ್ತು ಡೆಪೋಶಿಯಲ್ಲಿ ಕಾಣಿಸುತ್ತಿದೆ.\n",
    "4. ಅವನು ಈ ಫಬ್ 28 ಫಾಬ್-ಕ್ಯೂಟನ್ ಮನುಫಕ್ಟರಿಗೆ ಬಂದ ಮತ್ತು ಹೆಜ್ಜಿನ್ ಆಶೆಯಲ್ಲಿ ಬೆಳ್ಲಿಗೆ ಹೋಗುವ ರಾಜ್ಕೊಟ್ ಮತ್ತು ಇಂಟೆಲ್ ಶ್ರೀಟಿಗೆ ಹೇಳಿಸುತ್ತಿದೆ.\n",
    "5. ಅವನು ಇಂಟೆಲ್ ನಿಮ್ಮೆಣ್ಣು ಫಬ್ 38 ಮನುಫಕ್ಟರಿಗೆ ನಿಜಗಳಿಗೆ ಬ್ಯೂಡ್ ಮತ್ತು ಅನ್ನ ಇಡ್ಅಮ್ 2.ಓ ಸ್ರಟೆಜಿಃ (ಸಿಡ್ಯನ್ಮೆಂಟ್ 2.ಓ) ಸ್ರಟೆಜಿಃ ಮಣ್ಡ್ಫಾಕ್ಟ್ ಮತ್ತು ಹಜ್ಜರಿಗೆ ಹೇಳಿಸುತ್ತಿದೆ.\n",
    "6. ಮನುಫಕ್ಟರಿಗೆ ತೋರಿಸುವ ಹೊಸಗಳು ಇಂಟೆಲ್ ಮತ್ತು ಒಟ್ಟಮ್ ಸಾಧಿಕೆ ಮತ್ತು ಒಟ್ಟಮ್ ಶಕ್ತಿಶಾಲೆಗಳಿಗೆ ಸಮಸ್ತ ಆಶೆಯ ಮತ್ತು ಅವಸ್ಥೆಗಳಿಗೆ ಸಮಮಥನೆಯ ಮಾಹೀತ್ವವನ್ನು ಮತ್ತು ಶಕ್ತಿಶಾಲೆಗಳಿಗೆ ಬಳಸುತ್ತಿದೆ.\n",
    "7. ಮನುಫಕ್ಟರಿಗೆ ಕಳುಹೆಯೇ ಹೋಗುವ ಹೊಸಗಳು ತಮ್ಮ ಸ್ವತಂತ್ರ ಮತ್ತು ತಮ್ಮ ಶಕ್ತಿಶಾಲೆಗಳಿಗೆ ಮಾಡುವ ಬೆಳ್ಲಿಗೆ ಮಾಡುತ್ತಿದೆ.\n",
    "8. ಅವನು ಇಂಟೆಲ್ ಫಬ್ 28 ಫಾಬ್-ನೇಟ್ ಮನುಫಕ್ಟರಿಗೆ ಬಂದು ತಮ್ಮ ಅವಸ್ಥೆಗಳಿಗೆ ಹೇಳಿಸುತ್ತಿದೆ. ಅವನು ತಮ್ಮ ಹುಡುದ್ಗಳೆಗಳಿಗೆ ಸಮಸ್ತ ಆಶೆಯ ಮತ್ತು ಅವಸ್ಥೆಗಳಿಗೆ ಸಮಮಥನೆಯ ಮಾಹೀತ್ವವನ್ನು ಕೇಷಿಸುತ್ತಿದೆ.\n",
    "9. ಅವನು ಈ ಫಬ್ 28 ಫಾಬ್-ನೇಟ್ ಮನುಫಕ್ಟರಿಗೆ ಬಂದು ಅವನ ಹೆಜ್ಜಿನ್ ಆಶೆಯಲ್ಲಿ ಹೇಳಿಸುತ್ತಿದೆ. ಅವನು ಈ ಜಾಧೆಯಲ್ಲಿ ಜನ್ಮಮಾಡಿತ ಮಿಕ್ರೋಪ್ರೋಸೆಷರ್ಗಳಿಗೆ ಅವಸ್ಥೆಗಳಿಗೆ ಸಮಮಥನೆಯ ಶಕ್ತಿಶಾಲೆಗಳಿಗೆ ಬಳಸುತ್ತಿದೆ.\n",
    "10. ಅವನು ಈ ವಿಜಯ್ಯತ್ಸದ ವಿದೇಶಕ್ಕೆ ಮತ್ತು ಈ ಫಬ್ 28 ಮನುಫಕ್ಟರಿಗೆ ಬಂದು ತಮ್ಮ ಸ್ವತಂತ್ರ ಮತ್ತು ಒಟ್ಟಮ್ ಸಾಧಿಕೆ ಮತ್ತು ಮತ್ತೊಂದು ಸಂಪೂರ್ಣ ಆಶೆಯ ಮತ್ತು ಅವಸ್ಥೆಗಳಿಗೆ ಸಮಮಥನೆಯ ಮಾಹೀತ್ವವನ್ನು ಕೇಷಿಸುತ್ತಿದೆ.\n"
   ]
  }
 ],
 "metadata": {
  "kernelspec": {
   "display_name": "Python 3 (ipykernel)",
   "language": "python",
   "name": "python3"
  },
  "language_info": {
   "codemirror_mode": {
    "name": "ipython",
    "version": 3
   },
   "file_extension": ".py",
   "mimetype": "text/x-python",
   "name": "python",
   "nbconvert_exporter": "python",
   "pygments_lexer": "ipython3",
   "version": "3.11.7"
  }
 },
 "nbformat": 4,
 "nbformat_minor": 5
}
