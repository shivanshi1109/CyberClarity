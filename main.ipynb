{
 "cells": [
  {
   "cell_type": "code",
   "execution_count": 8,
   "id": "4b33c2c7",
   "metadata": {
    "scrolled": true
   },
   "outputs": [],
   "source": [
    "from langchain_community.document_loaders import YoutubeLoader\n",
    "from spire.doc import *\n",
    "from spire.doc.common import *\n",
    "import os\n",
    "from dotenv import load_dotenv\n",
    "load_dotenv()\n",
    "from langchain_community.llms import HuggingFaceEndpoint\n",
    "import re\n",
    "from langchain.chains import LLMChain\n",
    "from langchain.prompts import PromptTemplate"
   ]
  },
  {
   "cell_type": "code",
   "execution_count": 9,
   "id": "38a18f16",
   "metadata": {},
   "outputs": [],
   "source": [
    "os.environ['HUGGINGFACEHUB_API_TOKEN'] = os.getenv(\"HUGGINGFACEHUB_API_TOKEN\")"
   ]
  },
  {
   "cell_type": "code",
   "execution_count": 19,
   "id": "5caf490f",
   "metadata": {},
   "outputs": [],
   "source": [
    "youtube_url=input(\"Youtube Link:\")\n",
    "loader = YoutubeLoader.from_youtube_url(\n",
    "    youtube_url, add_video_info=False\n",
    ")\n"
   ]
  },
  {
   "cell_type": "code",
   "execution_count": 20,
   "id": "fe9f9157",
   "metadata": {},
   "outputs": [],
   "source": [
    "documents = loader.load()  # Assuming this returns a list of Document objects\n"
   ]
  },
  {
   "cell_type": "code",
   "execution_count": 21,
   "id": "2c4b14f0",
   "metadata": {},
   "outputs": [],
   "source": [
    "def clean_text(text):\n",
    "    \"\"\"\n",
    "    Cleans the extracted text by removing unnecessary characters and whitespace.\n",
    "\n",
    "    Args:\n",
    "    text (str): Extracted text.\n",
    "\n",
    "    Returns:\n",
    "    str: Cleaned text.\n",
    "    \"\"\"\n",
    "    # Remove extra whitespace and newlines\n",
    "    cleaned_text = re.sub(r'\\s+', ' ', text)\n",
    "    # Remove non-printable characters\n",
    "    cleaned_text = re.sub(r'[^\\x00-\\x7F]+', '', cleaned_text)\n",
    "    # Remove any leading or trailing whitespace\n",
    "    cleaned_text = cleaned_text.strip()\n",
    "    return cleaned_text"
   ]
  },
  {
   "cell_type": "code",
   "execution_count": 22,
   "id": "f7bcb45d",
   "metadata": {},
   "outputs": [],
   "source": [
    "script=clean_text(documents[0].page_content)"
   ]
  },
  {
   "cell_type": "code",
   "execution_count": 23,
   "id": "acc1b0ed",
   "metadata": {},
   "outputs": [
    {
     "name": "stdout",
     "output_type": "stream",
     "text": [
      "The token has not been saved to the git credentials helper. Pass `add_to_git_credential=True` in this function directly or `--add-to-git-credential` if using via `huggingface-cli` if you want to set the git credential as well.\n",
      "Token is valid (permission: write).\n",
      "Your token has been saved to /home/shreya/.cache/huggingface/token\n",
      "Login successful\n"
     ]
    }
   ],
   "source": [
    "\n",
    "repo_id = \"mistralai/Mistral-7B-Instruct-v0.2\"  \n",
    "llm = HuggingFaceEndpoint(\n",
    "    repo_id=repo_id, temperature= 0.75, model_kwargs= {'max_length': 8192}, max_new_tokens=4096)"
   ]
  },
  {
   "cell_type": "code",
   "execution_count": 24,
   "id": "2f4af3a3",
   "metadata": {},
   "outputs": [],
   "source": [
    "prompt_template = PromptTemplate(\n",
    "        input_variables=[\"text\"],\n",
    "        template=\"Summarize the following text in 550 words:\\n\\n {text} \\n\\nSummary:\"\n",
    "    )\n",
    "\n",
    "    # Create an LLMChain with the LLM and prompt\n",
    "chain = prompt_template | llm\n",
    "    \n",
    "    # Run the chain to summarize the text\n",
    "summary = chain.invoke(script)"
   ]
  },
  {
   "cell_type": "code",
   "execution_count": 25,
   "id": "27b6972f",
   "metadata": {},
   "outputs": [
    {
     "data": {
      "text/plain": [
       "\"\\nThe text is a transcript of a video showing two friends, Luke and Ashley, attempting to survive for 24 hours in the snow. They arrive at their destination and realize they have left their car keys behind, but decide to proceed without them. They begin building a shelter, but struggle with the process due to the difficulty of the terrain and Luke's lack of motivation. They also encounter challenges in finding firewood and water. Throughout the process, they assess their primitive survival ratings (PSRs) and make jokes about each other's weaknesses. Eventually, they finish building their shelter and manage to make a fire, but are interrupted by the arrival of the police, who tell them they are trespassing on private property. They quickly pack up and leave, feeling relieved that they had only intended to stay for a short time. Overall, the text depicts the friends' struggles and camaraderie as they attempt to survive in the wilderness.\""
      ]
     },
     "execution_count": 25,
     "metadata": {},
     "output_type": "execute_result"
    }
   ],
   "source": [
    "summary"
   ]
  },
  {
   "cell_type": "code",
   "execution_count": null,
   "id": "db437d55",
   "metadata": {},
   "outputs": [],
   "source": [
    "\"\\nThe text is a transcript of a video showing two friends, Luke and Ashley, attempting to survive for 24 hours in the snow. They arrive at their destination and realize they have left their car keys behind, but decide to proceed without them. They begin building a shelter, but struggle with the process due to the difficulty of the terrain and Luke's lack of motivation. They also encounter challenges in finding firewood and water. Throughout the process, they assess their primitive survival ratings (PSRs) and make jokes about each other's weaknesses. Eventually, they finish building their shelter and manage to make a fire, but are interrupted by the arrival of the police, who tell them they are trespassing on private property. They quickly pack up and leave, feeling relieved that they had only intended to stay for a short time. Overall, the text depicts the friends' struggles and camaraderie as they attempt to survive in the wilderness.\""
   ]
  }
 ],
 "metadata": {
  "kernelspec": {
   "display_name": "Python 3 (ipykernel)",
   "language": "python",
   "name": "python3"
  },
  "language_info": {
   "codemirror_mode": {
    "name": "ipython",
    "version": 3
   },
   "file_extension": ".py",
   "mimetype": "text/x-python",
   "name": "python",
   "nbconvert_exporter": "python",
   "pygments_lexer": "ipython3",
   "version": "3.11.7"
  }
 },
 "nbformat": 4,
 "nbformat_minor": 5
}
