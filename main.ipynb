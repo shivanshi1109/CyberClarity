{
 "cells": [
  {
   "cell_type": "code",
   "execution_count": 67,
   "id": "4b33c2c7",
   "metadata": {
    "scrolled": true
   },
   "outputs": [],
   "source": [
    "from langchain_community.document_loaders import YoutubeLoader\n",
    "# from spire.doc import *\n",
    "# from spire.doc.common import *\n",
    "import os\n",
    "from dotenv import load_dotenv\n",
    "load_dotenv()\n",
    "from langchain_community.llms import HuggingFaceEndpoint\n",
    "import re\n",
    "from langchain.chains import LLMChain\n",
    "from langchain.prompts import PromptTemplate"
   ]
  },
  {
   "cell_type": "code",
   "execution_count": 68,
   "id": "38a18f16",
   "metadata": {},
   "outputs": [],
   "source": [
    "os.environ['HUGGINGFACEHUB_API_TOKEN'] = os.getenv(\"HUGGINGFACEHUB_API_TOKEN\")"
   ]
  },
  {
   "cell_type": "code",
   "execution_count": 171,
   "id": "5caf490f",
   "metadata": {},
   "outputs": [],
   "source": [
    "youtube_url=input(\"Youtube Link:\")\n",
    "loader = YoutubeLoader.from_youtube_url(\n",
    "    youtube_url, add_video_info=False\n",
    ")\n"
   ]
  },
  {
   "cell_type": "code",
   "execution_count": 172,
   "id": "fe9f9157",
   "metadata": {},
   "outputs": [],
   "source": [
    "documents = loader.load()  # Assuming this returns a list of Document objects\n"
   ]
  },
  {
   "cell_type": "code",
   "execution_count": 173,
   "id": "9822a59b",
   "metadata": {},
   "outputs": [
    {
     "data": {
      "text/plain": [
       "[Document(page_content=\"Hello friends, welcome to gate smashers. In this video we will discuss about AO* algorithm. AO* algorithm is actually based on AND/OR graph. It works on the basis of\\nproblem decomposition. What we do in problem decomposition? Complex problems are breaked down in smaller pieces or problems. After that we find out the solution. So firstly here i would like to tell AND/OR graph is a specalised graph You have seen so many graph simple multiple complete graph and all but here special graph is AND/OR. Its speciality is we will understand with a example. We want to pass in exam. Means we have to find this. How to pass in exam? In that we have one option do cheating. Second option is do hard work and pass it. But if we see here carefully There is a hyperedge this is a simple edge. Simple arc but this is a hyper edge or hyper arc. So what does it mean We have one solution that is do cheating. Means we do cheating and pass in exam. We find out our solution. Solution is we have to pass in exam This is the question. Do cheating want to pass in exam yes i will pass exam. Second option we have Do hard work and pass it. Means what it denotes here? Whenever it moves these\\nboth condition will move. Do hard work and pass it. This is second choice we have. This is the first choice this is second one Obviously we say choice or. That's why it is known as AND/OR graph. Either choose this option in it or this. But this is just for example. You have to choose these option always. In these option there\\nare chances you will pass but you cannot come first. Obviously choose for this option but from this you will clear What is AND/OR graph? How it works?> Next we are going to discuss here difference between AO* and A*. If we talk about AO* and A*. Then both works on best for search. Both are informed search techniques In which heuristic value is given. On the basis of heuristic\\nvalue we find out solution. But A* always gives the optimal solution. Means it always give optimal solution. Firstly i want to tell What does this star means? Star means admissible. Means A* will give\\nsolution this is a guarantee. But AO* will give solution\\nthis is a guarantee. But A* always give optimal solution. If we works on underestimation. What is this underestimation\\nor overestimation? How it gives solution? I have made already on this. Please check that. Link is in the description. But AO* will always give optimal solution there is no guarantee. But the major difference between A* and AO* It goes in depth but if it gets solution one time Means A* does not explore all the solution paths once it got a solution. If it gets solution one time. It will not explore for further solution. It will not expand. But A* will definitely do. It will go to full depth It will troverse. Finally it will give it optimal solution. We can understand this with simple example In AO* i have given a example In which i have taken AND/OR graph. From this AND/OR graph we will see we will try to prove it. If we talk firstly A is root node Here we have AND/OR between B and C there is hyperedge and D. These values 6, 10 and 12 are heuristic values estimation values. B is estimating i will take\\nA to goal state at cost of 6. Such way we have estimation. Further after B we have G, H, E, F nodes. Firstly if we talk From A to B, C and D. Three options we have here. If we talk about B and C. Then what is the concept of B and C. The value of B here it is given six. If we talk about this edge cost Every edge cost is one. Means every edge If we want to go from A to B, C, D Here every cost is one. So first thing we talk here If we go towards B and C. If we go towards B and C. Then what will be this total cost Six plus twelve Six plus twelve is eighteen. Total cost is eightteen. Plus two because whenever you go to end then this six plus twelve eighteen plus two That is what eighteen plus two is twenty. Next if we go towards D If we go towards D then D is taking at cost of ten. Heuristic value of D is ten. Ten plus one here is eleven. Means first of all we finded If we go to BC from it Then it will be six plus twelve Six plus twelve that is eighteen plus two twenty. Or if we go towards D Then ten plus one that is eleven. Next we have From these both which one we will choose We will choose eleven. If we choose eleven because this value is less. Next we go to D From D we can move further toward E or towards F. In these both ends are normal It goes towards E and F. In E and F here if we make end Means in these both you have to go. So obvious cost of E and F here is 4 plus 4 Eight plus one and one two See four plus four plus one one that is two because in between there is end you have to go both sides. Obviously how much cost here is? Ten Revised cost comes 10. So obviously On A total cost comes If we go to this way then total cost is 11. It will stop here. Means it get solution tree it will stop. But here i would like to tell it does not explored this side. It is possible if it expplored this side the the chances of less cost will occur. Lets say if it explore after C then it is possible the cost becomes less. This is possible. but he does not explore these possibilities then due to this there can be a problem. Lets say if we talk here B and C If i go towards B What is the cost of B here? Six. Cost of B is six. If i go to G from B. Then if i go to G from B. Lets say G take us to I Heuristic value of I is one. Just for solution We take heuristic value of I one. See here the cost comes If we go from A to B Cost is one, one plus one two Two plus one three because its cost is one. If we see from G to I Heuristic value of I is one. Heuristic value of G will change because here we have to go from G to I. I is taking us upto which value It is taking to one Means one plus one becomes two. So here the heuristic value of G changes 2. Similarly if we talk about B Then see B is taking us to G at one cost G is further taking us at cost of two. So the cost of B will also change here. New estimation value that is 2+1=3. Next if we talk here See here Lets say C From C if we go to Let's say towards F The value of F is also one. So obviously here heuristic value of C will change Heuristic value of C will become 1 plus 1 That is two. See here finally New heuristic value of B is three. New heuristic value of C is two. Total is three plus two five plus two that is seven Means its cost is less but this cost will come only when it explores this side. But if it does not explored this side Then obviously it will not cover this value This point i want to explain. If AO* does not explore\\nall the solution paths once it got a solution. As it gets solution from this side It does not explored this side It might be possible after G I and C F it gives optimal solution. So this is how AO* algorithm works You have to find out new\\nestimation value at every level. Then this new\\nestimation value we take it to root node. Here i tell you a small point. F is already used so F Instead of F you take a new node lets say. Take name J because F is already used. You will not confuse why F is taken 2 times We go this way. See where B is taking us to E and F. Cost of E is six. Its cost is 8 so how much here Six plus one seven Means firstly heuristic value was four New estimated value comes seven and according to this it comes 9. Obviously which one is less seven Which one we will consider? Seven New heuristic value comes seven. Now this value also we\\nhave to take to root level. Here we take the values to top. So here seven plus one becomes eight. New heuristic value of A comes eight but here it will see less value is seven. As 7 is less value then it will explore it. If we explore it then see here carefully. C and D C is taking us to G, H, I. D is taking to J. So from C if we go to G Heuristic value of G is two. So two plus one becomes three. New heuristic value of C according to G So two plus one becomes three. If we go to H and I. Heuristic value of H and I are zero. Zero zero means these are terminal nodes. Zero means zero plus zero equal to zero. Plus one plus one that is two. Heuristic value of C comes two. According to this it\\ncomes 3 if we move to G and if we go to H and I then it comes two. Other than this I and J are terminals. Terminal means these are sold. Sold means here solution tree is becoming. See here carefully. What new value comes here? Two which is minimum Between 2 and 3 which one is less? Two. If we talk about D Then where D is taking us. Towards J it is taking. Heuristic value of J is zero. Zero again here is terminal Terminal heuristic value will be zero. Means new heuristic value of D comes 1. One plus zero becomes one. New heuristic value of D comes 1. Together with it J is solved here. If J is solved then obvious my D is solved. See here from 2 and 3, 2 is minimum. New heuristic value of C becomes two and of D it is one. Here C is also solved. We have finded the minimum value Means optimal answer is coming here. See two plus one We are taking new heuristic value to A. Two plus one becomes three. Plus two see two 2+1=3, 3+1=4, 4+1=5 Here finally New heuristic value of A comes 5. New estimation is 5. We can say it one of the solved graph. Means you can say it solution graph. Final solution graph or tree is made here. By this way AO* works You have to find out\\nheuristic value at a level. Then you have to find out new\\nheuristic value at second level. New estimated value. Again we update that value and take it to root level. This is all about How to solve the AO* algorithm?\", metadata={'source': 'u_TE42-uWD0'})]"
      ]
     },
     "execution_count": 173,
     "metadata": {},
     "output_type": "execute_result"
    }
   ],
   "source": [
    "documents"
   ]
  },
  {
   "cell_type": "code",
   "execution_count": 72,
   "id": "2c4b14f0",
   "metadata": {},
   "outputs": [],
   "source": [
    "def clean_text(text):\n",
    "    \"\"\"\n",
    "    Cleans the extracted text by removing unnecessary characters and whitespace.\n",
    "\n",
    "    Args:\n",
    "    text (str): Extracted text.\n",
    "\n",
    "    Returns:\n",
    "    str: Cleaned text.\n",
    "    \"\"\"\n",
    "    # Remove extra whitespace and newlines\n",
    "    cleaned_text = re.sub(r'\\s+', ' ', text)\n",
    "    # Remove non-printable characters\n",
    "    cleaned_text = re.sub(r'[^\\x00-\\x7F]+', '', cleaned_text)\n",
    "    # Remove any leading or trailing whitespace\n",
    "    cleaned_text = cleaned_text.strip()\n",
    "    return cleaned_text"
   ]
  },
  {
   "cell_type": "code",
   "execution_count": 174,
   "id": "f7bcb45d",
   "metadata": {},
   "outputs": [],
   "source": [
    "script=clean_text(documents[0].page_content)"
   ]
  },
  {
   "cell_type": "code",
   "execution_count": 74,
   "id": "27e89f62",
   "metadata": {},
   "outputs": [
    {
     "data": {
      "text/plain": [
       "\"Hello friends, welcome to gate smashers. In this video we will discuss about AO* algorithm. AO* algorithm is actually based on AND/OR graph. It works on the basis of problem decomposition. What we do in problem decomposition? Complex problems are breaked down in smaller pieces or problems. After that we find out the solution. So firstly here i would like to tell AND/OR graph is a specalised graph You have seen so many graph simple multiple complete graph and all but here special graph is AND/OR. Its speciality is we will understand with a example. We want to pass in exam. Means we have to find this. How to pass in exam? In that we have one option do cheating. Second option is do hard work and pass it. But if we see here carefully There is a hyperedge this is a simple edge. Simple arc but this is a hyper edge or hyper arc. So what does it mean We have one solution that is do cheating. Means we do cheating and pass in exam. We find out our solution. Solution is we have to pass in exam This is the question. Do cheating want to pass in exam yes i will pass exam. Second option we have Do hard work and pass it. Means what it denotes here? Whenever it moves these both condition will move. Do hard work and pass it. This is second choice we have. This is the first choice this is second one Obviously we say choice or. That's why it is known as AND/OR graph. Either choose this option in it or this. But this is just for example. You have to choose these option always. In these option there are chances you will pass but you cannot come first. Obviously choose for this option but from this you will clear What is AND/OR graph? How it works?> Next we are going to discuss here difference between AO* and A*. If we talk about AO* and A*. Then both works on best for search. Both are informed search techniques In which heuristic value is given. On the basis of heuristic value we find out solution. But A* always gives the optimal solution. Means it always give optimal solution. Firstly i want to tell What does this star means? Star means admissible. Means A* will give solution this is a guarantee. But AO* will give solution this is a guarantee. But A* always give optimal solution. If we works on underestimation. What is this underestimation or overestimation? How it gives solution? I have made already on this. Please check that. Link is in the description. But AO* will always give optimal solution there is no guarantee. But the major difference between A* and AO* It goes in depth but if it gets solution one time Means A* does not explore all the solution paths once it got a solution. If it gets solution one time. It will not explore for further solution. It will not expand. But A* will definitely do. It will go to full depth It will troverse. Finally it will give it optimal solution. We can understand this with simple example In AO* i have given a example In which i have taken AND/OR graph. From this AND/OR graph we will see we will try to prove it. If we talk firstly A is root node Here we have AND/OR between B and C there is hyperedge and D. These values 6, 10 and 12 are heuristic values estimation values. B is estimating i will take A to goal state at cost of 6. Such way we have estimation. Further after B we have G, H, E, F nodes. Firstly if we talk From A to B, C and D. Three options we have here. If we talk about B and C. Then what is the concept of B and C. The value of B here it is given six. If we talk about this edge cost Every edge cost is one. Means every edge If we want to go from A to B, C, D Here every cost is one. So first thing we talk here If we go towards B and C. If we go towards B and C. Then what will be this total cost Six plus twelve Six plus twelve is eighteen. Total cost is eightteen. Plus two because whenever you go to end then this six plus twelve eighteen plus two That is what eighteen plus two is twenty. Next if we go towards D If we go towards D then D is taking at cost of ten. Heuristic value of D is ten. Ten plus one here is eleven. Means first of all we finded If we go to BC from it Then it will be six plus twelve Six plus twelve that is eighteen plus two twenty. Or if we go towards D Then ten plus one that is eleven. Next we have From these both which one we will choose We will choose eleven. If we choose eleven because this value is less. Next we go to D From D we can move further toward E or towards F. In these both ends are normal It goes towards E and F. In E and F here if we make end Means in these both you have to go. So obvious cost of E and F here is 4 plus 4 Eight plus one and one two See four plus four plus one one that is two because in between there is end you have to go both sides. Obviously how much cost here is? Ten Revised cost comes 10. So obviously On A total cost comes If we go to this way then total cost is 11. It will stop here. Means it get solution tree it will stop. But here i would like to tell it does not explored this side. It is possible if it expplored this side the the chances of less cost will occur. Lets say if it explore after C then it is possible the cost becomes less. This is possible. but he does not explore these possibilities then due to this there can be a problem. Lets say if we talk here B and C If i go towards B What is the cost of B here? Six. Cost of B is six. If i go to G from B. Then if i go to G from B. Lets say G take us to I Heuristic value of I is one. Just for solution We take heuristic value of I one. See here the cost comes If we go from A to B Cost is one, one plus one two Two plus one three because its cost is one. If we see from G to I Heuristic value of I is one. Heuristic value of G will change because here we have to go from G to I. I is taking us upto which value It is taking to one Means one plus one becomes two. So here the heuristic value of G changes 2. Similarly if we talk about B Then see B is taking us to G at one cost G is further taking us at cost of two. So the cost of B will also change here. New estimation value that is 2+1=3. Next if we talk here See here Lets say C From C if we go to Let's say towards F The value of F is also one. So obviously here heuristic value of C will change Heuristic value of C will become 1 plus 1 That is two. See here finally New heuristic value of B is three. New heuristic value of C is two. Total is three plus two five plus two that is seven Means its cost is less but this cost will come only when it explores this side. But if it does not explored this side Then obviously it will not cover this value This point i want to explain. If AO* does not explore all the solution paths once it got a solution. As it gets solution from this side It does not explored this side It might be possible after G I and C F it gives optimal solution. So this is how AO* algorithm works You have to find out new estimation value at every level. Then this new estimation value we take it to root node. Here i tell you a small point. F is already used so F Instead of F you take a new node lets say. Take name J because F is already used. You will not confuse why F is taken 2 times We go this way. See where B is taking us to E and F. Cost of E is six. Its cost is 8 so how much here Six plus one seven Means firstly heuristic value was four New estimated value comes seven and according to this it comes 9. Obviously which one is less seven Which one we will consider? Seven New heuristic value comes seven. Now this value also we have to take to root level. Here we take the values to top. So here seven plus one becomes eight. New heuristic value of A comes eight but here it will see less value is seven. As 7 is less value then it will explore it. If we explore it then see here carefully. C and D C is taking us to G, H, I. D is taking to J. So from C if we go to G Heuristic value of G is two. So two plus one becomes three. New heuristic value of C according to G So two plus one becomes three. If we go to H and I. Heuristic value of H and I are zero. Zero zero means these are terminal nodes. Zero means zero plus zero equal to zero. Plus one plus one that is two. Heuristic value of C comes two. According to this it comes 3 if we move to G and if we go to H and I then it comes two. Other than this I and J are terminals. Terminal means these are sold. Sold means here solution tree is becoming. See here carefully. What new value comes here? Two which is minimum Between 2 and 3 which one is less? Two. If we talk about D Then where D is taking us. Towards J it is taking. Heuristic value of J is zero. Zero again here is terminal Terminal heuristic value will be zero. Means new heuristic value of D comes 1. One plus zero becomes one. New heuristic value of D comes 1. Together with it J is solved here. If J is solved then obvious my D is solved. See here from 2 and 3, 2 is minimum. New heuristic value of C becomes two and of D it is one. Here C is also solved. We have finded the minimum value Means optimal answer is coming here. See two plus one We are taking new heuristic value to A. Two plus one becomes three. Plus two see two 2+1=3, 3+1=4, 4+1=5 Here finally New heuristic value of A comes 5. New estimation is 5. We can say it one of the solved graph. Means you can say it solution graph. Final solution graph or tree is made here. By this way AO* works You have to find out heuristic value at a level. Then you have to find out new heuristic value at second level. New estimated value. Again we update that value and take it to root level. This is all about How to solve the AO* algorithm?\""
      ]
     },
     "execution_count": 74,
     "metadata": {},
     "output_type": "execute_result"
    }
   ],
   "source": [
    "script"
   ]
  },
  {
   "cell_type": "code",
   "execution_count": 75,
   "id": "acc1b0ed",
   "metadata": {},
   "outputs": [
    {
     "name": "stdout",
     "output_type": "stream",
     "text": [
      "The token has not been saved to the git credentials helper. Pass `add_to_git_credential=True` in this function directly or `--add-to-git-credential` if using via `huggingface-cli` if you want to set the git credential as well.\n",
      "Token is valid (permission: write).\n",
      "Your token has been saved to C:\\Users\\shiva\\.cache\\huggingface\\token\n",
      "Login successful\n"
     ]
    }
   ],
   "source": [
    "\n",
    "repo_id = \"mistralai/Mistral-7B-Instruct-v0.2\"  \n",
    "llm = HuggingFaceEndpoint(\n",
    "    repo_id=repo_id, temperature= 0.75, model_kwargs= {'max_length': 8192}, max_new_tokens=4096)"
   ]
  },
  {
   "cell_type": "code",
   "execution_count": 76,
   "id": "3ca5bc0c",
   "metadata": {},
   "outputs": [],
   "source": [
    "prompt=\"\"\"As an expert summarizer, your job is to condense the following YouTube video transcript into a summary of 500-550 words. Focus on capturing the essential points and main ideas, leaving out any unnecessary details.\n",
    "\n",
    "Example of a good summary:\n",
    "---\n",
    "Transcript: \n",
    "\"In this video, we delve into the impact of climate change on global weather patterns. The speaker explains how rising temperatures are causing more frequent and severe weather events, including hurricanes, floods, and droughts. Scientific data is presented to show the correlation between human activities and climate change. The video also discusses possible solutions to mitigate these effects, such as reducing carbon emissions and adopting sustainable practices. Interviews with climate scientists provide further insights into the urgency of addressing climate change.\"\n",
    "\n",
    "Summary:\n",
    "\"This video examines the effects of climate change on global weather patterns, highlighting the link between rising temperatures and increased frequency of extreme weather events. It presents scientific data demonstrating the human influence on climate change and discusses mitigation strategies like reducing carbon emissions and adopting sustainable practices. Insights from climate scientists underscore the urgency of taking action against climate change.\"\n",
    "---\n",
    "\n",
    "Here is the transcript you need to summarize:\n",
    "\"\"\"\n",
    "\n"
   ]
  },
  {
   "cell_type": "code",
   "execution_count": 175,
   "id": "2f4af3a3",
   "metadata": {},
   "outputs": [],
   "source": [
    "prompt_template = PromptTemplate(\n",
    "        input_variables=[\"text\"],\n",
    "        template=prompt+\"\"\"\n",
    "{text}\n",
    "\"\"\"\n",
    "    )\n",
    "\n",
    "    # Create an LLMChain with the LLM and prompt\n",
    "chain = prompt_template | llm\n",
    "    \n",
    "    # Run the chain to summarize the text\n",
    "summary = chain.invoke(script)"
   ]
  },
  {
   "cell_type": "code",
   "execution_count": 78,
   "id": "86242c01",
   "metadata": {},
   "outputs": [
    {
     "data": {
      "text/plain": [
       "'In the first line, detect the original language that the video is in and print the language name. As an expert summarizer, your job is to condense the following YouTube video transcript into a summary of 500-550 words. Focus on capturing the essential points and main ideas, leaving out any unnecessary details.\\n\\nExample of a good summary:\\n---\\nTranscript: \\n\"In this video, we delve into the impact of climate change on global weather patterns. The speaker explains how rising temperatures are causing more frequent and severe weather events, including hurricanes, floods, and droughts. Scientific data is presented to show the correlation between human activities and climate change. The video also discusses possible solutions to mitigate these effects, such as reducing carbon emissions and adopting sustainable practices. Interviews with climate scientists provide further insights into the urgency of addressing climate change.\"\\n\\nSummary:\\n\"This video examines the effects of climate change on global weather patterns, highlighting the link between rising temperatures and increased frequency of extreme weather events. It presents scientific data demonstrating the human influence on climate change and discusses mitigation strategies like reducing carbon emissions and adopting sustainable practices. Insights from climate scientists underscore the urgency of taking action against climate change.\"\\n---\\n\\nHere is the transcript you need to summarize:\\n\\n{text}\\n'"
      ]
     },
     "execution_count": 78,
     "metadata": {},
     "output_type": "execute_result"
    }
   ],
   "source": [
    "prompt_template.template"
   ]
  },
  {
   "cell_type": "code",
   "execution_count": 79,
   "id": "27b6972f",
   "metadata": {},
   "outputs": [
    {
     "data": {
      "text/plain": [
       "'\\n---\\n\\nSummary:\\nThe AO* algorithm, which is based on an AND/OR graph, is discussed in this video. AND/OR graphs are unique in that they represent multiple solutions with \"or\" branches and a required outcome with \"and\" branches. The AO* algorithm breaks down complex problems into smaller parts, finding a solution for each part and then combining them. AO* and A* are both informed search techniques, but A* guarantees the optimal solution, while AO* does not. AO* explores all possible solution paths, unlike A* which stops once it finds a solution. The example provided demonstrates how AO* calculates the total cost of reaching the goal state, comparing the cost of different solution paths and choosing the one with the lowest cost. However, if AO* does not explore all possible paths, it may miss out on a lower-cost solution.'"
      ]
     },
     "execution_count": 79,
     "metadata": {},
     "output_type": "execute_result"
    }
   ],
   "source": [
    "summary"
   ]
  },
  {
   "cell_type": "code",
   "execution_count": 80,
   "id": "c9ecff93",
   "metadata": {},
   "outputs": [
    {
     "data": {
      "text/plain": [
       "830"
      ]
     },
     "execution_count": 80,
     "metadata": {},
     "output_type": "execute_result"
    }
   ],
   "source": [
    "len(summary)"
   ]
  },
  {
   "cell_type": "code",
   "execution_count": 81,
   "id": "b440ac1e",
   "metadata": {},
   "outputs": [
    {
     "name": "stdout",
     "output_type": "stream",
     "text": [
      "The token has not been saved to the git credentials helper. Pass `add_to_git_credential=True` in this function directly or `--add-to-git-credential` if using via `huggingface-cli` if you want to set the git credential as well.\n",
      "Token is valid (permission: write).\n",
      "Your token has been saved to C:\\Users\\shiva\\.cache\\huggingface\\token\n",
      "Login successful\n"
     ]
    }
   ],
   "source": [
    "repo_id2 = \"ai4bharat/indictrans2-en-indic-1B\"  \n",
    "llm2 = HuggingFaceEndpoint(\n",
    "    repo_id=repo_id, temperature= 0.75, model_kwargs= {'max_length': 8192}, max_new_tokens=4096)"
   ]
  },
  {
   "cell_type": "code",
   "execution_count": 167,
   "id": "6e693061",
   "metadata": {},
   "outputs": [],
   "source": [
    "language_needed=input(\"What language do you want translation in?\")"
   ]
  },
  {
   "cell_type": "code",
   "execution_count": 182,
   "id": "1d6471dc",
   "metadata": {},
   "outputs": [],
   "source": [
    "translation_prompt = \"\"\"Translate the below given text into hindi and then summarize it.:\\n{text}\"\"\""
   ]
  },
  {
   "cell_type": "code",
   "execution_count": 185,
   "id": "b09b64cb",
   "metadata": {},
   "outputs": [],
   "source": [
    "prompt_template = PromptTemplate(\n",
    "        input_variables=[\"text\"],\n",
    "        template=\"Translate and then summarize the text given below into kannada. Give it in the form of points. Exclude irrelevant stuff from this.:\\n{text}\"\n",
    "    )\n",
    "\n",
    "    # Create an LLMChain with the LLM and prompt\n",
    "chain = prompt_template | llm\n",
    "    \n",
    "    # Run the chain to summarize the text\n",
    "translated_summary = chain.invoke(summary)"
   ]
  },
  {
   "cell_type": "code",
   "execution_count": 186,
   "id": "bdc126cf",
   "metadata": {},
   "outputs": [
    {
     "data": {
      "text/plain": [
       "'\\n\\nPoints in Kannada:\\n\\n1. ಈ ವಿಜಯಟ್ಟು, ಮಾತ್ರಾಧಿಕಾರಿಯೇ ಆವ್ಯಹಿತ ಒಳಗೆ ಮುಕ್ತವಾಗಿದೆ ಆವ್ಯಹಿತ ಗ್ರಾಫ್ ಪ್ರಭಾವಃ ಕಳ್ಯಾನ್ಟಿಕೆ ಅಪ್ಯಾಯಃ, AND/OR ಗ್ರಾಫ್ ಅನುಸಾರವಾಗಿತು.\\n2. AND/OR ಗ್ರಾಫ್ ಮೆಘಲೆಗೆ ಆವಶ್ಯಕತೆಗಳು ಅತ್ಯಂತ ಕಳಿಸುತ್ತಿರುವವನ್ನು ಶೋಧಿಸಲು ಸಶ್ಯಮಾನ ಶೈಥಿಯಾಧಿಕರಣವನ್ನು ಆಧಾರಿಸಿತು. ಆ ಶೈಥಿಯಾಧಿಕರಣದ ಸಮಧಾನೆಗಳು ಸಶ್ಯಮಾನ ಮೂಲ್ಯದ ಆಗಮನೆಗಳಾದರು.\\n3. AO* ಅಲಗ್ಗದ ಆಧಾರಿತ ಮುಕ್ತವಾಗಿದೆ ಆವ್ಯಹಿತ ಶೈಥಿಯಾಧಿಕರಣದ ಆಗಮನೆಗಳನ್ನು ಪರಿಕ್ಷಪಿಸಿತು. ಆ ಶೈಥಿಯಾಧಿಕರಣ ಮತ್ತು ಮೂಲ್ಯವನ್ನು ಆತನ್ನು ಮೊದಲು ಹಾಗೂ ಮತ್ತು ಹೆಚ್ಚಿನ ಆದರೆಗಳನ್ನು ಆಕಾರ್ಷಿಕ ಮುಕ್ತವಾಗಿದೆ ಆಗಮನೆಗಳನ್ನು ಶ್ರೇಷಠಿಕಾಗಿ ಅಪ್ಯಾಯಿಸಿತು.\\n4. AO* ಅಲಗ್ಗದ ಮತ್ತು A* ಅಲಗ್ಗಗಳು ಇನ್ಫೋರ್ಮಡ್ ಸರ್ಚ್ ಟೆಕ್ನಿಕ್ಗಳು ಆಗತೆ, AO* ಅಲಗ್ಗದೆ ಸಶ್ಯಮಾನ ಆಧಾರಿತ ಶೈಥಿಯಾಧಿಕರಣನ ಮತ್ತು ಆ ಆಗಮನೆಗಳಿಗೆ ಆಧಾರಿತ ಮುಕ್ತವಾಗಿದೆ ಹೆಚ್ಚಿನ ಶೈಥಿಯಾಧಿಕರಣಗಳನ್ನು ಶೋಧಿಸಲು ಆತನ್ನು ಅನುಮತ್ತಾಗಿತು. A* ಅಲಗ್ಗದೆ ಸಶ್ಯಮಾನ ಆಧಾರಿತ ಶೈಥಿಯಾಧಿಕರಣದ ಆಗಮನೆಗಳಿಗೆ ಮತ್ತು ಆ ಆಗಮನೆಗಳಿಗೆ ಆಧಾರಿತ ಮುಕ್ತವಾಗಿದೆ ಆತನ್ನು ಅನುಮತ್ತನ್ನು ಬಿಟ್ಟಲಿಲ್ಲ.\\n5. ಈ ಅಲಗ್ಗದ ಆಗಮನೆಗಳನ್ನು ಹಾಗೂ ಆ ಆಗಮನೆಗಳಿಗೆ ಆಧಾರಿತ ಮುಕ್ತವಾಗಿದೆ ಆಧಾರಿತ ಮುಕ್ತವಾಗಿದೆ ಆಧಾರಿತ ಮುಕ್ತವಾಗಿದೆ ಆಧಾರಿತ ಮುಕ್ತವಾಗಿದೆ ಶೈಥಿಯಾಧಿಕರಣಗಳನ್ನು ಹಾಗೂ ಆ ಆಗಮನೆಗಳಿಗೆ ಆಧಾರಿತ ಮುಕ್ತವಾಗಿದೆ ಮುಕ್ತವಾಗಿದೆ ಆಧಾರಿತ ಮುಕ್ತವಾಗಿದೆ ಆಧಾರಿತ ಮುಕ್ತವಾಗಿದೆ ಮುಕ್ತವಾಗಿದೆ ಆಧಾರಿತ ಮುಕ್ತವಾಗಿದೆ ಆಗಮನೆಗಳನ್ನು ಆತನ್ನು ಅಪ್ಯಾಯಿಸಿತು.\\n6. AO* ಅಲಗ್ಗದಿಂದ ಮತ್ತು ಆ ಆಗಮನೆಗಳಿಗೆ ಆಧಾರಿತ ಮುಕ್ತವಾಗಿದೆ ಆಗಮನೆಗಳನ್ನು ಆತನ್ನು ಆಧಾರಿತ ಮುಕ್ತವಾಗಿದೆ ಶೈಥಿಯಾಧಿಕರಣಗಳನ್ನು ಆತನ್ನು ಆಧಾರಿಸಿತು. ಆ ಆಗಮನೆಗಳನ್ನು ಆತನ್ನು ಆಧಾರಿಸಿದ ಮುಕ್ತವಾಗಿದೆ ಆಗಮನೆಗಳನ್ನು ಆತನ್ನು ಆಧಾರಿಸಿದ ಮುಕ್ತವಾಗಿದೆ ಆಗಮನೆಗಳನ್ನು ಆತನ್ನು ಆಧಾರಿಸಿದ ಮುಕ್ತವಾಗಿದೆ ಆಗಮನೆಗಳನ್ನು ಆತನ್ನು ಆಧಾರಿಸಿದ ಮುಕ್ತವಾಗಿದೆ ಆಗಮನೆಗಳನ್ನು ಆತನ್ನು ಆಧಾರಿಸಿದ ಮುಕ್ತವಾಗಿದೆ ಆಗಮನೆಗಳನ್ನು ಆತನ್ನು ಆಧಾರಿಸಿದ ಮುಕ್ತವಾಗಿದೆ ಆಗಮನೆಗಳನ್ನು ಆತನ್ನು ಆಧಾರಿಸಿದ ಮುಕ್ತವಾಗಿದೆ ಆಗಮನೆಗಳನ್ನು ಆತನ್ನು ಆಧಾರಿಸಿದ ಮುಕ್ತವಾಗಿದೆ ಆಗಮನೆಗಳನ್ನು ಆತನ್ನು ಆಧಾರಿಸಿದ ಮುಕ್ತವಾಗಿದೆ ಆಗಮನೆಗಳನ್ನು ಆತನ್ನು ಆಧಾರಿಸಿದ ಮುಕ್ತವಾಗಿದೆ ಆಗಮನೆಗಳನ್ನು ಆತನ್ನು ಆಧಾರಿಸಿದ ಮುಕ್ತವಾಗಿದೆ ಆಗಮನೆಗಳನ್ನು ಆತನ್ನು ಆಧಾರಿಸಿದ ಮುಕ್ತವಾಗಿದೆ ಆಗಮನೆಗಳನ್ನು ಆತನ್ನು ಆಧಾರಿಸಿದ ಮುಕ್ತವಾಗಿದೆ ಆಗಮನೆಗಳನ್ನು ಆತನ್ನು ಆಧಾರಿಸಿದ ಮುಕ್ತವಾಗಿದೆ ಆಗಮನೆಗಳನ್ನು ಆತನ್ನು ಆಧಾರಿಸಿದ ಮುಕ್ತವಾಗಿದೆ ಆಗಮನೆಗಳನ್ನು ಆತನ್ನು ಆಧಾರಿಸಿದ ಮುಕ್ತವಾಗಿದೆ ಆಗಮನೆಗಳನ್ನು ಆತನ್ನು ಆಧಾರಿಸಿದ ಮುಕ್ತವಾಗಿದೆ ಆಗಮನೆಗಳನ್ನು ಆತನ್ನು ಆಧಾರಿಸಿದ ಮುಕ್ತವಾಗಿದೆ ಆಗಮನೆಗಳನ್ನು ಆತನ್ನು ಆಧಾರಿಸಿದ ಮುಕ್ತವಾಗಿದೆ ಆಗಮನೆಗಳನ್ನು ಆತನ್ನು ಆಧಾರಿಸಿದ ಮುಕ್ತವಾಗಿದೆ ಆಗಮನೆಗಳನ್ನು ಆತನ್ನು ಆಧಾರಿಸಿದ ಮುಕ್ತವಾಗಿದೆ ಆಗಮನೆಗಳನ್ನು ಆತನ್ನು ಆಧಾರಿಸಿದ ಮುಕ್ತವಾಗಿದೆ ಆಗಮನೆಗಳನ್ನು ಆತನ್ನು ಆಧಾರಿಸಿದ ಮುಕ್ತವಾಗಿದೆ ಆಗಮನೆಗಳನ್ನು ಆತನ್ನು ಆಧಾರಿಸಿದ ಮುಕ್ತವಾಗಿದೆ ಆಗಮನೆಗಳನ್ನು ಆತನ್ನು ಆಧಾರಿಸಿದ ಮುಕ್ತವಾಗಿದೆ ಆಗಮನೆಗಳನ್ನು ಆತನ್ನು ಆಧಾರಿಸಿದ ಮುಕ್ತವಾಗಿದೆ ಆಗಮನೆಗಳನ್ನು ಆತನ್ನು ಆಧಾರಿಸಿದ ಮುಕ್ತವಾಗಿದೆ ಆಗಮನೆಗಳನ್ನು ಆತನ್ನು ಆಧಾರಿಸಿದ ಮುಕ್ತವಾಗಿದೆ ಆಗಮನೆಗಳನ್ನು ಆತನ್ನು ಆಧಾರಿಸಿದ ಮುಕ್ತವಾಗಿದೆ ಆಗಮನೆಗಳನ್ನು ಆತನ್ನು ಆಧಾರಿಸಿದ ಮುಕ್ತವಾಗಿದೆ ಆಗಮನೆಗಳನ್ನು ಆತನ್ನು ಆಧಾರಿಸಿದ ಮುಕ್ತವಾಗಿದೆ ಆಗಮನೆಗಳನ್ನು ಆತನ್ನು ಆಧಾರಿಸಿದ ಮುಕ್ತವಾಗಿದೆ ಆಗಮನೆಗಳನ್ನು ಆತನ್ನು ಆಧಾರಿಸಿದ ಮುಕ್ತವಾಗಿದೆ ಆಗಮನೆಗಳನ್ನು ಆತನ್ನು ಆಧಾರಿಸಿದ ಮುಕ್ತವಾಗಿದೆ ಆಗಮನೆಗಳನ್ನು ಆತನ್ನು ಆಧಾರಿಸಿದ ಮುಕ್ತವಾಗಿದೆ ಆಗಮನೆಗಳನ್ನು ಆತನ್ನು ಆಧಾರಿಸಿದ ಮುಕ್ತವಾಗಿದೆ ಆಗಮನೆಗಳನ್ನು ಆತನ್ನು ಆಧಾರಿಸಿದ ಮುಕ್ತವಾಗಿದೆ ಆಗಮನೆಗಳನ್ನು ಆತನ್ನು ಆಧಾರಿಸಿದ ಮುಕ್ತವಾಗಿದೆ ಆಗಮನೆಗಳನ್ನು ಆತನ್ನು ಆಧಾರಿಸಿದ ಮುಕ್ತವಾಗಿದೆ ಆಗಮನೆಗಳನ್ನು ಆತನ್ನು ಆಧಾರಿಸಿದ ಮುಕ್ತವಾಗಿದೆ ಆಗಮನೆಗಳನ್ನು ಆತನ್ನು ಆಧಾರಿಸಿದ ಮುಕ್ತವಾಗಿದೆ ಆಗಮನೆಗಳನ್ನು ಆತನ್ನು ಆಧಾರಿಸಿದ ಮುಕ್ತವಾಗಿದೆ ಆಗಮನೆಗಳನ್ನು ಆತನ್ನು ಆಧಾರಿಸಿದ ಮುಕ್ತವಾಗಿದೆ ಆಗಮನೆಗಳನ್ನು ಆತನ್ನು ಆಧಾರಿಸಿದ ಮುಕ್ತವಾಗಿದೆ ಆಗಮನೆಗಳನ್ನು ಆತನ್ನು ಆಧಾರಿಸಿದ ಮುಕ್ತವಾಗಿದೆ ಆಗಮನೆಗಳನ್ನು ಆತನ್ನು ಆಧಾರಿಸಿದ ಮುಕ್ತವಾಗಿದೆ ಆಗಮನೆಗಳನ್ನು ಆತನ್ನು ಆಧಾರಿಸಿದ ಮುಕ್ತವಾಗಿದೆ ಆಗಮನೆಗಳನ್ನು ಆತನ್ನು ಆಧಾರಿಸಿದ ಮುಕ್ತವಾಗಿದೆ ಆಗಮನೆಗಳನ್ನು ಆತನ್ನು ಆಧಾ'"
      ]
     },
     "execution_count": 186,
     "metadata": {},
     "output_type": "execute_result"
    }
   ],
   "source": [
    "translated_summary"
   ]
  },
  {
   "cell_type": "code",
   "execution_count": null,
   "id": "add450a0",
   "metadata": {},
   "outputs": [],
   "source": [
    "'\\n\\nPoints in Kannada:\\n\\n1. ಈ ವಿಜಯಟ್ಟು, ಮಾತ್ರಾಧಿಕಾರಿಯೇ ಆವ್ಯಹಿತ ಒಳಗೆ ಮುಕ್ತವಾಗಿದೆ ಆವ್ಯಹಿತ ಗ್ರಾಫ್ ಪ್ರಭಾವಃ ಕಳ್ಯಾನ್ಟಿಕೆ ಅಪ್ಯಾಯಃ, AND/OR ಗ್ರಾಫ್ ಅನುಸಾರವಾಗಿತು.\\n2. AND/OR ಗ್ರಾಫ್ ಮೆಘಲೆಗೆ ಆವಶ್ಯಕತೆಗಳು ಅತ್ಯಂತ ಕಳಿಸುತ್ತಿರುವವನ್ನು ಶೋಧಿಸಲು ಸಶ್ಯಮಾನ ಶೈಥಿಯಾಧಿಕರಣವನ್ನು ಆಧಾರಿಸಿತು. ಆ ಶೈಥಿಯಾಧಿಕರಣದ ಸಮಧಾನೆಗಳು ಸಶ್ಯಮಾನ ಮೂಲ್ಯದ ಆಗಮನೆಗಳಾದರು.\\n3. AO* ಅಲಗ್ಗದ ಆಧಾರಿತ ಮುಕ್ತವಾಗಿದೆ ಆವ್ಯಹಿತ ಶೈಥಿಯಾಧಿಕರಣದ ಆಗಮನೆಗಳನ್ನು ಪರಿಕ್ಷಪಿಸಿತು. ಆ ಶೈಥಿಯಾಧಿಕರಣ ಮತ್ತು ಮೂಲ್ಯವನ್ನು ಆತನ್ನು ಮೊದಲು ಹಾಗೂ ಮತ್ತು ಹೆಚ್ಚಿನ ಆದರೆಗಳನ್ನು ಆಕಾರ್ಷಿಕ ಮುಕ್ತವಾಗಿದೆ ಆಗಮನೆಗಳನ್ನು ಶ್ರೇಷಠಿಕಾಗಿ ಅಪ್ಯಾಯಿಸಿತು.\\n4. AO* ಅಲಗ್ಗದ ಮತ್ತು A* ಅಲಗ್ಗಗಳು ಇನ್ಫೋರ್ಮಡ್ ಸರ್ಚ್ ಟೆಕ್ನಿಕ್ಗಳು ಆಗತೆ, AO* ಅಲಗ್ಗದೆ ಸಶ್ಯಮಾನ ಆಧಾರಿತ ಶೈಥಿಯಾಧಿಕರಣನ ಮತ್ತು ಆ ಆಗಮನೆಗಳಿಗೆ ಆಧಾರಿತ ಮುಕ್ತವಾಗಿದೆ ಹೆಚ್ಚಿನ ಶೈಥಿಯಾಧಿಕರಣಗಳನ್ನು ಶೋಧಿಸಲು ಆತನ್ನು ಅನುಮತ್ತಾಗಿತು. A* ಅಲಗ್ಗದೆ ಸಶ್ಯಮಾನ ಆಧಾರಿತ ಶೈಥಿಯಾಧಿಕರಣದ ಆಗಮನೆಗಳಿಗೆ ಮತ್ತು ಆ ಆಗಮನೆಗಳಿಗೆ ಆಧಾರಿತ ಮುಕ್ತವಾಗಿದೆ ಆತನ್ನು ಅನುಮತ್ತನ್ನು ಬಿಟ್ಟಲಿಲ್ಲ.\\n5. ಈ ಅಲಗ್ಗದ ಆಗಮನೆಗಳನ್ನು ಹಾಗೂ ಆ ಆಗಮನೆಗಳಿಗೆ ಆಧಾರಿತ ಮುಕ್ತವಾಗಿದೆ ಆಧಾರಿತ ಮುಕ್ತವಾಗಿದೆ ಆಧಾರಿತ ಮುಕ್ತವಾಗಿದೆ ಆಧಾರಿತ ಮುಕ್ತವಾಗಿದೆ ಶೈಥಿಯಾಧಿಕರಣಗಳನ್ನು ಹಾಗೂ ಆ ಆಗಮನೆಗಳಿಗೆ ಆಧಾರಿತ ಮುಕ್ತವಾಗಿದೆ ಮುಕ್ತವಾಗಿದೆ ಆಧಾರಿತ ಮುಕ್ತವಾಗಿದೆ ಆಧಾರಿತ ಮುಕ್ತವಾಗಿದೆ ಮುಕ್ತವಾಗಿದೆ ಆಧಾರಿತ ಮುಕ್ತವಾಗಿದೆ ಆಗಮನೆಗಳನ್ನು ಆತನ್ನು ಅಪ್ಯಾಯಿಸಿತು.\\n6. AO* ಅಲಗ್ಗದಿಂದ ಮತ್ತು ಆ ಆಗಮನೆಗಳಿಗೆ ಆಧಾರಿತ ಮುಕ್ತವಾಗಿದೆ ಆಗಮನೆಗಳನ್ನು ಆತನ್ನು ಆಧಾರಿತ ಮುಕ್ತವಾಗಿದೆ ಶೈಥಿಯಾಧಿಕರಣಗಳನ್ನು ಆತನ್ನು ಆಧಾರಿಸಿತು. ಆ ಆಗಮನೆಗಳನ್ನು ಆತನ್ನು ಆಧಾರಿಸಿದ ಮುಕ್ತವಾಗಿದೆ ಆಗಮನೆಗಳನ್ನು ಆತನ್ನು ಆಧಾರಿಸಿದ ಮುಕ್ತವಾಗಿದೆ ಆಗಮನೆಗಳನ್ನು ಆತನ್ನು ಆಧಾರಿಸಿದ ಮುಕ್ತವಾಗಿದೆ ಆಗಮನೆಗಳನ್ನು ಆತನ್ನು ಆಧಾರಿಸಿದ ಮುಕ್ತವಾಗಿದೆ ಆಗಮನೆಗಳನ್ನು ಆತನ್ನು ಆಧಾರಿಸಿದ ಮುಕ್ತವಾಗಿದೆ ಆಗಮನೆಗಳನ್ನು ಆತನ್ನು ಆಧಾರಿಸಿದ ಮುಕ್ತವಾಗಿದೆ ಆಗಮನೆಗಳನ್ನು ಆತನ್ನು ಆಧಾರಿಸಿದ ಮುಕ್ತವಾಗಿದೆ ಆಗಮನೆಗಳನ್ನು ಆತನ್ನು ಆಧಾರಿಸಿದ ಮುಕ್ತವಾಗಿದೆ ಆಗಮನೆಗಳನ್ನು ಆತನ್ನು ಆಧಾರಿಸಿದ ಮುಕ್ತವಾಗಿದೆ ಆಗಮನೆಗಳನ್ನು ಆತನ್ನು ಆಧಾರಿಸಿದ ಮುಕ್ತವಾಗಿದೆ ಆಗಮನೆಗಳನ್ನು ಆತನ್ನು ಆಧಾರಿಸಿದ ಮುಕ್ತವಾಗಿದೆ ಆಗಮನೆಗಳನ್ನು ಆತನ್ನು ಆಧಾರಿಸಿದ ಮುಕ್ತವಾಗಿದೆ ಆಗಮನೆಗಳನ್ನು ಆತನ್ನು ಆಧಾರಿಸಿದ ಮುಕ್ತವಾಗಿದೆ ಆಗಮನೆಗಳನ್ನು ಆತನ್ನು ಆಧಾರಿಸಿದ ಮುಕ್ತವಾಗಿದೆ ಆಗಮನೆಗಳನ್ನು ಆತನ್ನು ಆಧಾರಿಸಿದ ಮುಕ್ತವಾಗಿದೆ ಆಗಮನೆಗಳನ್ನು ಆತನ್ನು ಆಧಾರಿಸಿದ ಮುಕ್ತವಾಗಿದೆ ಆಗಮನೆಗಳನ್ನು ಆತನ್ನು ಆಧಾರಿಸಿದ ಮುಕ್ತವಾಗಿದೆ ಆಗಮನೆಗಳನ್ನು ಆತನ್ನು ಆಧಾರಿಸಿದ ಮುಕ್ತವಾಗಿದೆ ಆಗಮನೆಗಳನ್ನು ಆತನ್ನು ಆಧಾರಿಸಿದ ಮುಕ್ತವಾಗಿದೆ ಆಗಮನೆಗಳನ್ನು ಆತನ್ನು ಆಧಾರಿಸಿದ ಮುಕ್ತವಾಗಿದೆ ಆಗಮನೆಗಳನ್ನು ಆತನ್ನು ಆಧಾರಿಸಿದ ಮುಕ್ತವಾಗಿದೆ ಆಗಮನೆಗಳನ್ನು ಆತನ್ನು ಆಧಾರಿಸಿದ ಮುಕ್ತವಾಗಿದೆ ಆಗಮನೆಗಳನ್ನು ಆತನ್ನು ಆಧಾರಿಸಿದ ಮುಕ್ತವಾಗಿದೆ ಆಗಮನೆಗಳನ್ನು ಆತನ್ನು ಆಧಾರಿಸಿದ ಮುಕ್ತವಾಗಿದೆ ಆಗಮನೆಗಳನ್ನು ಆತನ್ನು ಆಧಾರಿಸಿದ ಮುಕ್ತವಾಗಿದೆ ಆಗಮನೆಗಳನ್ನು ಆತನ್ನು ಆಧಾರಿಸಿದ ಮುಕ್ತವಾಗಿದೆ ಆಗಮನೆಗಳನ್ನು ಆತನ್ನು ಆಧಾರಿಸಿದ ಮುಕ್ತವಾಗಿದೆ ಆಗಮನೆಗಳನ್ನು ಆತನ್ನು ಆಧಾರಿಸಿದ ಮುಕ್ತವಾಗಿದೆ ಆಗಮನೆಗಳನ್ನು ಆತನ್ನು ಆಧಾರಿಸಿದ ಮುಕ್ತವಾಗಿದೆ ಆಗಮನೆಗಳನ್ನು ಆತನ್ನು ಆಧಾರಿಸಿದ ಮುಕ್ತವಾಗಿದೆ ಆಗಮನೆಗಳನ್ನು ಆತನ್ನು ಆಧಾರಿಸಿದ ಮುಕ್ತವಾಗಿದೆ ಆಗಮನೆಗಳನ್ನು ಆತನ್ನು ಆಧಾರಿಸಿದ ಮುಕ್ತವಾಗಿದೆ ಆಗಮನೆಗಳನ್ನು ಆತನ್ನು ಆಧಾರಿಸಿದ ಮುಕ್ತವಾಗಿದೆ ಆಗಮನೆಗಳನ್ನು ಆತನ್ನು ಆಧಾರಿಸಿದ ಮುಕ್ತವಾಗಿದೆ ಆಗಮನೆಗಳನ್ನು ಆತನ್ನು ಆಧಾರಿಸಿದ ಮುಕ್ತವಾಗಿದೆ ಆಗಮನೆಗಳನ್ನು ಆತನ್ನು ಆಧಾರಿಸಿದ ಮುಕ್ತವಾಗಿದೆ ಆಗಮನೆಗಳನ್ನು ಆತನ್ನು ಆಧಾರಿಸಿದ ಮುಕ್ತವಾಗಿದೆ ಆಗಮನೆಗಳನ್ನು ಆತನ್ನು ಆಧಾರಿಸಿದ ಮುಕ್ತವಾಗಿದೆ ಆಗಮನೆಗಳನ್ನು ಆತನ್ನು ಆಧಾರಿಸಿದ ಮುಕ್ತವಾಗಿದೆ ಆಗಮನೆಗಳನ್ನು ಆತನ್ನು ಆಧಾರಿಸಿದ ಮುಕ್ತವಾಗಿದೆ ಆಗಮನೆಗಳನ್ನು ಆತನ್ನು ಆಧಾರಿಸಿದ ಮುಕ್ತವಾಗಿದೆ ಆಗಮನೆಗಳನ್ನು ಆತನ್ನು ಆಧಾರಿಸಿದ ಮುಕ್ತವಾಗಿದೆ ಆಗಮನೆಗಳನ್ನು ಆತನ್ನು ಆಧಾರಿಸಿದ ಮುಕ್ತವಾಗಿದೆ ಆಗಮನೆಗಳನ್ನು ಆತನ್ನು ಆಧಾರಿಸಿದ ಮುಕ್ತವಾಗಿದೆ ಆಗಮನೆಗಳನ್ನು ಆತನ್ನು ಆಧಾರಿಸಿದ ಮುಕ್ತವಾಗಿದೆ ಆಗಮನೆಗಳನ್ನು ಆತನ್ನು ಆಧಾರಿಸಿದ ಮುಕ್ತವಾಗಿದೆ ಆಗಮನೆಗಳನ್ನು ಆತನ್ನು ಆಧಾರಿಸಿದ ಮುಕ್ತವಾಗಿದೆ ಆಗಮನೆಗಳನ್ನು ಆತನ್ನು ಆಧಾರಿಸಿದ ಮುಕ್ತವಾಗಿದೆ ಆಗಮನೆಗಳನ್ನು ಆತನ್ನು ಆಧಾ'"
   ]
  }
 ],
 "metadata": {
  "kernelspec": {
   "display_name": "Python 3 (ipykernel)",
   "language": "python",
   "name": "python3"
  },
  "language_info": {
   "codemirror_mode": {
    "name": "ipython",
    "version": 3
   },
   "file_extension": ".py",
   "mimetype": "text/x-python",
   "name": "python",
   "nbconvert_exporter": "python",
   "pygments_lexer": "ipython3",
   "version": "3.10.9"
  }
 },
 "nbformat": 4,
 "nbformat_minor": 5
}
